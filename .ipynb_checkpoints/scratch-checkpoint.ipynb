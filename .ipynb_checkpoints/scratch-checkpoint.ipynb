{
 "cells": [
  {
   "cell_type": "markdown",
   "id": "09482650-b3d5-4bdc-9376-912fa337238a",
   "metadata": {},
   "source": [
    "# HappyCustomer - An Apziva Project"
   ]
  },
  {
   "cell_type": "markdown",
   "id": "8fc6cc16-c3c5-46ac-ad8d-35ea83e4be53",
   "metadata": {},
   "source": [
    "By Samuel Alter"
   ]
  },
  {
   "cell_type": "markdown",
   "id": "3b438303-116f-483c-b218-b7348beda729",
   "metadata": {},
   "source": [
    "This project centers on a customer survey dataset from a delivery company. The dataset consists of the following:\n",
    "* `Y`: The target attribute, indicating whether the customer noted their happiness or unhappiness\n",
    "* `X1`: Order was delivered on time\n",
    "* `X2`: Contents of the order was as expected\n",
    "* `X3`: I ordered everything that I wanted to order\n",
    "* `X4`: I paid a good price for my order\n",
    "* `X5`: I am satisfied with my courier\n",
    "* `X6`: The app makes ordering easy for me\n",
    "\n",
    "Attributes `X1` through `X6` are on a 1 to 5 scale, with 5 indicating most agreement with the statement."
   ]
  },
  {
   "cell_type": "markdown",
   "id": "6761ac48-5842-435d-aa47-8bd099214770",
   "metadata": {},
   "source": [
    "The goals of this project are to train a model that predicts whether a customer is happy or not, based on their answers to the survey. Specifically, I am to reach 73% accuracy or higher with my modeling, or explain why my solution is superior."
   ]
  },
  {
   "cell_type": "markdown",
   "id": "0bccb0cf-a9fc-4b3d-9347-299b3af6595a",
   "metadata": {},
   "source": [
    "A stretch goal would be to determine which features are more important when predicting a customer's happiness. What is the minimal set of attributes or features that would preserve the most information about the problem, while at the same time increasing predictability? The aim here is to see if any question can be eliminated in the next survey round.\n",
    "\n",
    "The statistical analysis of the features can be found in the [Statistical Modeling](#statistical_modeling) section at the end of this document."
   ]
  },
  {
   "cell_type": "markdown",
   "id": "30c393b3-1d1a-417f-bbe7-ecc0dac7c82d",
   "metadata": {
    "tags": []
   },
   "source": [
    "## Setup and Imports"
   ]
  },
  {
   "cell_type": "code",
   "execution_count": null,
   "id": "85a85940-53be-40bb-9dc6-7a5ab6bc2b33",
   "metadata": {},
   "outputs": [],
   "source": [
    "import pandas as pd\n",
    "import numpy as np\n",
    "import matplotlib.pyplot as plt\n",
    "import seaborn as sns"
   ]
  },
  {
   "cell_type": "code",
   "execution_count": null,
   "id": "4074b8d8-7d25-45db-8a58-39df5dede5c7",
   "metadata": {},
   "outputs": [],
   "source": [
    "df=pd.read_csv('../data/ACME-HappinessSurvey2020.csv')\n",
    "df.sample(5)"
   ]
  },
  {
   "cell_type": "markdown",
   "id": "48212e82-f0fe-4095-865d-fcb3995b78b7",
   "metadata": {},
   "source": [
    "Let's rename the columns to make them more intuitive."
   ]
  },
  {
   "cell_type": "code",
   "execution_count": null,
   "id": "00ae1131-5011-4b45-af2c-99c1b872cc47",
   "metadata": {},
   "outputs": [],
   "source": [
    "df.rename(columns={'Y':'y',\n",
    "                   'X1':'a_time',\n",
    "                   'X2':'b_contents',\n",
    "                   'X3':'c_complete',\n",
    "                   'X4':'d_price',\n",
    "                   'X5':'e_courier',\n",
    "                   'X6':'f_app'},inplace=True)\n",
    "\n",
    "# using alphabet prefixes to ensure correct order of columns"
   ]
  },
  {
   "cell_type": "markdown",
   "id": "cca4024f-59bc-4d3e-8bfc-9105cd5d038b",
   "metadata": {},
   "source": [
    "## EDA"
   ]
  },
  {
   "cell_type": "code",
   "execution_count": null,
   "id": "38fd086b-6948-4487-a8aa-51b50b2dafa9",
   "metadata": {},
   "outputs": [],
   "source": [
    "print(f\"There are {df.shape[0]} rows and {df.shape[1]} columns in the dataset\")"
   ]
  },
  {
   "cell_type": "code",
   "execution_count": null,
   "id": "5f6fe716-b036-49bb-ad5b-159fa4095cb6",
   "metadata": {},
   "outputs": [],
   "source": [
    "df.describe()"
   ]
  },
  {
   "cell_type": "markdown",
   "id": "1986a0db-59e8-4900-8caa-6c73ac59128f",
   "metadata": {},
   "source": [
    "It seems like most of the participants in the survey were happy about the time it took to receive the order and app experience, but all of this will require more exploration."
   ]
  },
  {
   "cell_type": "code",
   "execution_count": null,
   "id": "a9f095e8-6a8d-472e-a762-12969fb7c1db",
   "metadata": {},
   "outputs": [],
   "source": [
    "df['y'].value_counts()"
   ]
  },
  {
   "cell_type": "code",
   "execution_count": null,
   "id": "4b2750ab-a44c-4704-8a35-8ecdee8b9688",
   "metadata": {},
   "outputs": [],
   "source": [
    "# data labels\n",
    "x=[0,1]\n",
    "y=[df['y'].value_counts()[0],df['y'].value_counts()[1]]\n",
    "\n",
    "plt.figure(figsize=(6, 4))\n",
    "ax=sns.countplot(data=df, x='y',zorder=3,)\n",
    "plt.title('Distribution of Customer Happiness in Target (y)')\n",
    "plt.xlabel('Target Values\\n0: Unhappy, 1: Happy')\n",
    "plt.ylabel('Count')\n",
    "ax.yaxis.grid(True,zorder=0)\n",
    "for i in range(len(x)):\n",
    "    plt.text(i, y[i], y[i], ha = 'center')\n",
    "plt.savefig('../figs/1_ydistribution.pdf')\n",
    "plt.savefig('../figs/1_ydistribution.png')\n",
    "plt.show()"
   ]
  },
  {
   "cell_type": "code",
   "execution_count": null,
   "id": "465dda52-bd62-4ba9-ba2c-a2a17a1991c9",
   "metadata": {},
   "outputs": [],
   "source": [
    "print(f\"In the dataset, {round(df['y'].value_counts()[1]/df['y'].shape[0]*100,2)}% of respondents were happy,\\nwhile {round(df['y'].value_counts()[0]/df['y'].shape[0]*100,0)}% of respondents were unhappy.\")"
   ]
  },
  {
   "cell_type": "code",
   "execution_count": null,
   "id": "f1ec1076-4028-42de-b776-81cb795f1796",
   "metadata": {},
   "outputs": [],
   "source": [
    "# prepare X data for plotting\n",
    "col_list=[]\n",
    "\n",
    "for i in df.columns:\n",
    "    col_list.append(i)\n",
    "    \n",
    "col_list.remove('y')\n",
    "\n",
    "df_melted=df.melt(value_vars=col_list,var_name='Variable',value_name='Value')\n",
    "\n",
    "# calculate mean value per variable\n",
    "mean_values=df_melted.groupby('Variable')['Value'].mean().to_dict()"
   ]
  },
  {
   "cell_type": "code",
   "execution_count": null,
   "id": "452faf25-0051-410f-97b7-300825134d0a",
   "metadata": {},
   "outputs": [],
   "source": [
    "mean_values"
   ]
  },
  {
   "cell_type": "code",
   "execution_count": null,
   "id": "e681b921-5257-4441-911b-ce9812bc44d2",
   "metadata": {},
   "outputs": [],
   "source": [
    "# create custom labels for following figure\n",
    "labels=[f\"{variable}: {mean_values[variable]:.2f}\" for variable in mean_values.keys()]\n",
    "labels"
   ]
  },
  {
   "cell_type": "code",
   "execution_count": null,
   "id": "32873226-c673-459d-9e9f-d3a4a3aad3a9",
   "metadata": {},
   "outputs": [],
   "source": [
    "df_melted['Variable'].value_counts()"
   ]
  },
  {
   "cell_type": "code",
   "execution_count": null,
   "id": "f4f2f862-283f-454c-aefe-d42cd616c30c",
   "metadata": {},
   "outputs": [],
   "source": [
    "xlabs=['Delivery Time',\n",
    "       'Contents of Order',\n",
    "       'Order Completeness',\n",
    "       'Price for Order',\n",
    "       'Satisfaction with Courier',\n",
    "       'Satisfaction with App Experience']"
   ]
  },
  {
   "cell_type": "code",
   "execution_count": null,
   "id": "3b38765a-6790-4792-8030-c4fbe65e1c58",
   "metadata": {},
   "outputs": [],
   "source": [
    "# plot distribution of survey results\n",
    "\n",
    "plt.figure(figsize=(12,8))\n",
    "ax=sns.countplot(data=df_melted,x='Variable',hue='Value')\n",
    "plt.suptitle('Count of Survey Results for Each Survey Question\\n1 being least satisfied and 5 being most satisfied')\n",
    "plt.xlabel('Survey Question')\n",
    "plt.ylabel('Count')\n",
    "ax.set_axisbelow(True)\n",
    "ax.yaxis.grid(True,which='major')\n",
    "ax.set_xticklabels(xlabs)\n",
    "plt.xticks(rotation=30)\n",
    "plt.legend(title='Response',loc='upper left')\n",
    "plt.tight_layout()\n",
    "plt.savefig('./figs/1_xdistribution.pdf')\n",
    "plt.savefig('./figs/1_xdistribution.png')\n",
    "plt.show()"
   ]
  },
  {
   "cell_type": "code",
   "execution_count": null,
   "id": "0d63ad03-469a-4b65-99b2-0e4c970715a7",
   "metadata": {},
   "outputs": [],
   "source": [
    "# setup labels for mean values\n",
    "\n",
    "mean_values=df_melted.groupby('Variable')['Value'].mean()\n",
    "mean_values=mean_values.round(decimals=2)\n",
    "mean_values"
   ]
  },
  {
   "cell_type": "code",
   "execution_count": null,
   "id": "7726fa6a-76f8-452d-b8fa-207f698c73ba",
   "metadata": {},
   "outputs": [],
   "source": [
    "# data labels\n",
    "x=[i for i in np.arange(6)]\n",
    "y=[mean_values[i] for i in np.arange(6)]"
   ]
  },
  {
   "cell_type": "code",
   "execution_count": null,
   "id": "2d98979b-df82-4934-b516-c332c9cd3978",
   "metadata": {},
   "outputs": [],
   "source": [
    "plt.figure(figsize=(10,6))\n",
    "ax=sns.barplot(data=df_melted,x='Variable',y='Value',ci=None,color='coral')\n",
    "plt.tight_layout(pad=10)\n",
    "# plot labels\n",
    "for i in range(len(x)):\n",
    "    plt.text(i, y[i], y[i], ha='center')\n",
    "ax.set_xticklabels(xlabs,rotation=30)\n",
    "ax.set_title('Mean Response to Survey Question')\n",
    "ax.set_ylabel('Mean Response')\n",
    "ax.set_xlabel('Survey Question')\n",
    "plt.savefig('./figs/1_xmeandistribution.pdf')\n",
    "plt.savefig('./figs/1_xmeandistribution.png')\n",
    "plt.show()"
   ]
  },
  {
   "cell_type": "markdown",
   "id": "3ffb909a-7fad-4779-9a4a-e2d10cd7d413",
   "metadata": {},
   "source": [
    "The delivery time and app experience had the highest mean satisfaction in the survey, with the contents having the lowest overall."
   ]
  },
  {
   "cell_type": "markdown",
   "id": "a0b4834a-8b39-4225-8a20-42e842ff6dd2",
   "metadata": {},
   "source": [
    "### Correlation Matrix"
   ]
  },
  {
   "cell_type": "code",
   "execution_count": null,
   "id": "f79d491e-06c2-40c8-b418-b229c9398169",
   "metadata": {
    "tags": []
   },
   "outputs": [],
   "source": [
    "# Compute the correlation matrix\n",
    "corr = df.corr()\n",
    "\n",
    "# Generate a mask for the upper triangle\n",
    "mask = np.triu(np.ones_like(corr, dtype=bool))\n",
    "\n",
    "# Set up the matplotlib figure\n",
    "f,ax = plt.subplots(figsize=(10, 8))\n",
    "\n",
    "# Generate a custom diverging colormap\n",
    "# cmap = sns.diverging_palette(230, 20, as_cmap=True)\n",
    "\n",
    "# Draw the heatmap with the mask and correct aspect ratio\n",
    "sns.heatmap(corr, mask=mask, cmap='coolwarm', vmax=.3, center=0,\n",
    "            square=True, linewidths=.5, annot=True,\n",
    "            cbar_kws={\"shrink\": .5})\n",
    "plt.title('Correlation Matrix\\nHigher absolute value indicates stronger correlation')\n",
    "plt.tight_layout()\n",
    "\n",
    "# save fig\n",
    "plt.savefig('./figs/1_corrmatrix.pdf')\n",
    "plt.savefig('./figs/1_corrmatrix.png')"
   ]
  },
  {
   "cell_type": "markdown",
   "id": "b4f49b1a-f78a-439b-8222-68f87b16ffbb",
   "metadata": {},
   "source": [
    "The results of the correlation matrix shows that generally speaking, if one aspect of the experience is positive, the customer will rate others positive as well. One interesting correlation to highlight is the courier and time are connected, which makes sense: the courier is the person that gives you your order, and if the courier is on time you probably will rate the courier highly too."
   ]
  },
  {
   "cell_type": "markdown",
   "id": "0a540cef-234a-4fa0-ad55-40c260c7bdb9",
   "metadata": {},
   "source": [
    "## Modeling"
   ]
  },
  {
   "cell_type": "markdown",
   "id": "4096d777-ee4c-4bfc-8c40-31e8da354f83",
   "metadata": {},
   "source": [
    "Remember, our target accuracy is to be greater than or equal to 73%. The accuracy floor we need to surpass is 55%, which is the amount of happy customers in the dataset."
   ]
  },
  {
   "cell_type": "markdown",
   "id": "a63452e6-2114-4a82-83e6-b47a9dee4ee1",
   "metadata": {},
   "source": [
    "Our target variable is `y`. Our independent variables, or features, are `X1`-`X6` (delivery time, contents of order, order completeness, price for order, satisfaction with courier, and satisfaction with app experience, respectively)"
   ]
  },
  {
   "cell_type": "markdown",
   "id": "e56488f1-e668-4ea0-9b28-225e7eeeb765",
   "metadata": {},
   "source": [
    "### Note on modeling method"
   ]
  },
  {
   "cell_type": "markdown",
   "id": "ad691350-cf6f-45b5-b20e-ce72bdf7382f",
   "metadata": {},
   "source": [
    "Our target variable is binary in that the customer notes whether they are happy or not. Thus, we will be using **logistic regression** models as they will predict a yes or no, 0 or 1, happy or not happy."
   ]
  },
  {
   "cell_type": "markdown",
   "id": "a6d2f4a1-45b9-48c0-a61f-34051692e59c",
   "metadata": {},
   "source": [
    "### Setting up `X` and `y`"
   ]
  },
  {
   "cell_type": "code",
   "execution_count": null,
   "id": "cb49896d-7433-4f4d-8337-050762aefe7b",
   "metadata": {},
   "outputs": [],
   "source": [
    "X=df.drop(['y'],axis=1).to_numpy() # independent variables\n",
    "y=df[[col for col in df.columns if col == 'y']].to_numpy() # dependent variable"
   ]
  },
  {
   "cell_type": "code",
   "execution_count": null,
   "id": "044cb10d-5c33-4bee-9f98-eca875e100c2",
   "metadata": {},
   "outputs": [],
   "source": [
    "print(type(X))\n",
    "print(type(y))"
   ]
  },
  {
   "cell_type": "code",
   "execution_count": null,
   "id": "b982fa9d-85d0-49dc-80c3-1b31f072616a",
   "metadata": {},
   "outputs": [],
   "source": [
    "print(f\"The shape of the independent variables: {X.shape}\")\n",
    "print(f\"The shape of the dependent variable:   {y.shape}\")"
   ]
  },
  {
   "cell_type": "markdown",
   "id": "dc7dc20a-dc40-4d98-bd77-34554ff1d838",
   "metadata": {},
   "source": [
    "Now we must transform the dependent variable into a vector to prepare it for modeling."
   ]
  },
  {
   "cell_type": "code",
   "execution_count": null,
   "id": "36e8f21b-ff45-4dc7-8b91-9c5bdfc4c1ec",
   "metadata": {},
   "outputs": [],
   "source": [
    "y=y.reshape(-1)\n",
    "y.shape"
   ]
  },
  {
   "cell_type": "markdown",
   "id": "c6b82117-5318-47de-a50d-7be4db1d4079",
   "metadata": {},
   "source": [
    "### Basic `sklearn` Logistic Regression Model"
   ]
  },
  {
   "cell_type": "code",
   "execution_count": null,
   "id": "bb7dcbf3-ffa3-4242-ad85-a45e099140f5",
   "metadata": {},
   "outputs": [],
   "source": [
    "from sklearn.linear_model import LogisticRegression"
   ]
  },
  {
   "cell_type": "code",
   "execution_count": null,
   "id": "f730d27f-df6e-4428-bc88-4310271df665",
   "metadata": {},
   "outputs": [],
   "source": [
    "# instantiate the model\n",
    "logreg=LogisticRegression()\n",
    "\n",
    "# fit the model\n",
    "logreg.fit(X,y)\n",
    "\n",
    "# score the model\n",
    "logreg.score(X,y)"
   ]
  },
  {
   "cell_type": "code",
   "execution_count": null,
   "id": "467c89b2-be8a-4125-a96f-3915ba576a72",
   "metadata": {
    "tags": []
   },
   "outputs": [],
   "source": [
    "# intercept\n",
    "intercept = logreg.intercept_\n",
    "\n",
    "# coefficient\n",
    "coefficient = logreg.coef_[0]\n",
    "\n",
    "print(f'Intercept: {intercept}')\n",
    "print(f'Coefficients: {coefficient}')"
   ]
  },
  {
   "cell_type": "code",
   "execution_count": null,
   "id": "3f53f298-6ca6-4111-95bf-e5e67a137628",
   "metadata": {},
   "outputs": [],
   "source": [
    "print(f'The accuracy of the basic logistic regression model is {round(logreg.score(X,y)*100,2)}%.')"
   ]
  },
  {
   "cell_type": "code",
   "execution_count": null,
   "id": "9192fda7-50b0-4223-a7cd-5b6b2cd9f9a6",
   "metadata": {},
   "outputs": [],
   "source": [
    "print(f\"The floor is {round(y.sum()/y.shape[0]*100,2)}%.\")"
   ]
  },
  {
   "cell_type": "markdown",
   "id": "c37b7605-dbb6-4c06-a4ec-cf158166f71b",
   "metadata": {},
   "source": [
    "Although the model posted a higher accuracy than the basic structure of the datset, we have a long way to go still."
   ]
  },
  {
   "cell_type": "markdown",
   "id": "3f35227e-e02d-495e-872e-aacc33613406",
   "metadata": {},
   "source": [
    "### Second attempt: Using Train/Test Split, `stratify`, and Scaling"
   ]
  },
  {
   "cell_type": "markdown",
   "id": "44da0655-e5ae-4187-ae46-66115fac906a",
   "metadata": {},
   "source": [
    "Train/Test split ensures that the model does not overfit on the data and that the model is broadly applicable to the survey. Other additions:\n",
    "* Stratify the data. This ensures that there is the same distribution of happy and unhappy customers in the training and test splits.\n",
    "* Scaling the data. This is necessary since we are using logistic regression models, which assume or prefer that the data is in a normal distribution."
   ]
  },
  {
   "cell_type": "code",
   "execution_count": null,
   "id": "0f07a6ce-c4b3-4f6e-abdf-e22db765d034",
   "metadata": {
    "tags": []
   },
   "outputs": [],
   "source": [
    "from sklearn.model_selection import train_test_split\n",
    "\n",
    "from sklearn.preprocessing import StandardScaler\n",
    "from sklearn.preprocessing import MinMaxScaler\n",
    "from sklearn.preprocessing import RobustScaler"
   ]
  },
  {
   "cell_type": "code",
   "execution_count": null,
   "id": "a615f5a4-5b9c-42a9-a57a-c4c39046611e",
   "metadata": {
    "tags": []
   },
   "outputs": [],
   "source": [
    "X_train, X_test, y_train, y_test = train_test_split(X, y, test_size=0.2, stratify=y)\n",
    "print(f'''X_train shape: {X_train.shape}\n",
    "X_test shape:  {X_test.shape}\n",
    "y_train shape: {y_train.shape}\n",
    "y_test shape:  {y_test.shape}''')"
   ]
  },
  {
   "cell_type": "code",
   "execution_count": null,
   "id": "9c55f394-dc8e-487c-b0d1-3925e84ea5ef",
   "metadata": {},
   "outputs": [],
   "source": [
    "type(X_train)"
   ]
  },
  {
   "cell_type": "code",
   "execution_count": null,
   "id": "f8beba41-ae89-41d7-80b2-7e9e24555b29",
   "metadata": {},
   "outputs": [],
   "source": [
    "# save X_train, X_test, etc. to separate .csv\n",
    "# so that we can use the same splits in different environments\n",
    "\n",
    "doc_list = [X_train, X_test, y_train, y_test]\n",
    "doc_names = ['X_train', 'X_test', 'y_train', 'y_test']\n",
    "\n",
    "for i, doc in enumerate(doc_list):\n",
    "    pd.DataFrame(doc).to_csv(f'../data/1_{doc_names[i]}.csv', index=False)"
   ]
  },
  {
   "cell_type": "markdown",
   "id": "878828ea-d0fd-4287-b357-d408340bbd67",
   "metadata": {},
   "source": [
    "Let's try all three scaling methods."
   ]
  },
  {
   "cell_type": "code",
   "execution_count": null,
   "id": "a7fdcc4b-f823-45e7-81f8-36505492a280",
   "metadata": {},
   "outputs": [],
   "source": [
    "# \n",
    "# Standard scaler\n",
    "# \n",
    "\n",
    "# instantiate scaler\n",
    "ss=StandardScaler()\n",
    "\n",
    "# fit scaler to X_train data\n",
    "ss=ss.fit(X_train)\n",
    "\n",
    "# transform X_train and X_test data with fitted scaler\n",
    "X_train_ss=ss.transform(X_train)\n",
    "X_test_ss=ss.transform(X_test)\n",
    "\n",
    "col_names=df.drop(['y'],axis=1).columns\n",
    "X_train_ss_df = pd.DataFrame(X_train_ss, columns=col_names)"
   ]
  },
  {
   "cell_type": "code",
   "execution_count": null,
   "id": "6561f4ab-aa91-4750-a89b-cfa332de1928",
   "metadata": {},
   "outputs": [],
   "source": [
    "# \n",
    "# MinMax scaler\n",
    "# \n",
    "\n",
    "# instantiate scaler\n",
    "mm=MinMaxScaler()\n",
    "\n",
    "# fit scaler to X_train data\n",
    "mm=mm.fit(X_train)\n",
    "\n",
    "# transform X_train and X_test data with fitted scaler\n",
    "X_train_mm=mm.transform(X_train)\n",
    "X_test_mm=mm.transform(X_test)\n",
    "\n",
    "\n",
    "col_names=df.drop(['y'],axis=1).columns\n",
    "X_train_mm_df = pd.DataFrame(X_train_mm, columns=col_names)"
   ]
  },
  {
   "cell_type": "code",
   "execution_count": null,
   "id": "7a9e2436-ffe1-4d87-82b6-83aa5ab9960d",
   "metadata": {},
   "outputs": [],
   "source": [
    "# \n",
    "# Robust scaler\n",
    "# \n",
    "\n",
    "# instantiate scaler\n",
    "rs=RobustScaler()\n",
    "\n",
    "# fit scaler to X_train data\n",
    "rs=rs.fit(X_train)\n",
    "\n",
    "# transform X_train and X_test data with fitted scaler\n",
    "X_train_rs=rs.transform(X_train)\n",
    "X_test_rs=rs.transform(X_test)\n",
    "\n",
    "col_names=df.drop(['y'],axis=1).columns\n",
    "X_train_rs_df = pd.DataFrame(X_train_rs, columns=col_names)"
   ]
  },
  {
   "cell_type": "markdown",
   "id": "52f54c4e-f051-4856-8a29-7bb9f9151b15",
   "metadata": {},
   "source": [
    "Visualize the scalers' effect on the data:"
   ]
  },
  {
   "cell_type": "code",
   "execution_count": null,
   "id": "d52bc82c-e250-4b65-ab8b-cd47e99875ed",
   "metadata": {},
   "outputs": [],
   "source": [
    "col_names = df.drop(['y'],axis=1).columns\n",
    "plot_num = 1\n",
    "\n",
    "plt.subplots(6,4, figsize=(20,50))\n",
    "\n",
    "for col in col_names:\n",
    "    \n",
    "    # colors chosen to be intepretable by different color blindness\n",
    "    \n",
    "    plt.subplot(6,4,plot_num)\n",
    "    sns.histplot(df[col], color=\"orange\", alpha=0.5).set_title('Unscaled')\n",
    "    \n",
    "    plot_num +=1\n",
    "    \n",
    "    plt.subplot(6,4,plot_num)\n",
    "    sns.histplot(X_train_ss_df[col], color=\"royalblue\").set_title('Standard scaler')\n",
    "    \n",
    "    plot_num +=1\n",
    "    \n",
    "    plt.subplot(6,4,plot_num)\n",
    "    sns.histplot(X_train_mm_df[col], color=\"gray\").set_title('MinMax scaler')\n",
    "    \n",
    "    plot_num +=1\n",
    "    \n",
    "    plt.subplot(6,4,plot_num)\n",
    "    sns.histplot(X_train_rs_df[col], color=\"pink\").set_title('Robust scaler')\n",
    "    \n",
    "    plot_num +=1\n",
    "\n",
    "plt.tight_layout()\n",
    "plt.show()"
   ]
  },
  {
   "cell_type": "markdown",
   "id": "b02a1ba2-f06e-424a-b6c7-20723a52dc31",
   "metadata": {},
   "source": [
    "Fitting the scaled data to logistic regression:"
   ]
  },
  {
   "cell_type": "code",
   "execution_count": null,
   "id": "8b681baa-65ac-4fd0-82e6-a754dae4da4e",
   "metadata": {},
   "outputs": [],
   "source": [
    "# \n",
    "# Standard Scaler\n",
    "# \n",
    "\n",
    "lm=LogisticRegression()\n",
    "\n",
    "# fit model on scaled data\n",
    "logreg_ss=lm.fit(X_train_ss,y_train)\n",
    "\n",
    "# train accuracy\n",
    "logreg_ss_train_acc=logreg_ss.score(X_train_ss,y_train)\n",
    "# test accuracy\n",
    "logreg_ss_test_acc=logreg_ss.score(X_test_ss,y_test)\n",
    "\n",
    "print(\"Standard Scaler data:\")\n",
    "print(f\"Training accuracy: {logreg_ss_train_acc}\")\n",
    "print(f\"Test accuracy: {logreg_ss_test_acc}\")"
   ]
  },
  {
   "cell_type": "code",
   "execution_count": null,
   "id": "f76ec2af-5d9a-4045-9766-a3d857808e78",
   "metadata": {},
   "outputs": [],
   "source": [
    "# \n",
    "# MinMax Scaler\n",
    "# \n",
    "\n",
    "lm=LogisticRegression()\n",
    "\n",
    "# fit model on scaled data\n",
    "logreg = lm.fit(X_train_mm, y_train)\n",
    "# train accuracy\n",
    "logreg_mm_train_acc = logreg.score(X_train_mm, y_train)\n",
    "# test accuracy\n",
    "logreg_mm_test_acc = logreg.score(X_test_mm, y_test)\n",
    "\n",
    "print(\"MinMax Scaler data:\")\n",
    "print(f\"Training accuracy: {logreg_mm_train_acc}\")\n",
    "print(f\"Test accuracy: {logreg_mm_test_acc}\")"
   ]
  },
  {
   "cell_type": "code",
   "execution_count": null,
   "id": "655a73ad-d25f-472b-9ede-bbbb44ac0dda",
   "metadata": {},
   "outputs": [],
   "source": [
    "# \n",
    "# Robust Scaler\n",
    "# \n",
    "\n",
    "lm=LogisticRegression()\n",
    "\n",
    "# fit model on scaled data\n",
    "logreg = lm.fit(X_train_rs, y_train)\n",
    "# train accuracy\n",
    "logreg_rs_train_acc = logreg.score(X_train_rs, y_train)\n",
    "# test accuracy\n",
    "logreg_rs_test_acc = logreg.score(X_test_rs, y_test)\n",
    "\n",
    "print(\"MinMax Scaler data:\")\n",
    "print(f\"Training accuracy: {logreg_rs_train_acc}\")\n",
    "print(f\"Test accuracy: {logreg_rs_test_acc}\")"
   ]
  },
  {
   "cell_type": "markdown",
   "id": "f502e0a2-eb2d-4226-a929-3cff14918a78",
   "metadata": {},
   "source": [
    "### Next Attempt: Using Decision Trees"
   ]
  },
  {
   "cell_type": "code",
   "execution_count": null,
   "id": "d1b5aa9c-d937-45d3-891c-bf0aaec5bbe9",
   "metadata": {},
   "outputs": [],
   "source": [
    "from sklearn.tree import DecisionTreeClassifier"
   ]
  },
  {
   "cell_type": "code",
   "execution_count": null,
   "id": "f95a13da-34c7-469f-b517-3ba9c73c5fb8",
   "metadata": {},
   "outputs": [],
   "source": [
    "# instantiate model\n",
    "decision_tree=DecisionTreeClassifier()"
   ]
  },
  {
   "cell_type": "markdown",
   "id": "e9c64123-0c20-4631-9583-d608e0a954fe",
   "metadata": {},
   "source": [
    "Note: decision trees are not sensitive to scaling."
   ]
  },
  {
   "cell_type": "code",
   "execution_count": null,
   "id": "ffccfcce-42b2-4d7d-a6b5-4b2d7ad51416",
   "metadata": {},
   "outputs": [],
   "source": [
    "# fit model on unscaled data\n",
    "dtc = decision_tree.fit(X_train, y_train)\n",
    "# train accuracy\n",
    "dtc_unsc_train_acc = dtc.score(X_train, y_train)\n",
    "# test accuracy\n",
    "dtc_unsc_test_acc = dtc.score(X_test, y_test)\n",
    "\n",
    "print(\"Unscaled data:\")\n",
    "print(f\"Training accuracy: {dtc_unsc_train_acc}\")\n",
    "print(f\"Test accuracy: {dtc_unsc_test_acc}\")"
   ]
  },
  {
   "cell_type": "code",
   "execution_count": null,
   "id": "3b4cffb8-d378-4007-8f3b-d86a9057e2fb",
   "metadata": {},
   "outputs": [],
   "source": [
    "# fit model on scaled data\n",
    "dtc = decision_tree.fit(X_train_ss, y_train)\n",
    "# train accuracy\n",
    "dtc_ss_train_acc = dtc.score(X_train_ss, y_train)\n",
    "# test accuracy\n",
    "dtc_ss_test_acc = dtc.score(X_test_ss, y_test)\n",
    "\n",
    "print(\"Standard Scaler data:\")\n",
    "print(f\"Training accuracy: {dtc_ss_train_acc}\")\n",
    "print(f\"Test accuracy: {dtc_ss_test_acc}\")"
   ]
  },
  {
   "cell_type": "code",
   "execution_count": null,
   "id": "55e177b6-d12e-41db-92ac-74a45e2ace17",
   "metadata": {},
   "outputs": [],
   "source": [
    "# fit model on scaled data\n",
    "dtc = decision_tree.fit(X_train_mm, y_train)\n",
    "# train accuracy\n",
    "dtc_mm_train_acc = dtc.score(X_train_mm, y_train)\n",
    "# test accuracy\n",
    "dtc_mm_test_acc = dtc.score(X_test_mm, y_test)\n",
    "\n",
    "print(\"MinMax Scaler data\")\n",
    "print(f\"Training accuracy: {dtc_mm_train_acc}\")\n",
    "print(f\"Test accuracy: {dtc_mm_test_acc}\")"
   ]
  },
  {
   "cell_type": "code",
   "execution_count": null,
   "id": "45675095-aaf7-439b-a6a8-d468628a87ad",
   "metadata": {},
   "outputs": [],
   "source": [
    "# fit model on scaled data\n",
    "dtc = decision_tree.fit(X_train_rs, y_train)\n",
    "# train accuracy\n",
    "dtc_rs_train_acc = dtc.score(X_train_rs, y_train)\n",
    "# test accuracy\n",
    "dtc_rs_test_acc = dtc.score(X_test_rs, y_test)\n",
    "\n",
    "print(\"Robust Scaler data:\")\n",
    "print(f\"Training accuracy: {dtc_rs_train_acc}\")\n",
    "print(f\"Test accuracy: {dtc_rs_test_acc}\")"
   ]
  },
  {
   "cell_type": "markdown",
   "id": "af6b5e7f-c304-4d3b-aa31-15ca6391794d",
   "metadata": {},
   "source": [
    "### Next attempt: Using Random Forests"
   ]
  },
  {
   "cell_type": "code",
   "execution_count": null,
   "id": "8d62d885-5bbc-46db-be51-2cf8adf75f63",
   "metadata": {},
   "outputs": [],
   "source": [
    "from sklearn.ensemble import RandomForestClassifier\n",
    "from mlxtend.plotting import plot_decision_regions"
   ]
  },
  {
   "cell_type": "code",
   "execution_count": null,
   "id": "e3b240c7-e6cc-4781-9e18-36912d257271",
   "metadata": {},
   "outputs": [],
   "source": [
    "# rfm=RandomForestClassifier()\n",
    "\n",
    "# rfm.fit(X_train,y_train)\n",
    "\n",
    "# plot_decision_regions(X_train,y_train,clf=rfm)"
   ]
  },
  {
   "cell_type": "markdown",
   "id": "47458924-359c-4477-808c-ccddc21b3ad1",
   "metadata": {},
   "source": [
    "### Next attempt: Implementing K-Fold Cross Validation"
   ]
  },
  {
   "cell_type": "markdown",
   "id": "6618c615-f197-410f-89b9-b0e499c35220",
   "metadata": {},
   "source": [
    "This allows for averaging out of any variations on where the train/test splits are taken from."
   ]
  },
  {
   "cell_type": "code",
   "execution_count": null,
   "id": "9440ae1b-5715-4c21-9436-e23f927809fb",
   "metadata": {},
   "outputs": [],
   "source": [
    "from sklearn.model_selection import cross_val_score"
   ]
  },
  {
   "cell_type": "code",
   "execution_count": null,
   "id": "681f1a44-1a34-4bbb-9cfd-609e3c71bf35",
   "metadata": {},
   "outputs": [],
   "source": [
    "# leaving some in reserve for a test set\n",
    "# splitting out 20% for test set\n",
    "X_remainder, X_test, y_remainder, y_test = \\\n",
    "    train_test_split(X, y, test_size = 0.2,random_state=1)"
   ]
  },
  {
   "cell_type": "code",
   "execution_count": null,
   "id": "77b19be2-8a3a-4af8-a518-6f549f84986e",
   "metadata": {},
   "outputs": [],
   "source": [
    "# %%time\n",
    "\n",
    "# 1. Instanitate model\n",
    "logit = LogisticRegression(random_state=1)\n",
    "\n",
    "# 2. Fit model on 5 folds.\n",
    "# The variable \"scores\" will hold 5 accuracy scores, \n",
    "# each from a different train and validation split\n",
    "scores = cross_val_score(logit, X_remainder, y_remainder, cv = 5,n_jobs=8)\n",
    "print(scores)"
   ]
  },
  {
   "cell_type": "code",
   "execution_count": null,
   "id": "4f34bc4c-be04-410e-85e1-0063b4828770",
   "metadata": {},
   "outputs": [],
   "source": [
    "#Store the results\n",
    "cross_validation_scores = []\n",
    "\n",
    "C_range = np.logspace(-6,6,13)\n",
    "\n",
    "#Do some cross validation\n",
    "for c in C_range:\n",
    "    lr_model = LogisticRegression(C=c,random_state=1)\n",
    "    \n",
    "    # the cross validation score (mean of scores from all folds)\n",
    "    cv_score = np.mean(cross_val_score(lr_model, X_remainder, y_remainder, cv = 5))\n",
    "    \n",
    "    cross_validation_scores.append(cv_score)\n",
    "\n",
    "plt.figure()\n",
    "plt.plot(C_range, cross_validation_scores,label=\"Cross Validation Score\",marker='.')\n",
    "plt.legend()\n",
    "plt.xscale(\"log\")\n",
    "plt.xlabel('Regularization Parameter: C')\n",
    "plt.ylabel('Cross Validation Score')\n",
    "plt.grid()\n",
    "plt.show();"
   ]
  },
  {
   "cell_type": "markdown",
   "id": "4067a226-ffbb-4b5a-8fe5-ed393a6df96d",
   "metadata": {},
   "source": [
    "### Next Attempt: Implement PCA"
   ]
  },
  {
   "cell_type": "markdown",
   "id": "d9e4288d-7d67-4adc-a9e6-ac414cfd7beb",
   "metadata": {},
   "source": [
    "PCA, or principal component analysis, will help reduce the dimensionality of the dataset."
   ]
  },
  {
   "cell_type": "code",
   "execution_count": null,
   "id": "9d498c93-ff6e-47d6-989a-89f5713a2dee",
   "metadata": {},
   "outputs": [],
   "source": [
    "from sklearn.decomposition import PCA"
   ]
  },
  {
   "cell_type": "code",
   "execution_count": null,
   "id": "b2e3d580-b6d1-49d7-ad74-97d15e9db0ef",
   "metadata": {},
   "outputs": [],
   "source": [
    "# Instantiate & fit PCA model to the breast cancer data\n",
    "# Default n_components will generate the same number of PCs as you have features \n",
    "my_PCA = PCA()\n",
    "my_PCA.fit(X_train)\n",
    "\n",
    "# transform data \n",
    "X_train_PCA = my_PCA.transform(X_train)\n",
    "X_test_PCA = my_PCA.transform(X_test)"
   ]
  },
  {
   "cell_type": "code",
   "execution_count": null,
   "id": "9acb70a6-8301-484a-98c3-5f62302fbb73",
   "metadata": {},
   "outputs": [],
   "source": [
    "print(f\"Variance captured by PC1: {my_PCA.explained_variance_[0]: 0.3f}\")\n",
    "print(f\"Variance captured by PC2: {my_PCA.explained_variance_[1]: 0.3f}\")\n",
    "\n",
    "print(f\"Proportion of variance captured by PC1: {my_PCA.explained_variance_ratio_[0]: 0.3f}\")\n",
    "print(f\"Proportion of variance captured by PC2: {my_PCA.explained_variance_ratio_[1]: 0.3f}\")"
   ]
  },
  {
   "cell_type": "code",
   "execution_count": null,
   "id": "6afb8e49-2a1e-413c-bf1b-2abdd0e0e2a2",
   "metadata": {},
   "outputs": [],
   "source": [
    "my_PCA.explained_variance_ratio_"
   ]
  },
  {
   "cell_type": "code",
   "execution_count": null,
   "id": "a73979ea-bd00-491e-9231-02cbae04807f",
   "metadata": {},
   "outputs": [],
   "source": [
    "expl_var = my_PCA.explained_variance_ratio_"
   ]
  },
  {
   "cell_type": "code",
   "execution_count": null,
   "id": "afb0a008-1fae-4840-98c5-9f532102195f",
   "metadata": {},
   "outputs": [],
   "source": [
    "plt.figure()\n",
    "plt.plot(range(1,7),expl_var,marker='.')\n",
    "plt.xlabel('Number of Principal Components')\n",
    "plt.ylabel('Proportion of Variance Explained')\n",
    "plt.xticks(range(1,8,1))\n",
    "plt.show()"
   ]
  },
  {
   "cell_type": "markdown",
   "id": "259f9bc1-bb9e-4a9d-80a8-7254779f3290",
   "metadata": {},
   "source": [
    "The problem is that we're working with a limited dataset, so we don't have the luxury of paring it down much more."
   ]
  },
  {
   "cell_type": "markdown",
   "id": "402031eb-9d11-4a01-8a4c-4dfe31c02fd7",
   "metadata": {},
   "source": [
    "That being said, it looks like at 3 principal components is where the line makes the 'elbow', so we'll use `n_components=3`"
   ]
  },
  {
   "cell_type": "code",
   "execution_count": null,
   "id": "75d66c25-033d-4caa-8ea3-244c3b7742eb",
   "metadata": {},
   "outputs": [],
   "source": [
    "# Instantiate and fit\n",
    "my_PCA = PCA(n_components = 3)\n",
    "my_PCA.fit(X_train)\n",
    "\n",
    "# Transform train and test\n",
    "X_train_PCA = my_PCA.transform(X_train)\n",
    "X_test_PCA = my_PCA.transform(X_test)"
   ]
  },
  {
   "cell_type": "code",
   "execution_count": null,
   "id": "7ee63f85-2d5f-4241-aec9-ffdbb780b881",
   "metadata": {},
   "outputs": [],
   "source": [
    "print(f'Original: {X_train.shape}')\n",
    "print(f'PCA Transformed: {X_train_PCA.shape}')"
   ]
  },
  {
   "cell_type": "markdown",
   "id": "dc4ab8e7-c1fd-4c5e-86ba-9e2b6afb49a4",
   "metadata": {},
   "source": [
    "Alternatively using PCA to capture 90% of the variance:"
   ]
  },
  {
   "cell_type": "code",
   "execution_count": null,
   "id": "29a4a232-49a4-4d06-b63c-ad37b048ef6d",
   "metadata": {},
   "outputs": [],
   "source": [
    "# Instantiate and fit\n",
    "my_PCA = PCA(n_components = .9)\n",
    "my_PCA.fit(X_train)\n",
    "\n",
    "# Transform train and test\n",
    "X_train_PCA = my_PCA.transform(X_train)\n",
    "X_test_PCA = my_PCA.transform(X_test)"
   ]
  },
  {
   "cell_type": "code",
   "execution_count": null,
   "id": "f8a96a6b-13e9-443b-98fd-26d3f1b00ee4",
   "metadata": {},
   "outputs": [],
   "source": [
    "print(f'Original: {X_train.shape}')\n",
    "print(f'PCA Transformed: {X_train_PCA.shape}')"
   ]
  },
  {
   "cell_type": "code",
   "execution_count": null,
   "id": "a69d29e0-12fd-4b0b-9bba-eb932409c52d",
   "metadata": {},
   "outputs": [],
   "source": [
    "my_PCA.components_.shape"
   ]
  },
  {
   "cell_type": "markdown",
   "id": "5891a66e-fb45-4bee-b6b8-7871c75c0c2a",
   "metadata": {},
   "source": [
    "Using the 90% determination, PCA drops only one of the principal components."
   ]
  },
  {
   "cell_type": "code",
   "execution_count": null,
   "id": "02ad416f-7eb3-4c08-a571-71c343d386b1",
   "metadata": {},
   "outputs": [],
   "source": [
    "my_PCA.components_"
   ]
  },
  {
   "cell_type": "code",
   "execution_count": null,
   "id": "24708798-6d86-42e5-a15a-63ec83b3c35c",
   "metadata": {},
   "outputs": [],
   "source": [
    "plt.figure(figsize=(10,8))\n",
    "\n",
    "# Create a heatmap. The values are all contained in the .components_ attribute\n",
    "ax = sns.heatmap(my_PCA.components_,\n",
    "                 cmap='coolwarm',\n",
    "                 yticklabels=[ \"PC\"+str(x) for x in range(1,my_PCA.n_components_+1)],\n",
    "                 xticklabels=list(df[[col for col in df.columns if col != 'y']].columns),\n",
    "                 linewidths = 1,\n",
    "                 annot = True,\n",
    "                 vmin=-1,\n",
    "                 vmax=1,\n",
    "                 cbar_kws={\"orientation\": \"vertical\"})\n",
    "\n",
    "plt.yticks(rotation=0)\n",
    "plt.xticks(rotation=25)\n",
    "ax.set_aspect(\"equal\")"
   ]
  },
  {
   "cell_type": "code",
   "execution_count": null,
   "id": "d37d24a6-6756-46de-84e1-a24729b74939",
   "metadata": {},
   "outputs": [],
   "source": [
    "my_PCA.explained_variance_ratio_"
   ]
  },
  {
   "cell_type": "markdown",
   "id": "189c5736-6a1a-4751-aaef-0f0c18b31ed8",
   "metadata": {},
   "source": [
    "From the heatmap, we see that:\n",
    "* PC1 is moderately negatively correlated with `complete` and `courier`\n",
    "* PC2 is very strongly correlated with `contents`\n",
    "* PC3 is moderately negatively correlated with `price` while being moderately positively correlated with `courier`\n",
    "* PC4 is moderately negatively correlated with `time` and `app` but moderately positively correlated with `complete`\n",
    "* PC5 is moderately positively correlated with `complete` while being moderately negatively correlated with `price` and `courier`\n",
    "\n",
    "The explained variance ratio shows that the first two principal components explain 32.9% + 24.4% or 57.3% of the data. There is much that is not being captured by those first two principal components, however."
   ]
  },
  {
   "cell_type": "markdown",
   "id": "f2e04777-060b-4d59-a8bc-f84229c426a7",
   "metadata": {},
   "source": [
    "When we plot the first two principal components, we see that it's a wash. PCA doesn't appear to be that helpful in training a model with higher-than-73% accuracy."
   ]
  },
  {
   "cell_type": "code",
   "execution_count": null,
   "id": "a91896ab-005f-4925-8e97-313ed8494def",
   "metadata": {},
   "outputs": [],
   "source": [
    "plt.figure(figsize=(10,5))\n",
    "scatter = plt.scatter(X_train_PCA[:,0], X_train_PCA[:,1], c=y_train, cmap='tab10')\n",
    "\n",
    "plt.xlabel(\"Principal Component 1\")\n",
    "plt.ylabel(\"Principal Component 2\")\n",
    "\n",
    "# Generate Legend\n",
    "classes = [\"0...'I'm not sure\", \"1...if this's right\"]\n",
    "plt.legend(handles=scatter.legend_elements()[0], labels=classes)\n",
    "\n",
    "plt.show()"
   ]
  },
  {
   "cell_type": "code",
   "execution_count": null,
   "id": "a606e60a-8c67-44b3-a07d-fce298e270df",
   "metadata": {},
   "outputs": [],
   "source": [
    "from sklearn.manifold import TSNE\n",
    "\n",
    "# We need to scale the data since tSNE is also distance based\n",
    "scaler = StandardScaler()\n",
    "X_scaled = scaler.fit_transform(X)\n",
    "\n",
    "my_tSNE = TSNE(n_components=2)\n",
    "\n",
    "X_tSNE = my_tSNE.fit_transform(X_scaled)"
   ]
  },
  {
   "cell_type": "code",
   "execution_count": null,
   "id": "56a64204-49b6-4bd8-886f-45d44efc83a3",
   "metadata": {},
   "outputs": [],
   "source": [
    "# Plotting the tSNE-transformed data (only the first two dimensions)\n",
    "plt.figure(figsize=(8, 8))\n",
    "plt.scatter(X_tSNE[:,0],X_tSNE[:,1],c=y)\n",
    "\n",
    "plt.xlabel(\"tSNE Component 1\")\n",
    "plt.ylabel(\"tSNE Component 2\")\n",
    "\n",
    "plt.show()"
   ]
  },
  {
   "cell_type": "code",
   "execution_count": null,
   "id": "38d522a4-e69f-4e1b-8df2-ed5188dd2023",
   "metadata": {},
   "outputs": [],
   "source": []
  },
  {
   "cell_type": "code",
   "execution_count": null,
   "id": "614bd54c-959f-4e8f-82b3-93711cdb4788",
   "metadata": {},
   "outputs": [],
   "source": []
  },
  {
   "cell_type": "markdown",
   "id": "ace176f0-ca7c-4386-8a88-6af225971836",
   "metadata": {},
   "source": [
    "Comparing default logreg to PCA'd logreg:"
   ]
  },
  {
   "cell_type": "code",
   "execution_count": null,
   "id": "2af54574-ad4a-457e-8ed0-676de5908eb0",
   "metadata": {},
   "outputs": [],
   "source": [
    "# Let's use all the default parameters for now\n",
    "my_logreg = LogisticRegression()\n",
    "\n",
    "# Fitting to original data\n",
    "my_logreg.fit(X_train,y_train)\n",
    "\n",
    "# Scoring on original train and test sets\n",
    "print(f'Train Score: {my_logreg.score(X_train, y_train)}')\n",
    "print(f'Test Score: {my_logreg.score(X_test, y_test)}')"
   ]
  },
  {
   "cell_type": "code",
   "execution_count": null,
   "id": "49d02b5e-1b80-405c-85bf-0f2ee0564e34",
   "metadata": {},
   "outputs": [],
   "source": [
    "# Do the same but fit on the PCA transformed data\n",
    "my_logreg_PCA = LogisticRegression()\n",
    "\n",
    "# Fitting to PCA data\n",
    "my_logreg_PCA.fit(X_train_PCA,y_train)\n",
    "\n",
    "# Scoring on PCA train and test sets\n",
    "print(f'Train Score: {my_logreg_PCA.score(X_train_PCA, y_train)}')\n",
    "print(f'Test Score: {my_logreg_PCA.score(X_test_PCA, y_test)}')"
   ]
  },
  {
   "cell_type": "code",
   "execution_count": null,
   "id": "e58dbf58-519d-4c91-8c41-0d07da7462ce",
   "metadata": {},
   "outputs": [],
   "source": []
  },
  {
   "cell_type": "code",
   "execution_count": null,
   "id": "b8af6f45-2eb7-4843-a5bc-43bde7879f83",
   "metadata": {},
   "outputs": [],
   "source": []
  },
  {
   "cell_type": "code",
   "execution_count": null,
   "id": "d72b0360-4987-4138-b1c0-afec27802896",
   "metadata": {},
   "outputs": [],
   "source": []
  },
  {
   "cell_type": "code",
   "execution_count": null,
   "id": "df443bc6-5f4f-4a05-8205-1d6500d033fb",
   "metadata": {},
   "outputs": [],
   "source": []
  },
  {
   "cell_type": "code",
   "execution_count": null,
   "id": "d67f3cc5-726e-4c60-a0fb-66e4b1ddb29b",
   "metadata": {},
   "outputs": [],
   "source": []
  },
  {
   "cell_type": "markdown",
   "id": "7e6126ad-f154-47d2-aee5-dde017b0dad6",
   "metadata": {},
   "source": [
    "### Next attempt: Using a Pipeline and Grid Search"
   ]
  },
  {
   "cell_type": "code",
   "execution_count": null,
   "id": "bd2d5971-99eb-44f7-8b68-e565683858ef",
   "metadata": {},
   "outputs": [],
   "source": [
    "from sklearn.pipeline import Pipeline\n",
    "from sklearn.model_selection import GridSearchCV\n",
    "from sklearn.svm import SVC"
   ]
  },
  {
   "cell_type": "markdown",
   "id": "74f8146e-173f-45a7-b030-8d504acfcc5b",
   "metadata": {},
   "source": [
    "I commented out the code to run the grid search so that we don't unnecessarily run it again:"
   ]
  },
  {
   "cell_type": "code",
   "execution_count": null,
   "id": "9281ab17-7b41-4c51-ac53-42ef865e5c5c",
   "metadata": {},
   "outputs": [],
   "source": [
    "estimators = [('normalize',None),\n",
    "              ('pca',None),\n",
    "              ('model', None)]\n",
    "\n",
    "pipe = Pipeline(estimators)\n",
    "\n",
    "param_grid = [{\"model\":[LogisticRegression(penalty=\"l2\",max_iter=1000),\n",
    "                        LogisticRegression(penalty=\"l1\",solver=\"liblinear\",max_iter=1000)],\n",
    "               \"pca\":[\"passthrough\",PCA()] + list(PCA(n_components=i) for i in range(1,7)),\n",
    "               \"normalize\":[MinMaxScaler(),StandardScaler(),\"passthrough\"],\n",
    "               \"model__C\":np.logspace(-4,4,5)},\n",
    "              {\"model\":[SVC(kernel=\"poly\"),SVC(kernel=\"rbf\")],\n",
    "               \"pca\":[\"passthrough\",PCA()] + list(PCA(n_components=i) for i in range(1,7)),\n",
    "               \"normalize\":[MinMaxScaler(),StandardScaler(),\"passthrough\"],\n",
    "               \"model__C\":np.logspace(-4,4,5),\n",
    "               \"model__gamma\":np.linspace(0.01,10.0,5)}]\n",
    "              \n",
    "    \n",
    "# grid = GridSearchCV(pipe, param_grid, cv=5,verbose=3,n_jobs=-1,scoring=\"f1_weighted\")\n",
    "# fittedgrid = grid.fit(X_train, y_train)"
   ]
  },
  {
   "cell_type": "code",
   "execution_count": null,
   "id": "d57cb231-418c-49fd-8278-df9871e20a8c",
   "metadata": {},
   "outputs": [],
   "source": [
    "# best estimator object\n",
    "# fittedgrid.best_estimator_"
   ]
  },
  {
   "cell_type": "code",
   "execution_count": null,
   "id": "905e3c0d-0f65-4bae-8b44-485642d7d4d6",
   "metadata": {},
   "outputs": [],
   "source": [
    "# mean test score for each CV fold\n",
    "# fittedgrid.cv_results_['mean_test_score']"
   ]
  },
  {
   "cell_type": "code",
   "execution_count": null,
   "id": "000bc3ee-c7e2-4edd-8ef2-15f4dd0d0f63",
   "metadata": {},
   "outputs": [],
   "source": [
    "# cv_results=pd.DataFrame([fittedgrid.cv_results_])\n",
    "# cv_results"
   ]
  },
  {
   "cell_type": "code",
   "execution_count": null,
   "id": "c7347b20-526a-4cb6-a7bc-021e439c8582",
   "metadata": {},
   "outputs": [],
   "source": [
    "# score\n",
    "# fittedgrid.score(X_test,y_test)"
   ]
  },
  {
   "cell_type": "markdown",
   "id": "d5bf3f77-649a-431d-954f-73db33a0d254",
   "metadata": {},
   "source": [
    "fittedgrid.score = 0.6842634489693313"
   ]
  },
  {
   "cell_type": "code",
   "execution_count": null,
   "id": "c7406f23-ce48-46b0-9d6f-b2ffb55327ea",
   "metadata": {},
   "outputs": [],
   "source": [
    "# best hyperparameters\n",
    "# fittedgrid.best_params_"
   ]
  },
  {
   "cell_type": "markdown",
   "id": "25c3879f-733f-4689-a51f-e05060518d4e",
   "metadata": {},
   "source": [
    "```python\n",
    "{'model': SVC(gamma=10.0),\n",
    " 'model__C': 1.0,\n",
    " 'model__gamma': 10.0,\n",
    " 'normalize': MinMaxScaler(),\n",
    " 'pca': PCA(n_components=4)}\n",
    " ```"
   ]
  },
  {
   "cell_type": "markdown",
   "id": "01d5437b-4ef3-48f7-acaa-c65f19f866f2",
   "metadata": {},
   "source": [
    "Ok, so we now have our best result, but it's  still under 70% accuracy. Let's explore the hyperparameter space around this best result more closely."
   ]
  },
  {
   "cell_type": "code",
   "execution_count": null,
   "id": "035ff695-e65e-40c1-a2d1-e76ec45c19dc",
   "metadata": {
    "tags": []
   },
   "outputs": [],
   "source": [
    "estimators = [('normalize',None),\n",
    "              ('pca',None),\n",
    "              ('model', None)]\n",
    "\n",
    "pipe = Pipeline(estimators)\n",
    "\n",
    "param_grid = [{\"model\":[SVC(kernel=\"poly\"),SVC(kernel=\"rbf\")],\n",
    "               \"pca\":[PCA(n_components=4)],\n",
    "               \"normalize\":[MinMaxScaler()],\n",
    "               \"model__C\":np.logspace(-0,2,5),\n",
    "               \"model__gamma\":np.linspace(5,50.0,5)}]\n",
    "              \n",
    "    \n",
    "# grid = GridSearchCV(pipe, param_grid, cv=5,verbose=2,n_jobs=-1,scoring=\"f1_weighted\")\n",
    "# fittedgrid = grid.fit(X_train, y_train)"
   ]
  },
  {
   "cell_type": "code",
   "execution_count": null,
   "id": "20cb539b-7994-4f35-8e32-15f2ed5a4cbd",
   "metadata": {},
   "outputs": [],
   "source": [
    "# best hyperparameters\n",
    "# fittedgrid.best_params_"
   ]
  },
  {
   "cell_type": "markdown",
   "id": "b7d568e8-f94d-41ef-a310-766e04670f64",
   "metadata": {},
   "source": [
    "```python\n",
    "{'model': SVC(gamma=5.0),\n",
    " 'model__C': 1.0,\n",
    " 'model__gamma': 5.0,\n",
    " 'normalize': MinMaxScaler(),\n",
    " 'pca': PCA(n_components=4)}\n",
    "```"
   ]
  },
  {
   "cell_type": "code",
   "execution_count": null,
   "id": "fa3bfa9f-1187-4fee-abac-5a42030c834a",
   "metadata": {
    "tags": []
   },
   "outputs": [],
   "source": [
    "# score\n",
    "# fittedgrid.score(X_test,y_test)"
   ]
  },
  {
   "cell_type": "markdown",
   "id": "31b067af-e48e-48d4-84c0-bcfad8fff8cd",
   "metadata": {},
   "source": [
    "fittedgrid.score=0.72776346460557"
   ]
  },
  {
   "cell_type": "markdown",
   "id": "4cf7fd09-df68-46fb-872a-000decafb9f6",
   "metadata": {},
   "source": [
    "That's almost over 73%! Let's try one more round of grid searching."
   ]
  },
  {
   "cell_type": "code",
   "execution_count": null,
   "id": "1218828f-19d1-46c1-805b-20c604afd334",
   "metadata": {
    "tags": []
   },
   "outputs": [],
   "source": [
    "estimators = [('normalize',None),\n",
    "              ('pca',None),\n",
    "              ('model', None)]\n",
    "\n",
    "pipe = Pipeline(estimators)\n",
    "\n",
    "param_grid = [{\"model\":[SVC(kernel=\"poly\")],\n",
    "               \"pca\":[PCA(n_components=4)],\n",
    "               \"normalize\":[MinMaxScaler()],\n",
    "               \"model__C\":np.linspace(0.5,1.5,10),\n",
    "               \"model__gamma\":np.linspace(0,10.0,10)}]\n",
    "              \n",
    "    \n",
    "# grid = GridSearchCV(pipe, param_grid, cv=5,verbose=2,n_jobs=-1,scoring=\"f1_weighted\")\n",
    "# fittedgrid = grid.fit(X_train, y_train)"
   ]
  },
  {
   "cell_type": "code",
   "execution_count": null,
   "id": "058bf27d-3939-4d96-a58e-79d08683bed0",
   "metadata": {
    "tags": []
   },
   "outputs": [],
   "source": [
    "# best hyperparameters\n",
    "# fittedgrid.best_params_"
   ]
  },
  {
   "cell_type": "markdown",
   "id": "f09c270b-785d-4fbf-92be-d60d550f360a",
   "metadata": {},
   "source": [
    "```python\n",
    "{'model': SVC(C=0.8333333333333333, gamma=3.3333333333333335, kernel='poly'),\n",
    " 'model__C': 0.8333333333333333,\n",
    " 'model__gamma': 3.3333333333333335,\n",
    " 'normalize': MinMaxScaler(),\n",
    " 'pca': PCA(n_components=4)}\n",
    "```"
   ]
  },
  {
   "cell_type": "code",
   "execution_count": null,
   "id": "b7a6bdca-25fb-40f4-8742-d63f8472069d",
   "metadata": {},
   "outputs": [],
   "source": [
    "# score\n",
    "# fittedgrid.score(X_test,y_test)"
   ]
  },
  {
   "cell_type": "markdown",
   "id": "9b78beda-f681-4a44-a352-075f2f6bb89c",
   "metadata": {},
   "source": [
    "fittedgrid.score=0.5886752136752137"
   ]
  },
  {
   "cell_type": "markdown",
   "id": "8cd11690-0583-406a-b56b-1e6583f66ad4",
   "metadata": {},
   "source": [
    "Ok, so that was worse than last time. I think we're done grid searching. Maybe the results of the [statistical modeling](#statistical_modeling) will give us more insight."
   ]
  },
  {
   "cell_type": "markdown",
   "id": "935d7a4a-557a-4713-a44d-5e14ba898367",
   "metadata": {
    "tags": []
   },
   "source": [
    "```python\n",
    "best_params={'model': SVC(gamma=5.0),\n",
    " 'model__C': 1.0,\n",
    " 'model__gamma': 5.0,\n",
    " 'normalize': MinMaxScaler(),\n",
    " 'pca': PCA(n_components=4)}\n",
    "best_params\n",
    "```"
   ]
  },
  {
   "cell_type": "code",
   "execution_count": null,
   "id": "047cd236-69df-479b-95ae-3c2074ec212f",
   "metadata": {},
   "outputs": [],
   "source": []
  },
  {
   "cell_type": "code",
   "execution_count": null,
   "id": "039dee78-d58b-4e1e-880d-4048f1aa690d",
   "metadata": {},
   "outputs": [],
   "source": []
  },
  {
   "cell_type": "code",
   "execution_count": null,
   "id": "965fdf1d-216c-4f04-9373-85d5e383bce8",
   "metadata": {},
   "outputs": [],
   "source": []
  },
  {
   "cell_type": "markdown",
   "id": "c27b7a8a-3dfd-4b2c-9115-64adda8ddb02",
   "metadata": {},
   "source": [
    "### Basic Logistic Regression"
   ]
  },
  {
   "cell_type": "code",
   "execution_count": null,
   "id": "279da7a0-bce7-417e-beff-649065cfc07d",
   "metadata": {
    "tags": []
   },
   "outputs": [],
   "source": [
    "# instantiate model \n",
    "logreg = LogisticRegression()\n",
    "\n",
    "# fit model on the training data\n",
    "logreg.fit(X_train, y_train)\n",
    "\n",
    "# score on the training data \n",
    "print(logreg.score(X_train, y_train))\n",
    "\n",
    "# score on the testing data\n",
    "print(logreg.score(X_test, y_test))"
   ]
  },
  {
   "cell_type": "markdown",
   "id": "79168818-46c7-4a6b-a410-9f0369968dbd",
   "metadata": {},
   "source": [
    "Ok, that's an improvement. Let's keep going!  \n",
    "\n",
    "It is interesting to note that the accuracy is higher for the testing set - usually it's the other way around."
   ]
  },
  {
   "cell_type": "markdown",
   "id": "0679a99d-60e9-486a-b1e2-4da93a066366",
   "metadata": {},
   "source": [
    "### Third attempt: Using Regularization"
   ]
  },
  {
   "cell_type": "markdown",
   "id": "b89d3b77-937a-4828-9f70-b29f0d107ce4",
   "metadata": {},
   "source": [
    "This allows for control on how the model learns based on the training data."
   ]
  },
  {
   "cell_type": "code",
   "execution_count": null,
   "id": "188288e6-b052-449a-bdfe-a526b013fc34",
   "metadata": {},
   "outputs": [],
   "source": [
    "model_prediction = logreg.predict(X)"
   ]
  },
  {
   "cell_type": "code",
   "execution_count": null,
   "id": "8f75b3c1-ea44-4c3e-9d13-a38d2003888f",
   "metadata": {},
   "outputs": [],
   "source": [
    "print(y.shape)\n",
    "print(model_prediction.shape)"
   ]
  },
  {
   "cell_type": "markdown",
   "id": "25baec27-14d3-4fe3-9b39-bed4391ce06f",
   "metadata": {},
   "source": [
    "L2 (Square function): adds greater penalties for large coefficients, but a smaller penalty for coefficients close to 0."
   ]
  },
  {
   "cell_type": "markdown",
   "id": "24e26d56-217f-496f-94d6-71592b14f39f",
   "metadata": {},
   "source": [
    "L1 (Absolute value function)"
   ]
  },
  {
   "cell_type": "code",
   "execution_count": null,
   "id": "1ead99e0-ab68-41be-9db0-bf270114ac8b",
   "metadata": {},
   "outputs": [],
   "source": [
    "for weight in [1E-3,0.1,0.50,1.0,5,10,100,1000,1E10]:\n",
    "    lr = LogisticRegression(penalty=\"l2\",C=weight,max_iter=10000)\n",
    "    lr.fit(X_train,y_train)\n",
    "    train_acc = lr.score(X_train,y_train)\n",
    "    test_acc = lr.score(X_test,y_test)\n",
    "    print(\"L2 Weight={} train_acc={:4.3f} test_acc={:4.3f}\".format(weight,train_acc,test_acc))\n",
    "print(\"*\"*80)\n",
    "for weight in [1E-3,0.1,0.50,1.0,5,10,100,1000,1E10]:\n",
    "    lr = LogisticRegression(penalty=\"l1\",solver=\"liblinear\",C=weight,max_iter=10000)\n",
    "    lr.fit(X_train,y_train)\n",
    "    train_acc = lr.score(X_train,y_train)\n",
    "    test_acc = lr.score(X_test,y_test)\n",
    "    print(\"L1 Weight={} train_acc={:4.3f} test_acc={:4.3f}\".format(weight,train_acc,test_acc))\n",
    "    coefs = list(\"{:4.3f}\".format(c) for c in lr.coef_[0])\n",
    "    print(\"     L2 coefs\",\" \".join(coefs))"
   ]
  },
  {
   "cell_type": "markdown",
   "id": "85ee0a58-a9ce-4944-83f6-5046e0d9d8b0",
   "metadata": {},
   "source": [
    "### Fourth Attempt: Random Forest"
   ]
  },
  {
   "cell_type": "code",
   "execution_count": null,
   "id": "99f75b1c-96cf-4eac-88d0-6096c6290d0f",
   "metadata": {},
   "outputs": [],
   "source": [
    "print(X.shape)\n",
    "print(model_prediction.shape)"
   ]
  },
  {
   "cell_type": "code",
   "execution_count": null,
   "id": "9593da31-031d-4835-940c-f33f147d0654",
   "metadata": {},
   "outputs": [],
   "source": [
    "# plt.figure()\n",
    "# # plot the predictions\n",
    "# plt.scatter(X, model_prediction, c='blue', label=\"predictions\") \n",
    "# # plot original data (with the y-values offset a tiny bit to reduce overlap)\n",
    "# plt.scatter(X, y+0.1, c ='red', label=\"data\")\n",
    "# plt.legend()\n",
    "# plt.xlabel('X value')\n",
    "# plt.ylabel('class label (0 or 1)')\n",
    "# plt.show()"
   ]
  },
  {
   "cell_type": "code",
   "execution_count": null,
   "id": "b8ba4bf6-d028-4c78-8ee1-7093d3c7070c",
   "metadata": {},
   "outputs": [],
   "source": [
    "# fnames = linear_regression_model.feature_names_in_\n",
    "# coef = linear_regression_model.coef_\n",
    "# output = list(zip(fnames,coef))\n",
    "# print(\"\\n\".join(list(\"{:12}= {:5.3f}\".format(*t) for t in output)))"
   ]
  },
  {
   "cell_type": "code",
   "execution_count": null,
   "id": "a6e6fb08-5cf8-4f75-bb72-a11dd87fedbe",
   "metadata": {},
   "outputs": [],
   "source": [
    "# linear_regression_model.coef_"
   ]
  },
  {
   "cell_type": "code",
   "execution_count": null,
   "id": "335ca645-840c-4047-8db3-9b274ac93ec8",
   "metadata": {},
   "outputs": [],
   "source": [
    "# linear_regression_model.intercept_"
   ]
  },
  {
   "cell_type": "code",
   "execution_count": null,
   "id": "173c0543-230d-4faf-8655-42c8f3231708",
   "metadata": {},
   "outputs": [],
   "source": []
  },
  {
   "cell_type": "code",
   "execution_count": null,
   "id": "179cffa9-2425-49ac-99f7-19e39e82290e",
   "metadata": {},
   "outputs": [],
   "source": [
    "# helper function to visulalize the decision boundaries\n",
    "# from BrainStation\n",
    "def PlotBoundaries(model, X, Y, plotsize=(6,4)) :\n",
    "    '''\n",
    "    Helper function that plots the decision boundaries of a model and data (X,Y)\n",
    "    code modified from: https://scikit-learn.org/stable/auto_examples/neighbors/plot_classification.html\n",
    "    '''\n",
    "    \n",
    "    x_min, x_max = X[:, 0].min() - 1, X[:, 0].max() + 1\n",
    "    y_min, y_max = X[:, 1].min() - 1,X[:, 1].max() + 1\n",
    "    xx, yy = np.meshgrid(np.arange(x_min, x_max, 0.01), np.arange(y_min, y_max, 0.01))\n",
    "\n",
    "    Z = model.predict(np.c_[xx.ravel(), yy.ravel()])\n",
    "    Z = Z.reshape(xx.shape)\n",
    "\n",
    "    plt.figure(figsize=plotsize)\n",
    "    plt.contourf(xx, yy, Z, alpha=0.4)\n",
    "\n",
    "    #Plot\n",
    "    plt.scatter(X[:, 0], X[:, 1], c=Y,s=20, edgecolor='k')\n",
    "    plt.show()"
   ]
  },
  {
   "cell_type": "code",
   "execution_count": null,
   "id": "fd5272ca-aa71-41b1-9373-71d4ccffc6a3",
   "metadata": {},
   "outputs": [],
   "source": [
    "# setup X and y\n",
    "X=df[[col for col in df.columns if col != 'y']].copy()\n",
    "y=df['y']"
   ]
  },
  {
   "cell_type": "code",
   "execution_count": null,
   "id": "a47f83db-72ad-4de8-b6a1-dc86ac9f2e7c",
   "metadata": {},
   "outputs": [],
   "source": [
    "# # Split the data\n",
    "# X_train, X_test, y_train, y_test = train_test_split(X, y, test_size=0.4, random_state=1)\n",
    "\n",
    "# # Instantiate the model & fit it to our data\n",
    "# KNN_model = KNeighborsClassifier(n_neighbors=3)#,metric=\"cosine\")\n",
    "# KNN_model.fit(X_train, y_train)\n",
    "\n",
    "# # Score the model on the test set\n",
    "# test_predictions = KNN_model.predict(X_test)\n",
    "# test_accuracy = accuracy_score(test_predictions, y_test)\n",
    "# print(f\"Test set accuracy: {test_accuracy}\")\n",
    "\n",
    "# # PlotBoundaries(KNN_model, X, y, plotsize=(10,7))"
   ]
  },
  {
   "cell_type": "markdown",
   "id": "8b95b5e7-1f83-4bb6-bea7-52ce0fffe437",
   "metadata": {},
   "source": [
    "### `LazyPredict`"
   ]
  },
  {
   "cell_type": "markdown",
   "id": "2dc35f1a-3ffc-429b-8f61-bba9a63976c4",
   "metadata": {},
   "source": [
    "`LazyPredict` offers a way to test the accuracy of many ML models in their basic configuration to see which performs the best on the target dataset. It helps in the exploration and experimentation phase by searching for the best model for us."
   ]
  },
  {
   "cell_type": "markdown",
   "id": "96a31725-f3d1-4cc5-9d6e-28d6f8fce639",
   "metadata": {},
   "source": [
    "In order to use this, I will switch environments to `lazypredict`, a dedicated environment for this package, as I was encountering errors when running it within my `sklearn` environment."
   ]
  },
  {
   "cell_type": "code",
   "execution_count": null,
   "id": "ae034308-e90b-449f-a6b7-3b85c8c54561",
   "metadata": {},
   "outputs": [],
   "source": [
    "from lazypredict.Supervised import LazyClassifier\n",
    "import pandas as pd\n",
    "import numpy as np"
   ]
  },
  {
   "cell_type": "code",
   "execution_count": null,
   "id": "d7eb045f-5394-42d9-9786-2d492b8ecccb",
   "metadata": {},
   "outputs": [],
   "source": [
    "# import X_train, X_test, etc.\n",
    "\n",
    "X_train=pd.read_csv('../data/1_X_train.csv').to_numpy()\n",
    "X_test=pd.read_csv('../data/1_X_test.csv').to_numpy()\n",
    "y_train=pd.read_csv('../data/1_y_train.csv').to_numpy().flatten()\n",
    "y_test=pd.read_csv('../data/1_y_test.csv').to_numpy().flatten()\n",
    "\n",
    "y_test.shape"
   ]
  },
  {
   "cell_type": "code",
   "execution_count": null,
   "id": "40533d4c-6dff-415c-b1c5-d256638d80d1",
   "metadata": {
    "tags": []
   },
   "outputs": [],
   "source": [
    "clf = LazyClassifier(verbose=0,ignore_warnings=True)\n",
    "models, predictions = clf.fit(X_train=X_train,\n",
    "                              X_test=X_test,\n",
    "                              y_train=y_train,\n",
    "                              y_test=y_test)\n",
    "predictions"
   ]
  },
  {
   "cell_type": "code",
   "execution_count": null,
   "id": "94954356-6519-4f69-8a16-0f1b9c94894a",
   "metadata": {},
   "outputs": [],
   "source": [
    "predictions"
   ]
  },
  {
   "cell_type": "markdown",
   "id": "5300dea1-130f-43dd-90be-48f2fa105971",
   "metadata": {},
   "source": [
    "`LGBMClassifier` gave the best results. I will now explore the hyperparameter space within this package to try to push the accuracy above 73%."
   ]
  },
  {
   "cell_type": "code",
   "execution_count": 1,
   "id": "2fada329-b7bb-469e-99b7-87ae070a84a6",
   "metadata": {
    "tags": []
   },
   "outputs": [],
   "source": [
    "import numpy as np\n",
    "import pandas as pd\n",
    "import matplotlib.pyplot as plt"
   ]
  },
  {
   "cell_type": "code",
   "execution_count": 2,
   "id": "82cc3bbc-6746-40cb-9752-7def0a9b7378",
   "metadata": {},
   "outputs": [],
   "source": [
    "X_train=pd.read_csv('../data/1_X_train.csv').to_numpy()\n",
    "X_test=pd.read_csv('../data/1_X_test.csv').to_numpy()\n",
    "y_train=pd.read_csv('../data/1_y_train.csv').to_numpy().flatten()\n",
    "y_test=pd.read_csv('../data/1_y_test.csv').to_numpy().flatten()"
   ]
  },
  {
   "cell_type": "code",
   "execution_count": 3,
   "id": "94540f4c-465a-4f23-b10d-30d554358ba4",
   "metadata": {},
   "outputs": [
    {
     "name": "stdout",
     "output_type": "stream",
     "text": [
      "\n",
      "Shapes:\n",
      "X_train: (100, 6)\n",
      "X_test:  (26, 6)\n",
      "y_train: (100,)\n",
      "y_test:  (26,)\n",
      "\n"
     ]
    }
   ],
   "source": [
    "print(f'''\n",
    "Shapes:\n",
    "X_train: {X_train.shape}\n",
    "X_test:  {X_test.shape}\n",
    "y_train: {y_train.shape}\n",
    "y_test:  {y_test.shape}\n",
    "''')"
   ]
  },
  {
   "cell_type": "code",
   "execution_count": 5,
   "id": "3d5503db-c005-49b0-b4d7-4c9df420141d",
   "metadata": {},
   "outputs": [],
   "source": [
    "import lightgbm as lgb\n",
    "from sklearn.model_selection import GridSearchCV"
   ]
  },
  {
   "cell_type": "code",
   "execution_count": 6,
   "id": "293442ad-3200-4eb5-8366-e847a5f06860",
   "metadata": {},
   "outputs": [],
   "source": [
    "# # Create the LGBMClassifier model\n",
    "# model = lgb.LGBMClassifier()\n",
    "\n",
    "# # define the hyperparameter grid\n",
    "# param_grid = {\n",
    "#     'num_leaves': list(np.round(np.linspace(start=2,stop=101,num=5)).astype(int)),\n",
    "#     'learning_rate': list(np.logspace(start=-3,stop=3,num=5)),\n",
    "#     'n_estimators': [50, 200],\n",
    "#     'max_depth': [-1, 10, 20]\n",
    "# }"
   ]
  },
  {
   "cell_type": "code",
   "execution_count": 7,
   "id": "2de1a90b-bd56-490a-a311-92be707f8b30",
   "metadata": {
    "tags": []
   },
   "outputs": [],
   "source": [
    "# # create the GridSearchCV object\n",
    "# grid_search = GridSearchCV(estimator=model, \n",
    "#                            param_grid=param_grid, \n",
    "#                            cv=5, \n",
    "#                            scoring='accuracy', \n",
    "#                            verbose=2,\n",
    "#                            n_jobs=-1)\n",
    "\n",
    "# # perform the grid search\n",
    "# grid_search.fit(X_train, y_train)"
   ]
  },
  {
   "cell_type": "code",
   "execution_count": null,
   "id": "6b275ccc-f67e-435b-840b-56ed968d5ca7",
   "metadata": {},
   "outputs": [],
   "source": [
    "# Create the LGBMClassifier model\n",
    "model = lgb.LGBMClassifier()\n",
    "\n",
    "# define the hyperparameter grid\n",
    "param_grid = {\n",
    "    'num_leaves': list(np.round(np.linspace(start=2,stop=101,num=10)).astype(int)),\n",
    "    'learning_rate': list(np.logspace(start=-3,stop=1,num=10)),\n",
    "    'n_estimators': [50, 200],\n",
    "    'max_depth': [-1, 10, 20]\n",
    "}"
   ]
  },
  {
   "cell_type": "code",
   "execution_count": null,
   "id": "d7cd8b4d-a5f9-42e6-96a5-6604e1379ff8",
   "metadata": {
    "tags": []
   },
   "outputs": [],
   "source": [
    "# create the GridSearchCV object\n",
    "grid_search = GridSearchCV(estimator=model, \n",
    "                           param_grid=param_grid, \n",
    "                           cv=5, \n",
    "                           scoring='accuracy', \n",
    "                           verbose=2,\n",
    "                           n_jobs=-1)\n",
    "\n",
    "# perform the grid search\n",
    "grid_search.fit(X_train, y_train)"
   ]
  },
  {
   "cell_type": "code",
   "execution_count": null,
   "id": "9eaf4b43-46fa-4573-950a-ded548b26001",
   "metadata": {},
   "outputs": [],
   "source": [
    "# get the best parameters and best score\n",
    "best_params = grid_search.best_params_\n",
    "best_score = grid_search.best_score_\n",
    "\n",
    "print(f'Best Parameters: {best_params}')\n",
    "print(f'Best Cross-Validation Accuracy: {best_score:.2f}')"
   ]
  },
  {
   "cell_type": "markdown",
   "id": "1a9a1b61-fc3b-4dd3-b935-27901b4d3d34",
   "metadata": {},
   "source": [
    "Save in joblib:"
   ]
  },
  {
   "cell_type": "code",
   "execution_count": 8,
   "id": "c57e05f2-d21d-4cb3-b818-0d3952935fa9",
   "metadata": {},
   "outputs": [],
   "source": [
    "import joblib"
   ]
  },
  {
   "cell_type": "code",
   "execution_count": null,
   "id": "1584a772-1c60-4035-b671-6f08b57f698c",
   "metadata": {},
   "outputs": [],
   "source": [
    "# save the grid search results to a file\n",
    "joblib.dump(grid_search, '../joblib/1_lgbmclassifier_20240520')"
   ]
  },
  {
   "cell_type": "code",
   "execution_count": 9,
   "id": "5a7411d8-e3c7-4678-a4a7-36e40db0ecdf",
   "metadata": {
    "tags": []
   },
   "outputs": [],
   "source": [
    "# load the grid search results from the file (for demonstration purposes)\n",
    "loaded_grid_search = joblib.load('../joblib/1_lgbmclassifier_20240520')\n",
    "\n",
    "# make predictions using the best model from the loaded grid search results\n",
    "best_model = loaded_grid_search.best_estimator_\n",
    "y_pred = best_model.predict(X_test)"
   ]
  },
  {
   "cell_type": "code",
   "execution_count": 10,
   "id": "66a373e5-fe5b-47a4-8915-f53d0646aba5",
   "metadata": {},
   "outputs": [
    {
     "name": "stdout",
     "output_type": "stream",
     "text": [
      "Test Accuracy: 0.50\n"
     ]
    }
   ],
   "source": [
    "# evaluate the model\n",
    "\n",
    "from sklearn.metrics import accuracy_score\n",
    "\n",
    "accuracy = accuracy_score(y_test, y_pred)\n",
    "print(f'Test Accuracy: {accuracy:.2f}')"
   ]
  },
  {
   "cell_type": "code",
   "execution_count": 27,
   "id": "74df4112-4901-4d9b-9f7a-6d159c45667d",
   "metadata": {
    "collapsed": true,
    "jupyter": {
     "outputs_hidden": true
    },
    "tags": []
   },
   "outputs": [
    {
     "name": "stdout",
     "output_type": "stream",
     "text": [
      "[LightGBM] [Info] Number of positive: 55, number of negative: 45\n",
      "[LightGBM] [Info] Auto-choosing col-wise multi-threading, the overhead of testing was 0.000183 seconds.\n",
      "You can set `force_col_wise=true` to remove the overhead.\n",
      "[LightGBM] [Info] Total Bins 31\n",
      "[LightGBM] [Info] Number of data points in the train set: 100, number of used features: 6\n",
      "[LightGBM] [Info] [binary:BoostFromScore]: pavg=0.550000 -> initscore=0.200671\n",
      "[LightGBM] [Info] Start training from score 0.200671\n",
      "[LightGBM] [Warning] No further splits with positive gain, best gain: -inf\n",
      "[LightGBM] [Warning] No further splits with positive gain, best gain: -inf\n",
      "[LightGBM] [Warning] No further splits with positive gain, best gain: -inf\n",
      "[LightGBM] [Warning] No further splits with positive gain, best gain: -inf\n",
      "[LightGBM] [Warning] No further splits with positive gain, best gain: -inf\n",
      "[LightGBM] [Warning] No further splits with positive gain, best gain: -inf\n",
      "[LightGBM] [Warning] No further splits with positive gain, best gain: -inf\n",
      "[LightGBM] [Warning] No further splits with positive gain, best gain: -inf\n",
      "[LightGBM] [Warning] No further splits with positive gain, best gain: -inf\n",
      "[LightGBM] [Warning] No further splits with positive gain, best gain: -inf\n",
      "[LightGBM] [Warning] No further splits with positive gain, best gain: -inf\n",
      "[LightGBM] [Warning] No further splits with positive gain, best gain: -inf\n",
      "[LightGBM] [Warning] No further splits with positive gain, best gain: -inf\n",
      "[LightGBM] [Warning] No further splits with positive gain, best gain: -inf\n",
      "[LightGBM] [Warning] No further splits with positive gain, best gain: -inf\n",
      "[LightGBM] [Warning] No further splits with positive gain, best gain: -inf\n",
      "[LightGBM] [Warning] No further splits with positive gain, best gain: -inf\n",
      "[LightGBM] [Warning] No further splits with positive gain, best gain: -inf\n",
      "[LightGBM] [Warning] No further splits with positive gain, best gain: -inf\n",
      "[LightGBM] [Warning] No further splits with positive gain, best gain: -inf\n",
      "[LightGBM] [Warning] No further splits with positive gain, best gain: -inf\n",
      "[LightGBM] [Warning] No further splits with positive gain, best gain: -inf\n",
      "[LightGBM] [Warning] No further splits with positive gain, best gain: -inf\n",
      "[LightGBM] [Warning] No further splits with positive gain, best gain: -inf\n",
      "[LightGBM] [Warning] No further splits with positive gain, best gain: -inf\n",
      "[LightGBM] [Warning] No further splits with positive gain, best gain: -inf\n",
      "[LightGBM] [Warning] No further splits with positive gain, best gain: -inf\n",
      "[LightGBM] [Warning] No further splits with positive gain, best gain: -inf\n",
      "[LightGBM] [Warning] No further splits with positive gain, best gain: -inf\n",
      "[LightGBM] [Warning] No further splits with positive gain, best gain: -inf\n",
      "[LightGBM] [Warning] No further splits with positive gain, best gain: -inf\n",
      "[LightGBM] [Warning] No further splits with positive gain, best gain: -inf\n",
      "[LightGBM] [Warning] No further splits with positive gain, best gain: -inf\n",
      "[LightGBM] [Warning] No further splits with positive gain, best gain: -inf\n",
      "[LightGBM] [Warning] No further splits with positive gain, best gain: -inf\n",
      "[LightGBM] [Warning] No further splits with positive gain, best gain: -inf\n",
      "[LightGBM] [Warning] No further splits with positive gain, best gain: -inf\n",
      "[LightGBM] [Warning] No further splits with positive gain, best gain: -inf\n",
      "[LightGBM] [Warning] No further splits with positive gain, best gain: -inf\n",
      "[LightGBM] [Warning] No further splits with positive gain, best gain: -inf\n",
      "[LightGBM] [Warning] No further splits with positive gain, best gain: -inf\n",
      "[LightGBM] [Warning] No further splits with positive gain, best gain: -inf\n",
      "[LightGBM] [Warning] No further splits with positive gain, best gain: -inf\n",
      "[LightGBM] [Warning] No further splits with positive gain, best gain: -inf\n",
      "[LightGBM] [Warning] No further splits with positive gain, best gain: -inf\n",
      "[LightGBM] [Warning] No further splits with positive gain, best gain: -inf\n",
      "[LightGBM] [Warning] No further splits with positive gain, best gain: -inf\n",
      "[LightGBM] [Warning] No further splits with positive gain, best gain: -inf\n",
      "[LightGBM] [Warning] No further splits with positive gain, best gain: -inf\n",
      "[LightGBM] [Warning] No further splits with positive gain, best gain: -inf\n",
      "[LightGBM] [Warning] No further splits with positive gain, best gain: -inf\n",
      "[LightGBM] [Warning] No further splits with positive gain, best gain: -inf\n",
      "[LightGBM] [Warning] No further splits with positive gain, best gain: -inf\n",
      "[LightGBM] [Warning] No further splits with positive gain, best gain: -inf\n",
      "[LightGBM] [Warning] No further splits with positive gain, best gain: -inf\n",
      "[LightGBM] [Warning] No further splits with positive gain, best gain: -inf\n",
      "[LightGBM] [Warning] No further splits with positive gain, best gain: -inf\n",
      "[LightGBM] [Warning] No further splits with positive gain, best gain: -inf\n",
      "[LightGBM] [Warning] No further splits with positive gain, best gain: -inf\n",
      "[LightGBM] [Warning] No further splits with positive gain, best gain: -inf\n",
      "[LightGBM] [Warning] No further splits with positive gain, best gain: -inf\n",
      "[LightGBM] [Warning] No further splits with positive gain, best gain: -inf\n",
      "[LightGBM] [Warning] No further splits with positive gain, best gain: -inf\n",
      "[LightGBM] [Warning] No further splits with positive gain, best gain: -inf\n",
      "[LightGBM] [Warning] No further splits with positive gain, best gain: -inf\n",
      "[LightGBM] [Warning] No further splits with positive gain, best gain: -inf\n",
      "[LightGBM] [Warning] No further splits with positive gain, best gain: -inf\n",
      "[LightGBM] [Warning] No further splits with positive gain, best gain: -inf\n",
      "[LightGBM] [Warning] No further splits with positive gain, best gain: -inf\n",
      "[LightGBM] [Warning] No further splits with positive gain, best gain: -inf\n",
      "[LightGBM] [Warning] No further splits with positive gain, best gain: -inf\n",
      "[LightGBM] [Warning] No further splits with positive gain, best gain: -inf\n",
      "[LightGBM] [Warning] No further splits with positive gain, best gain: -inf\n",
      "[LightGBM] [Warning] No further splits with positive gain, best gain: -inf\n",
      "[LightGBM] [Warning] No further splits with positive gain, best gain: -inf\n",
      "[LightGBM] [Warning] No further splits with positive gain, best gain: -inf\n",
      "[LightGBM] [Warning] No further splits with positive gain, best gain: -inf\n",
      "[LightGBM] [Warning] No further splits with positive gain, best gain: -inf\n",
      "[LightGBM] [Warning] No further splits with positive gain, best gain: -inf\n",
      "[LightGBM] [Warning] No further splits with positive gain, best gain: -inf\n",
      "[LightGBM] [Warning] No further splits with positive gain, best gain: -inf\n",
      "[LightGBM] [Warning] No further splits with positive gain, best gain: -inf\n",
      "[LightGBM] [Warning] No further splits with positive gain, best gain: -inf\n",
      "[LightGBM] [Warning] No further splits with positive gain, best gain: -inf\n",
      "[LightGBM] [Warning] No further splits with positive gain, best gain: -inf\n",
      "[LightGBM] [Warning] No further splits with positive gain, best gain: -inf\n",
      "[LightGBM] [Warning] No further splits with positive gain, best gain: -inf\n",
      "[LightGBM] [Warning] No further splits with positive gain, best gain: -inf\n",
      "[LightGBM] [Warning] No further splits with positive gain, best gain: -inf\n",
      "[LightGBM] [Warning] No further splits with positive gain, best gain: -inf\n",
      "[LightGBM] [Warning] No further splits with positive gain, best gain: -inf\n",
      "[LightGBM] [Warning] No further splits with positive gain, best gain: -inf\n",
      "[LightGBM] [Warning] No further splits with positive gain, best gain: -inf\n",
      "[LightGBM] [Warning] No further splits with positive gain, best gain: -inf\n",
      "[LightGBM] [Warning] No further splits with positive gain, best gain: -inf\n",
      "[LightGBM] [Warning] No further splits with positive gain, best gain: -inf\n",
      "[LightGBM] [Warning] No further splits with positive gain, best gain: -inf\n",
      "[LightGBM] [Warning] No further splits with positive gain, best gain: -inf\n",
      "[LightGBM] [Warning] No further splits with positive gain, best gain: -inf\n",
      "[LightGBM] [Warning] No further splits with positive gain, best gain: -inf\n",
      "[LightGBM] [Warning] No further splits with positive gain, best gain: -inf\n",
      "[LightGBM] [Warning] No further splits with positive gain, best gain: -inf\n",
      "[LightGBM] [Warning] No further splits with positive gain, best gain: -inf\n",
      "[LightGBM] [Warning] No further splits with positive gain, best gain: -inf\n",
      "[LightGBM] [Warning] No further splits with positive gain, best gain: -inf\n",
      "[LightGBM] [Warning] No further splits with positive gain, best gain: -inf\n",
      "[LightGBM] [Warning] No further splits with positive gain, best gain: -inf\n",
      "[LightGBM] [Warning] No further splits with positive gain, best gain: -inf\n",
      "[LightGBM] [Warning] No further splits with positive gain, best gain: -inf\n",
      "[LightGBM] [Warning] No further splits with positive gain, best gain: -inf\n",
      "[LightGBM] [Warning] No further splits with positive gain, best gain: -inf\n",
      "[LightGBM] [Warning] No further splits with positive gain, best gain: -inf\n",
      "[LightGBM] [Warning] No further splits with positive gain, best gain: -inf\n",
      "[LightGBM] [Warning] No further splits with positive gain, best gain: -inf\n",
      "[LightGBM] [Warning] No further splits with positive gain, best gain: -inf\n",
      "[LightGBM] [Warning] No further splits with positive gain, best gain: -inf\n",
      "[LightGBM] [Warning] No further splits with positive gain, best gain: -inf\n",
      "[LightGBM] [Warning] No further splits with positive gain, best gain: -inf\n",
      "[LightGBM] [Warning] No further splits with positive gain, best gain: -inf\n",
      "[LightGBM] [Warning] No further splits with positive gain, best gain: -inf\n",
      "[LightGBM] [Warning] No further splits with positive gain, best gain: -inf\n",
      "[LightGBM] [Warning] No further splits with positive gain, best gain: -inf\n",
      "[LightGBM] [Warning] No further splits with positive gain, best gain: -inf\n",
      "[LightGBM] [Warning] No further splits with positive gain, best gain: -inf\n",
      "[LightGBM] [Warning] No further splits with positive gain, best gain: -inf\n",
      "[LightGBM] [Warning] No further splits with positive gain, best gain: -inf\n",
      "[LightGBM] [Warning] No further splits with positive gain, best gain: -inf\n",
      "[LightGBM] [Warning] No further splits with positive gain, best gain: -inf\n",
      "[LightGBM] [Warning] No further splits with positive gain, best gain: -inf\n",
      "[LightGBM] [Warning] No further splits with positive gain, best gain: -inf\n",
      "[LightGBM] [Warning] No further splits with positive gain, best gain: -inf\n",
      "[LightGBM] [Warning] No further splits with positive gain, best gain: -inf\n",
      "[LightGBM] [Warning] No further splits with positive gain, best gain: -inf\n",
      "[LightGBM] [Warning] No further splits with positive gain, best gain: -inf\n",
      "[LightGBM] [Warning] No further splits with positive gain, best gain: -inf\n",
      "[LightGBM] [Warning] No further splits with positive gain, best gain: -inf\n",
      "[LightGBM] [Warning] No further splits with positive gain, best gain: -inf\n",
      "[LightGBM] [Warning] No further splits with positive gain, best gain: -inf\n",
      "[LightGBM] [Warning] No further splits with positive gain, best gain: -inf\n",
      "[LightGBM] [Warning] No further splits with positive gain, best gain: -inf\n",
      "[LightGBM] [Warning] No further splits with positive gain, best gain: -inf\n",
      "[LightGBM] [Warning] No further splits with positive gain, best gain: -inf\n",
      "[LightGBM] [Warning] No further splits with positive gain, best gain: -inf\n",
      "[LightGBM] [Warning] No further splits with positive gain, best gain: -inf\n",
      "[LightGBM] [Warning] No further splits with positive gain, best gain: -inf\n",
      "[LightGBM] [Warning] No further splits with positive gain, best gain: -inf\n",
      "[LightGBM] [Warning] No further splits with positive gain, best gain: -inf\n",
      "[LightGBM] [Warning] No further splits with positive gain, best gain: -inf\n",
      "[LightGBM] [Warning] No further splits with positive gain, best gain: -inf\n",
      "[LightGBM] [Warning] No further splits with positive gain, best gain: -inf\n",
      "[LightGBM] [Warning] No further splits with positive gain, best gain: -inf\n",
      "[LightGBM] [Warning] No further splits with positive gain, best gain: -inf\n",
      "[LightGBM] [Warning] No further splits with positive gain, best gain: -inf\n",
      "[LightGBM] [Warning] No further splits with positive gain, best gain: -inf\n",
      "[LightGBM] [Warning] No further splits with positive gain, best gain: -inf\n",
      "[LightGBM] [Warning] No further splits with positive gain, best gain: -inf\n",
      "[LightGBM] [Warning] No further splits with positive gain, best gain: -inf\n",
      "[LightGBM] [Warning] No further splits with positive gain, best gain: -inf\n",
      "[LightGBM] [Warning] No further splits with positive gain, best gain: -inf\n",
      "[LightGBM] [Warning] No further splits with positive gain, best gain: -inf\n",
      "[LightGBM] [Warning] No further splits with positive gain, best gain: -inf\n",
      "[LightGBM] [Warning] No further splits with positive gain, best gain: -inf\n",
      "[LightGBM] [Warning] No further splits with positive gain, best gain: -inf\n",
      "[LightGBM] [Warning] No further splits with positive gain, best gain: -inf\n",
      "[LightGBM] [Warning] No further splits with positive gain, best gain: -inf\n",
      "[LightGBM] [Warning] No further splits with positive gain, best gain: -inf\n",
      "[LightGBM] [Warning] No further splits with positive gain, best gain: -inf\n",
      "[LightGBM] [Warning] No further splits with positive gain, best gain: -inf\n",
      "[LightGBM] [Warning] No further splits with positive gain, best gain: -inf\n",
      "[LightGBM] [Warning] No further splits with positive gain, best gain: -inf\n",
      "[LightGBM] [Warning] No further splits with positive gain, best gain: -inf\n",
      "[LightGBM] [Warning] No further splits with positive gain, best gain: -inf\n",
      "[LightGBM] [Warning] No further splits with positive gain, best gain: -inf\n",
      "[LightGBM] [Warning] No further splits with positive gain, best gain: -inf\n",
      "[LightGBM] [Warning] No further splits with positive gain, best gain: -inf\n",
      "[LightGBM] [Warning] No further splits with positive gain, best gain: -inf\n",
      "[LightGBM] [Warning] No further splits with positive gain, best gain: -inf\n",
      "[LightGBM] [Warning] No further splits with positive gain, best gain: -inf\n",
      "[LightGBM] [Warning] No further splits with positive gain, best gain: -inf\n",
      "[LightGBM] [Warning] No further splits with positive gain, best gain: -inf\n",
      "[LightGBM] [Warning] No further splits with positive gain, best gain: -inf\n",
      "[LightGBM] [Warning] No further splits with positive gain, best gain: -inf\n",
      "[LightGBM] [Warning] No further splits with positive gain, best gain: -inf\n",
      "[LightGBM] [Warning] No further splits with positive gain, best gain: -inf\n",
      "[LightGBM] [Warning] No further splits with positive gain, best gain: -inf\n",
      "[LightGBM] [Warning] No further splits with positive gain, best gain: -inf\n",
      "[LightGBM] [Warning] No further splits with positive gain, best gain: -inf\n",
      "[LightGBM] [Warning] No further splits with positive gain, best gain: -inf\n",
      "[LightGBM] [Warning] No further splits with positive gain, best gain: -inf\n",
      "[LightGBM] [Warning] No further splits with positive gain, best gain: -inf\n",
      "[LightGBM] [Warning] No further splits with positive gain, best gain: -inf\n",
      "[LightGBM] [Warning] No further splits with positive gain, best gain: -inf\n",
      "[LightGBM] [Warning] No further splits with positive gain, best gain: -inf\n",
      "[LightGBM] [Warning] No further splits with positive gain, best gain: -inf\n",
      "[LightGBM] [Warning] No further splits with positive gain, best gain: -inf\n",
      "[LightGBM] [Warning] No further splits with positive gain, best gain: -inf\n",
      "[LightGBM] [Warning] No further splits with positive gain, best gain: -inf\n",
      "[LightGBM] [Warning] No further splits with positive gain, best gain: -inf\n",
      "[LightGBM] [Warning] No further splits with positive gain, best gain: -inf\n",
      "[LightGBM] [Warning] No further splits with positive gain, best gain: -inf\n",
      "Training accuracy 0.7500\n",
      "Testing accuracy 0.5385\n",
      "0.5384615384615384\n"
     ]
    }
   ],
   "source": [
    "# https://www.analyticsvidhya.com/blog/2021/08/complete-guide-on-how-to-use-lightgbm-in-python/\n",
    "\n",
    "model=lgb.LGBMClassifier(learning_rate=0.039810717055349734,\n",
    "                   max_depth=20,\n",
    "                   n_estimators=200,\n",
    "                   num_leaves=100)\n",
    "\n",
    "model.fit(X=X_train,\n",
    "          y=y_train,\n",
    "          eval_set=[(X_train,y_train),(X_test, y_test)],\n",
    "          eval_metric=['logloss'])#,'error','auc','binary_error','binary_logloss'])\n",
    "\n",
    "print('Training accuracy {:.4f}'.format(model.score(X_train,y_train)))\n",
    "print('Testing accuracy {:.4f}'.format(model.score(X_test,y_test)))\n",
    "\n",
    "# score on test set\n",
    "print(model.score(X_test,y_test))"
   ]
  },
  {
   "cell_type": "code",
   "execution_count": 28,
   "id": "29a99859-6226-48a5-9130-10ef5f9a2d66",
   "metadata": {
    "tags": []
   },
   "outputs": [
    {
     "name": "stdout",
     "output_type": "stream",
     "text": [
      "Training accuracy 0.7500\n",
      "Testing accuracy 0.5385\n"
     ]
    }
   ],
   "source": [
    "print('Training accuracy {:.4f}'.format(model.score(X_train,y_train)))\n",
    "print('Testing accuracy {:.4f}'.format(model.score(X_test,y_test)))"
   ]
  },
  {
   "cell_type": "code",
   "execution_count": 29,
   "id": "f063b8c3-f433-4fb5-9a49-cea09babc500",
   "metadata": {},
   "outputs": [
    {
     "data": {
      "text/plain": [
       "<Axes: title={'center': 'Feature importance'}, xlabel='Feature importance', ylabel='Features'>"
      ]
     },
     "execution_count": 29,
     "metadata": {},
     "output_type": "execute_result"
    },
    {
     "data": {
      "image/png": "[encoded data removed]",
      "text/plain": [
       "<Figure size 640x480 with 1 Axes>"
      ]
     },
     "metadata": {},
     "output_type": "display_data"
    }
   ],
   "source": [
    "lgb.plot_importance(model)"
   ]
  },
  {
   "cell_type": "code",
   "execution_count": 30,
   "id": "080ce501-6cfc-4115-b9be-97f177b5db00",
   "metadata": {},
   "outputs": [
    {
     "data": {
      "text/plain": [
       "<Axes: title={'center': 'Metric during training'}, xlabel='Iterations', ylabel='binary_logloss'>"
      ]
     },
     "execution_count": 30,
     "metadata": {},
     "output_type": "execute_result"
    },
    {
     "data": {
      "image/png": "[encoded data removed]",
      "text/plain": [
       "<Figure size 640x480 with 1 Axes>"
      ]
     },
     "metadata": {},
     "output_type": "display_data"
    }
   ],
   "source": [
    "lgb.plot_metric(model)"
   ]
  },
  {
   "cell_type": "code",
   "execution_count": 16,
   "id": "e9a5f9d4-8523-4df7-9671-ad25f89b2d11",
   "metadata": {
    "collapsed": true,
    "jupyter": {
     "outputs_hidden": true
    },
    "tags": []
   },
   "outputs": [
    {
     "ename": "ExecutableNotFound",
     "evalue": "failed to execute PosixPath('dot'), make sure the Graphviz executables are on your systems' PATH",
     "output_type": "error",
     "traceback": [
      "\u001b[0;31m---------------------------------------------------------------------------\u001b[0m",
      "\u001b[0;31mFileNotFoundError\u001b[0m                         Traceback (most recent call last)",
      "File \u001b[0;32m/Applications/Anaconda/anaconda3/envs/lightgbm/lib/python3.12/site-packages/graphviz/backend/execute.py:79\u001b[0m, in \u001b[0;36mrun_check\u001b[0;34m(cmd, input_lines, encoding, quiet, **kwargs)\u001b[0m\n\u001b[1;32m     78\u001b[0m         kwargs[\u001b[38;5;124m'\u001b[39m\u001b[38;5;124mstdout\u001b[39m\u001b[38;5;124m'\u001b[39m] \u001b[38;5;241m=\u001b[39m kwargs[\u001b[38;5;124m'\u001b[39m\u001b[38;5;124mstderr\u001b[39m\u001b[38;5;124m'\u001b[39m] \u001b[38;5;241m=\u001b[39m subprocess\u001b[38;5;241m.\u001b[39mPIPE\n\u001b[0;32m---> 79\u001b[0m     proc \u001b[38;5;241m=\u001b[39m _run_input_lines(cmd, input_lines, kwargs\u001b[38;5;241m=\u001b[39mkwargs)\n\u001b[1;32m     80\u001b[0m \u001b[38;5;28;01melse\u001b[39;00m:\n",
      "File \u001b[0;32m/Applications/Anaconda/anaconda3/envs/lightgbm/lib/python3.12/site-packages/graphviz/backend/execute.py:99\u001b[0m, in \u001b[0;36m_run_input_lines\u001b[0;34m(cmd, input_lines, kwargs)\u001b[0m\n\u001b[1;32m     98\u001b[0m \u001b[38;5;28;01mdef\u001b[39;00m \u001b[38;5;21m_run_input_lines\u001b[39m(cmd, input_lines, \u001b[38;5;241m*\u001b[39m, kwargs):\n\u001b[0;32m---> 99\u001b[0m     popen \u001b[38;5;241m=\u001b[39m subprocess\u001b[38;5;241m.\u001b[39mPopen(cmd, stdin\u001b[38;5;241m=\u001b[39msubprocess\u001b[38;5;241m.\u001b[39mPIPE, \u001b[38;5;241m*\u001b[39m\u001b[38;5;241m*\u001b[39mkwargs)\n\u001b[1;32m    101\u001b[0m     stdin_write \u001b[38;5;241m=\u001b[39m popen\u001b[38;5;241m.\u001b[39mstdin\u001b[38;5;241m.\u001b[39mwrite\n",
      "File \u001b[0;32m/Applications/Anaconda/anaconda3/envs/lightgbm/lib/python3.12/subprocess.py:1026\u001b[0m, in \u001b[0;36mPopen.__init__\u001b[0;34m(self, args, bufsize, executable, stdin, stdout, stderr, preexec_fn, close_fds, shell, cwd, env, universal_newlines, startupinfo, creationflags, restore_signals, start_new_session, pass_fds, user, group, extra_groups, encoding, errors, text, umask, pipesize, process_group)\u001b[0m\n\u001b[1;32m   1023\u001b[0m             \u001b[38;5;28mself\u001b[39m\u001b[38;5;241m.\u001b[39mstderr \u001b[38;5;241m=\u001b[39m io\u001b[38;5;241m.\u001b[39mTextIOWrapper(\u001b[38;5;28mself\u001b[39m\u001b[38;5;241m.\u001b[39mstderr,\n\u001b[1;32m   1024\u001b[0m                     encoding\u001b[38;5;241m=\u001b[39mencoding, errors\u001b[38;5;241m=\u001b[39merrors)\n\u001b[0;32m-> 1026\u001b[0m     \u001b[38;5;28mself\u001b[39m\u001b[38;5;241m.\u001b[39m_execute_child(args, executable, preexec_fn, close_fds,\n\u001b[1;32m   1027\u001b[0m                         pass_fds, cwd, env,\n\u001b[1;32m   1028\u001b[0m                         startupinfo, creationflags, shell,\n\u001b[1;32m   1029\u001b[0m                         p2cread, p2cwrite,\n\u001b[1;32m   1030\u001b[0m                         c2pread, c2pwrite,\n\u001b[1;32m   1031\u001b[0m                         errread, errwrite,\n\u001b[1;32m   1032\u001b[0m                         restore_signals,\n\u001b[1;32m   1033\u001b[0m                         gid, gids, uid, umask,\n\u001b[1;32m   1034\u001b[0m                         start_new_session, process_group)\n\u001b[1;32m   1035\u001b[0m \u001b[38;5;28;01mexcept\u001b[39;00m:\n\u001b[1;32m   1036\u001b[0m     \u001b[38;5;66;03m# Cleanup if the child failed starting.\u001b[39;00m\n",
      "File \u001b[0;32m/Applications/Anaconda/anaconda3/envs/lightgbm/lib/python3.12/subprocess.py:1955\u001b[0m, in \u001b[0;36mPopen._execute_child\u001b[0;34m(self, args, executable, preexec_fn, close_fds, pass_fds, cwd, env, startupinfo, creationflags, shell, p2cread, p2cwrite, c2pread, c2pwrite, errread, errwrite, restore_signals, gid, gids, uid, umask, start_new_session, process_group)\u001b[0m\n\u001b[1;32m   1954\u001b[0m \u001b[38;5;28;01mif\u001b[39;00m err_filename \u001b[38;5;129;01mis\u001b[39;00m \u001b[38;5;129;01mnot\u001b[39;00m \u001b[38;5;28;01mNone\u001b[39;00m:\n\u001b[0;32m-> 1955\u001b[0m     \u001b[38;5;28;01mraise\u001b[39;00m child_exception_type(errno_num, err_msg, err_filename)\n\u001b[1;32m   1956\u001b[0m \u001b[38;5;28;01melse\u001b[39;00m:\n",
      "\u001b[0;31mFileNotFoundError\u001b[0m: [Errno 2] No such file or directory: PosixPath('dot')",
      "\nThe above exception was the direct cause of the following exception:\n",
      "\u001b[0;31mExecutableNotFound\u001b[0m                        Traceback (most recent call last)",
      "Cell \u001b[0;32mIn[16], line 1\u001b[0m\n\u001b[0;32m----> 1\u001b[0m lgb\u001b[38;5;241m.\u001b[39mplot_tree(model,figsize\u001b[38;5;241m=\u001b[39m(\u001b[38;5;241m30\u001b[39m,\u001b[38;5;241m40\u001b[39m))\n",
      "File \u001b[0;32m/Applications/Anaconda/anaconda3/envs/lightgbm/lib/python3.12/site-packages/lightgbm/plotting.py:822\u001b[0m, in \u001b[0;36mplot_tree\u001b[0;34m(booster, ax, tree_index, figsize, dpi, show_info, precision, orientation, example_case, **kwargs)\u001b[0m\n\u001b[1;32m    817\u001b[0m graph \u001b[38;5;241m=\u001b[39m create_tree_digraph(booster\u001b[38;5;241m=\u001b[39mbooster, tree_index\u001b[38;5;241m=\u001b[39mtree_index,\n\u001b[1;32m    818\u001b[0m                             show_info\u001b[38;5;241m=\u001b[39mshow_info, precision\u001b[38;5;241m=\u001b[39mprecision,\n\u001b[1;32m    819\u001b[0m                             orientation\u001b[38;5;241m=\u001b[39morientation, example_case\u001b[38;5;241m=\u001b[39mexample_case, \u001b[38;5;241m*\u001b[39m\u001b[38;5;241m*\u001b[39mkwargs)\n\u001b[1;32m    821\u001b[0m s \u001b[38;5;241m=\u001b[39m BytesIO()\n\u001b[0;32m--> 822\u001b[0m s\u001b[38;5;241m.\u001b[39mwrite(graph\u001b[38;5;241m.\u001b[39mpipe(\u001b[38;5;28mformat\u001b[39m\u001b[38;5;241m=\u001b[39m\u001b[38;5;124m'\u001b[39m\u001b[38;5;124mpng\u001b[39m\u001b[38;5;124m'\u001b[39m))\n\u001b[1;32m    823\u001b[0m s\u001b[38;5;241m.\u001b[39mseek(\u001b[38;5;241m0\u001b[39m)\n\u001b[1;32m    824\u001b[0m img \u001b[38;5;241m=\u001b[39m image\u001b[38;5;241m.\u001b[39mimread(s)\n",
      "File \u001b[0;32m/Applications/Anaconda/anaconda3/envs/lightgbm/lib/python3.12/site-packages/graphviz/piping.py:104\u001b[0m, in \u001b[0;36mPipe.pipe\u001b[0;34m(self, format, renderer, formatter, neato_no_op, quiet, engine, encoding)\u001b[0m\n\u001b[1;32m     55\u001b[0m \u001b[38;5;28;01mdef\u001b[39;00m \u001b[38;5;21mpipe\u001b[39m(\u001b[38;5;28mself\u001b[39m,\n\u001b[1;32m     56\u001b[0m          \u001b[38;5;28mformat\u001b[39m: typing\u001b[38;5;241m.\u001b[39mOptional[\u001b[38;5;28mstr\u001b[39m] \u001b[38;5;241m=\u001b[39m \u001b[38;5;28;01mNone\u001b[39;00m,\n\u001b[1;32m     57\u001b[0m          renderer: typing\u001b[38;5;241m.\u001b[39mOptional[\u001b[38;5;28mstr\u001b[39m] \u001b[38;5;241m=\u001b[39m \u001b[38;5;28;01mNone\u001b[39;00m,\n\u001b[0;32m   (...)\u001b[0m\n\u001b[1;32m     61\u001b[0m          engine: typing\u001b[38;5;241m.\u001b[39mOptional[\u001b[38;5;28mstr\u001b[39m] \u001b[38;5;241m=\u001b[39m \u001b[38;5;28;01mNone\u001b[39;00m,\n\u001b[1;32m     62\u001b[0m          encoding: typing\u001b[38;5;241m.\u001b[39mOptional[\u001b[38;5;28mstr\u001b[39m] \u001b[38;5;241m=\u001b[39m \u001b[38;5;28;01mNone\u001b[39;00m) \u001b[38;5;241m-\u001b[39m\u001b[38;5;241m>\u001b[39m typing\u001b[38;5;241m.\u001b[39mUnion[\u001b[38;5;28mbytes\u001b[39m, \u001b[38;5;28mstr\u001b[39m]:\n\u001b[1;32m     63\u001b[0m \u001b[38;5;250m    \u001b[39m\u001b[38;5;124;03m\"\"\"Return the source piped through the Graphviz layout command.\u001b[39;00m\n\u001b[1;32m     64\u001b[0m \n\u001b[1;32m     65\u001b[0m \u001b[38;5;124;03m    Args:\u001b[39;00m\n\u001b[0;32m   (...)\u001b[0m\n\u001b[1;32m    102\u001b[0m \u001b[38;5;124;03m        '<?xml version='\u001b[39;00m\n\u001b[1;32m    103\u001b[0m \u001b[38;5;124;03m    \"\"\"\u001b[39;00m\n\u001b[0;32m--> 104\u001b[0m     \u001b[38;5;28;01mreturn\u001b[39;00m \u001b[38;5;28mself\u001b[39m\u001b[38;5;241m.\u001b[39m_pipe_legacy(\u001b[38;5;28mformat\u001b[39m,\n\u001b[1;32m    105\u001b[0m                              renderer\u001b[38;5;241m=\u001b[39mrenderer,\n\u001b[1;32m    106\u001b[0m                              formatter\u001b[38;5;241m=\u001b[39mformatter,\n\u001b[1;32m    107\u001b[0m                              neato_no_op\u001b[38;5;241m=\u001b[39mneato_no_op,\n\u001b[1;32m    108\u001b[0m                              quiet\u001b[38;5;241m=\u001b[39mquiet,\n\u001b[1;32m    109\u001b[0m                              engine\u001b[38;5;241m=\u001b[39mengine,\n\u001b[1;32m    110\u001b[0m                              encoding\u001b[38;5;241m=\u001b[39mencoding)\n",
      "File \u001b[0;32m/Applications/Anaconda/anaconda3/envs/lightgbm/lib/python3.12/site-packages/graphviz/_tools.py:171\u001b[0m, in \u001b[0;36mdeprecate_positional_args.<locals>.decorator.<locals>.wrapper\u001b[0;34m(*args, **kwargs)\u001b[0m\n\u001b[1;32m    162\u001b[0m     wanted \u001b[38;5;241m=\u001b[39m \u001b[38;5;124m'\u001b[39m\u001b[38;5;124m, \u001b[39m\u001b[38;5;124m'\u001b[39m\u001b[38;5;241m.\u001b[39mjoin(\u001b[38;5;124mf\u001b[39m\u001b[38;5;124m'\u001b[39m\u001b[38;5;132;01m{\u001b[39;00mname\u001b[38;5;132;01m}\u001b[39;00m\u001b[38;5;124m=\u001b[39m\u001b[38;5;132;01m{\u001b[39;00mvalue\u001b[38;5;132;01m!r}\u001b[39;00m\u001b[38;5;124m'\u001b[39m\n\u001b[1;32m    163\u001b[0m                        \u001b[38;5;28;01mfor\u001b[39;00m name, value \u001b[38;5;129;01min\u001b[39;00m deprecated\u001b[38;5;241m.\u001b[39mitems())\n\u001b[1;32m    164\u001b[0m     warnings\u001b[38;5;241m.\u001b[39mwarn(\u001b[38;5;124mf\u001b[39m\u001b[38;5;124m'\u001b[39m\u001b[38;5;124mThe signature of \u001b[39m\u001b[38;5;132;01m{\u001b[39;00mfunc\u001b[38;5;241m.\u001b[39m\u001b[38;5;18m__name__\u001b[39m\u001b[38;5;132;01m}\u001b[39;00m\u001b[38;5;124m will be reduced\u001b[39m\u001b[38;5;124m'\u001b[39m\n\u001b[1;32m    165\u001b[0m                   \u001b[38;5;124mf\u001b[39m\u001b[38;5;124m'\u001b[39m\u001b[38;5;124m to \u001b[39m\u001b[38;5;132;01m{\u001b[39;00msupported_number\u001b[38;5;132;01m}\u001b[39;00m\u001b[38;5;124m positional args\u001b[39m\u001b[38;5;124m'\u001b[39m\n\u001b[1;32m    166\u001b[0m                   \u001b[38;5;124mf\u001b[39m\u001b[38;5;124m'\u001b[39m\u001b[38;5;124m \u001b[39m\u001b[38;5;132;01m{\u001b[39;00m\u001b[38;5;28mlist\u001b[39m(supported)\u001b[38;5;132;01m}\u001b[39;00m\u001b[38;5;124m: pass \u001b[39m\u001b[38;5;132;01m{\u001b[39;00mwanted\u001b[38;5;132;01m}\u001b[39;00m\u001b[38;5;124m'\u001b[39m\n\u001b[1;32m    167\u001b[0m                   \u001b[38;5;124m'\u001b[39m\u001b[38;5;124m as keyword arg(s)\u001b[39m\u001b[38;5;124m'\u001b[39m,\n\u001b[1;32m    168\u001b[0m                   stacklevel\u001b[38;5;241m=\u001b[39mstacklevel,\n\u001b[1;32m    169\u001b[0m                   category\u001b[38;5;241m=\u001b[39mcategory)\n\u001b[0;32m--> 171\u001b[0m \u001b[38;5;28;01mreturn\u001b[39;00m func(\u001b[38;5;241m*\u001b[39margs, \u001b[38;5;241m*\u001b[39m\u001b[38;5;241m*\u001b[39mkwargs)\n",
      "File \u001b[0;32m/Applications/Anaconda/anaconda3/envs/lightgbm/lib/python3.12/site-packages/graphviz/piping.py:121\u001b[0m, in \u001b[0;36mPipe._pipe_legacy\u001b[0;34m(self, format, renderer, formatter, neato_no_op, quiet, engine, encoding)\u001b[0m\n\u001b[1;32m    112\u001b[0m \u001b[38;5;129m@_tools\u001b[39m\u001b[38;5;241m.\u001b[39mdeprecate_positional_args(supported_number\u001b[38;5;241m=\u001b[39m\u001b[38;5;241m2\u001b[39m)\n\u001b[1;32m    113\u001b[0m \u001b[38;5;28;01mdef\u001b[39;00m \u001b[38;5;21m_pipe_legacy\u001b[39m(\u001b[38;5;28mself\u001b[39m,\n\u001b[1;32m    114\u001b[0m                  \u001b[38;5;28mformat\u001b[39m: typing\u001b[38;5;241m.\u001b[39mOptional[\u001b[38;5;28mstr\u001b[39m] \u001b[38;5;241m=\u001b[39m \u001b[38;5;28;01mNone\u001b[39;00m,\n\u001b[0;32m   (...)\u001b[0m\n\u001b[1;32m    119\u001b[0m                  engine: typing\u001b[38;5;241m.\u001b[39mOptional[\u001b[38;5;28mstr\u001b[39m] \u001b[38;5;241m=\u001b[39m \u001b[38;5;28;01mNone\u001b[39;00m,\n\u001b[1;32m    120\u001b[0m                  encoding: typing\u001b[38;5;241m.\u001b[39mOptional[\u001b[38;5;28mstr\u001b[39m] \u001b[38;5;241m=\u001b[39m \u001b[38;5;28;01mNone\u001b[39;00m) \u001b[38;5;241m-\u001b[39m\u001b[38;5;241m>\u001b[39m typing\u001b[38;5;241m.\u001b[39mUnion[\u001b[38;5;28mbytes\u001b[39m, \u001b[38;5;28mstr\u001b[39m]:\n\u001b[0;32m--> 121\u001b[0m     \u001b[38;5;28;01mreturn\u001b[39;00m \u001b[38;5;28mself\u001b[39m\u001b[38;5;241m.\u001b[39m_pipe_future(\u001b[38;5;28mformat\u001b[39m,\n\u001b[1;32m    122\u001b[0m                              renderer\u001b[38;5;241m=\u001b[39mrenderer,\n\u001b[1;32m    123\u001b[0m                              formatter\u001b[38;5;241m=\u001b[39mformatter,\n\u001b[1;32m    124\u001b[0m                              neato_no_op\u001b[38;5;241m=\u001b[39mneato_no_op,\n\u001b[1;32m    125\u001b[0m                              quiet\u001b[38;5;241m=\u001b[39mquiet,\n\u001b[1;32m    126\u001b[0m                              engine\u001b[38;5;241m=\u001b[39mengine,\n\u001b[1;32m    127\u001b[0m                              encoding\u001b[38;5;241m=\u001b[39mencoding)\n",
      "File \u001b[0;32m/Applications/Anaconda/anaconda3/envs/lightgbm/lib/python3.12/site-packages/graphviz/piping.py:161\u001b[0m, in \u001b[0;36mPipe._pipe_future\u001b[0;34m(self, format, renderer, formatter, neato_no_op, quiet, engine, encoding)\u001b[0m\n\u001b[1;32m    159\u001b[0m     \u001b[38;5;28;01melse\u001b[39;00m:\n\u001b[1;32m    160\u001b[0m         \u001b[38;5;28;01mreturn\u001b[39;00m raw\u001b[38;5;241m.\u001b[39mdecode(encoding)\n\u001b[0;32m--> 161\u001b[0m \u001b[38;5;28;01mreturn\u001b[39;00m \u001b[38;5;28mself\u001b[39m\u001b[38;5;241m.\u001b[39m_pipe_lines(\u001b[38;5;241m*\u001b[39margs, input_encoding\u001b[38;5;241m=\u001b[39m\u001b[38;5;28mself\u001b[39m\u001b[38;5;241m.\u001b[39mencoding, \u001b[38;5;241m*\u001b[39m\u001b[38;5;241m*\u001b[39mkwargs)\n",
      "File \u001b[0;32m/Applications/Anaconda/anaconda3/envs/lightgbm/lib/python3.12/site-packages/graphviz/backend/piping.py:161\u001b[0m, in \u001b[0;36mpipe_lines\u001b[0;34m(engine, format, input_lines, input_encoding, renderer, formatter, neato_no_op, quiet)\u001b[0m\n\u001b[1;32m    155\u001b[0m cmd \u001b[38;5;241m=\u001b[39m dot_command\u001b[38;5;241m.\u001b[39mcommand(engine, \u001b[38;5;28mformat\u001b[39m,\n\u001b[1;32m    156\u001b[0m                           renderer\u001b[38;5;241m=\u001b[39mrenderer,\n\u001b[1;32m    157\u001b[0m                           formatter\u001b[38;5;241m=\u001b[39mformatter,\n\u001b[1;32m    158\u001b[0m                           neato_no_op\u001b[38;5;241m=\u001b[39mneato_no_op)\n\u001b[1;32m    159\u001b[0m kwargs \u001b[38;5;241m=\u001b[39m {\u001b[38;5;124m'\u001b[39m\u001b[38;5;124minput_lines\u001b[39m\u001b[38;5;124m'\u001b[39m: (line\u001b[38;5;241m.\u001b[39mencode(input_encoding) \u001b[38;5;28;01mfor\u001b[39;00m line \u001b[38;5;129;01min\u001b[39;00m input_lines)}\n\u001b[0;32m--> 161\u001b[0m proc \u001b[38;5;241m=\u001b[39m execute\u001b[38;5;241m.\u001b[39mrun_check(cmd, capture_output\u001b[38;5;241m=\u001b[39m\u001b[38;5;28;01mTrue\u001b[39;00m, quiet\u001b[38;5;241m=\u001b[39mquiet, \u001b[38;5;241m*\u001b[39m\u001b[38;5;241m*\u001b[39mkwargs)\n\u001b[1;32m    162\u001b[0m \u001b[38;5;28;01mreturn\u001b[39;00m proc\u001b[38;5;241m.\u001b[39mstdout\n",
      "File \u001b[0;32m/Applications/Anaconda/anaconda3/envs/lightgbm/lib/python3.12/site-packages/graphviz/backend/execute.py:84\u001b[0m, in \u001b[0;36mrun_check\u001b[0;34m(cmd, input_lines, encoding, quiet, **kwargs)\u001b[0m\n\u001b[1;32m     82\u001b[0m \u001b[38;5;28;01mexcept\u001b[39;00m \u001b[38;5;167;01mOSError\u001b[39;00m \u001b[38;5;28;01mas\u001b[39;00m e:\n\u001b[1;32m     83\u001b[0m     \u001b[38;5;28;01mif\u001b[39;00m e\u001b[38;5;241m.\u001b[39merrno \u001b[38;5;241m==\u001b[39m errno\u001b[38;5;241m.\u001b[39mENOENT:\n\u001b[0;32m---> 84\u001b[0m         \u001b[38;5;28;01mraise\u001b[39;00m ExecutableNotFound(cmd) \u001b[38;5;28;01mfrom\u001b[39;00m \u001b[38;5;21;01me\u001b[39;00m\n\u001b[1;32m     85\u001b[0m     \u001b[38;5;28;01mraise\u001b[39;00m\n\u001b[1;32m     87\u001b[0m \u001b[38;5;28;01mif\u001b[39;00m \u001b[38;5;129;01mnot\u001b[39;00m quiet \u001b[38;5;129;01mand\u001b[39;00m proc\u001b[38;5;241m.\u001b[39mstderr:\n",
      "\u001b[0;31mExecutableNotFound\u001b[0m: failed to execute PosixPath('dot'), make sure the Graphviz executables are on your systems' PATH"
     ]
    },
    {
     "data": {
      "image/png": "[encoded data removed]",
      "text/plain": [
       "<Figure size 3000x4000 with 1 Axes>"
      ]
     },
     "metadata": {},
     "output_type": "display_data"
    }
   ],
   "source": [
    "lgb.plot_tree(model,figsize=(30,40))"
   ]
  },
  {
   "cell_type": "code",
   "execution_count": 31,
   "id": "7e3e6ef4-1efd-4a78-a6a2-29b023b406b9",
   "metadata": {},
   "outputs": [
    {
     "data": {
      "text/plain": [
       "<sklearn.metrics._plot.confusion_matrix.ConfusionMatrixDisplay at 0x17544eb70>"
      ]
     },
     "execution_count": 31,
     "metadata": {},
     "output_type": "execute_result"
    },
    {
     "data": {
      "image/png": "[encoded data removed]",
      "text/plain": [
       "<Figure size 640x480 with 2 Axes>"
      ]
     },
     "metadata": {},
     "output_type": "display_data"
    }
   ],
   "source": [
    "from sklearn.metrics import ConfusionMatrixDisplay\n",
    "\n",
    "ConfusionMatrixDisplay.from_estimator(model,X_test,y_test,cmap='coolwarm')"
   ]
  },
  {
   "cell_type": "code",
   "execution_count": 32,
   "id": "1dd966dc-29b0-4888-8e5e-96ad9733914a",
   "metadata": {},
   "outputs": [
    {
     "name": "stdout",
     "output_type": "stream",
     "text": [
      "              precision    recall  f1-score   support\n",
      "\n",
      "           0       0.50      0.50      0.50        12\n",
      "           1       0.57      0.57      0.57        14\n",
      "\n",
      "    accuracy                           0.54        26\n",
      "   macro avg       0.54      0.54      0.54        26\n",
      "weighted avg       0.54      0.54      0.54        26\n",
      "\n"
     ]
    }
   ],
   "source": [
    "from sklearn.metrics import classification_report\n",
    "\n",
    "print(classification_report(y_test,model.predict(X_test)))"
   ]
  },
  {
   "cell_type": "code",
   "execution_count": null,
   "id": "281a15d2-0de6-4c4c-86a7-f8687b6362e8",
   "metadata": {
    "tags": []
   },
   "outputs": [],
   "source": [
    "# score on test set\n",
    "model.score(X_test,y_test)"
   ]
  },
  {
   "cell_type": "code",
   "execution_count": null,
   "id": "97793105-9220-4420-aaa8-21b12414b687",
   "metadata": {},
   "outputs": [],
   "source": [
    "# train the model with the best parameters\n",
    "best_model = grid_search.best_estimator_\n",
    "\n",
    "# make predictions\n",
    "y_pred = best_model.predict(X_test)\n",
    "\n",
    "# evaluate the model\n",
    "accuracy = accuracy_score(y_test, y_pred)\n",
    "print(f'Test Accuracy: {accuracy:.2f}')"
   ]
  },
  {
   "cell_type": "markdown",
   "id": "39b4a9aa-5961-4a96-95e3-d726d52ccd07",
   "metadata": {},
   "source": [
    "Load in joblib:"
   ]
  },
  {
   "cell_type": "code",
   "execution_count": null,
   "id": "af337a1f-23bb-4d5f-ae97-b514b26ef10d",
   "metadata": {},
   "outputs": [],
   "source": [
    "# models=joblib.load(filename='./joblib/lazypredict_01')"
   ]
  },
  {
   "cell_type": "code",
   "execution_count": null,
   "id": "d47aaa67-6239-497e-a373-76b34639d3b0",
   "metadata": {},
   "outputs": [],
   "source": []
  },
  {
   "cell_type": "markdown",
   "id": "795aa1c4-2717-444d-8e7a-388543191e1a",
   "metadata": {},
   "source": [
    "Example of pipeline below:"
   ]
  },
  {
   "cell_type": "markdown",
   "id": "48badcd1-bab2-4532-9a99-8ab50999df50",
   "metadata": {},
   "source": [
    "```python\n",
    "X_train, X_test, y_train, y_test = train_test_split(X, y, test_size=0.2, stratify=y, random_state=42)\n",
    "\n",
    "model = Pipeline(\n",
    "    steps=[\n",
    "        ('scaler', StandardScaler()),\n",
    "        ('rfe', RFE(\n",
    "            estimator=BernoulliNB(),\n",
    "            n_features_to_select=3,\n",
    "            importance_getter='feature_log_prob_'\n",
    "        )),\n",
    "        ('bnb', BernoulliNB())\n",
    "    ]\n",
    ")\n",
    "\n",
    "model.fit(X_train, y_train)\n",
    "\n",
    "y_pred = model.predict(X_test)\n",
    "metrics = {\n",
    "    'accuracy': accuracy_score(y_test, y_pred),\n",
    "    'precision': precision_score(y_test, y_pred),\n",
    "    'recall': recall_score(y_test, y_pred),\n",
    "    'f1': f1_score(y_test, y_pred)\n",
    "}\n",
    "```"
   ]
  },
  {
   "cell_type": "code",
   "execution_count": 26,
   "id": "e279491b-1c14-491d-9a6f-c9f19b0276f2",
   "metadata": {},
   "outputs": [
    {
     "name": "stdout",
     "output_type": "stream",
     "text": [
      "\n",
      "Datatypes:\n",
      "\n",
      "y: \n",
      "int8\n",
      "\n",
      "X: \n",
      "a_time        category\n",
      "b_contents    category\n",
      "c_complete    category\n",
      "d_price       category\n",
      "e_courier     category\n",
      "f_app         category\n",
      "dtype: object\n",
      "\n"
     ]
    }
   ],
   "source": [
    "for col in X.columns:\n",
    "    X[col]=X[col].astype('category')\n",
    "    \n",
    "print(f'''\n",
    "Datatypes:\n",
    "\n",
    "y: \n",
    "{y.dtypes}\n",
    "\n",
    "X: \n",
    "{X.dtypes}\n",
    "''')"
   ]
  },
  {
   "cell_type": "code",
   "execution_count": null,
   "id": "9b335343-91f8-4254-9baa-1575d5ad1447",
   "metadata": {},
   "outputs": [],
   "source": []
  },
  {
   "cell_type": "markdown",
   "id": "17b8c446-357a-4745-9fdb-99d505bb5195",
   "metadata": {},
   "source": [
    "From [this tutorial](#https://www.datacamp.com/tutorial/xgboost-in-python) on DataCamp, I will create a `DMatrix`. This creates an optimized dataframe for memory and speed when performing modeling."
   ]
  },
  {
   "cell_type": "code",
   "execution_count": null,
   "id": "5014af3b-a551-4bc1-a962-1abaea021a73",
   "metadata": {},
   "outputs": [],
   "source": [
    "import xgboost as xgb\n",
    "\n",
    "dtrain_reg = xgb.DMatrix(X_train, y_train, enable_categorical=True)\n",
    "dtest_reg = xgb.DMatrix(X_test, y_test, enable_categorical=True)"
   ]
  },
  {
   "cell_type": "markdown",
   "id": "5600a54c-663f-4282-9b33-d6d9b70743f1",
   "metadata": {},
   "source": [
    "## Statistical Modeling <a name=\"statistical_modeling\"></a>"
   ]
  },
  {
   "cell_type": "code",
   "execution_count": null,
   "id": "23089a91-617c-4ab9-8364-4cd49f313154",
   "metadata": {},
   "outputs": [],
   "source": [
    "import statsmodels.api as sm"
   ]
  },
  {
   "cell_type": "code",
   "execution_count": null,
   "id": "e06fcda9-ef8d-4601-92c2-41d70a349953",
   "metadata": {},
   "outputs": [],
   "source": [
    "# add constant to our X\n",
    "X_const=sm.add_constant(df[[col for col in df.columns if col != 'y']])"
   ]
  },
  {
   "cell_type": "code",
   "execution_count": null,
   "id": "234c2f5d-c01f-414a-97b4-1c70bc9f19ab",
   "metadata": {},
   "outputs": [],
   "source": [
    "# check it out\n",
    "X_const"
   ]
  },
  {
   "cell_type": "code",
   "execution_count": null,
   "id": "8fb15d7b-6e3e-4855-a129-2cd688adfa43",
   "metadata": {},
   "outputs": [],
   "source": [
    "# instantiate the logistic regression model \n",
    "logreg = sm.Logit(y, X_const)\n",
    "\n",
    "# fit the model\n",
    "logreg_results = logreg.fit()\n",
    "\n",
    "# display the results \n",
    "logreg_results.summary()"
   ]
  },
  {
   "cell_type": "markdown",
   "id": "9e3dcaff-761c-414d-a1ae-2cf156c139f7",
   "metadata": {},
   "source": [
    "All features have p-values above 0.05 except time, which is just under the limit."
   ]
  },
  {
   "cell_type": "code",
   "execution_count": null,
   "id": "f684833e-3b10-49ae-ac6e-a10ec4c58e99",
   "metadata": {},
   "outputs": [],
   "source": [
    "# getting the model predictions as probabilities \n",
    "# and saving to 'y_proba'\n",
    "y_proba = logreg_results.predict(X_const)\n",
    "\n",
    "# view \n",
    "y_proba"
   ]
  },
  {
   "cell_type": "code",
   "execution_count": null,
   "id": "101613de-be9c-40e6-9280-d778eeea1994",
   "metadata": {},
   "outputs": [],
   "source": [
    "# assume probability >=50%\n",
    "# is a happy customer prediction\n",
    "# so we'll make the soft preds into hard preds\n",
    "y_pred = np.where(y_proba >= 0.5, 1, 0)\n",
    "\n",
    "# look at the model's predictions\n",
    "y_pred"
   ]
  },
  {
   "cell_type": "code",
   "execution_count": null,
   "id": "96c0f668-651f-4294-9c95-cc106d5081b5",
   "metadata": {},
   "outputs": [],
   "source": [
    "# calculate accuracy\n",
    "# find where predicted = true survival\n",
    "# then divide by the number of predictions/passengers\n",
    "acc = (y_pred == y).sum()/df.shape[0]\n",
    "\n",
    "# Print the accuracy score\n",
    "print(f'Model accuracy = {acc}')"
   ]
  },
  {
   "cell_type": "code",
   "execution_count": null,
   "id": "b7e2be8f-e41c-4af6-a55f-e539704cfe4a",
   "metadata": {},
   "outputs": [],
   "source": [
    "# put params into a dataframe\n",
    "results_df = pd.DataFrame(logreg_results.params, columns=['Coefficient'])\n",
    "\n",
    "# view the dataframe\n",
    "results_df"
   ]
  },
  {
   "cell_type": "code",
   "execution_count": null,
   "id": "3904dfb9-2d0f-4278-9128-ad9161546d31",
   "metadata": {},
   "outputs": [],
   "source": [
    "# calculate and add the odds ratios to results_df\n",
    "# log odds is more interpretable\n",
    "results_df['odds_ratio'] = np.exp(results_df['Coefficient'])\n",
    "\n",
    "# display the dataframe\n",
    "results_df"
   ]
  },
  {
   "cell_type": "markdown",
   "id": "c2a7a4f4-aadc-4ed0-ac36-149e08d1390c",
   "metadata": {},
   "source": [
    "Each component of the survey shows that it has an impact on the overall happiness of the customer. Time is the largest factor, which makes sense: when you're hungry, you want food as soon as possible."
   ]
  },
  {
   "cell_type": "markdown",
   "id": "1d3081d1-9559-4461-a331-fb51ed184f20",
   "metadata": {},
   "source": [
    "Given that the p-values of time was the only factor that was below the 0.05 threshold suggests that we should try this again with only time as the independent variable."
   ]
  },
  {
   "cell_type": "code",
   "execution_count": null,
   "id": "de6565e5-8c41-4a08-9e6c-634d6a8a92d6",
   "metadata": {},
   "outputs": [],
   "source": [
    "# add constant to our X\n",
    "X_const=sm.add_constant(df[[col for col in df.columns if col != 'y']])"
   ]
  },
  {
   "cell_type": "code",
   "execution_count": null,
   "id": "5eee62fa-9779-4bba-8d87-b87cc267963b",
   "metadata": {},
   "outputs": [],
   "source": [
    "# check it out\n",
    "X_const=X_const.drop([col for col in X_const.columns if (col !='a_time') or (col !='const')],axis=1)\n",
    "X_const"
   ]
  },
  {
   "cell_type": "code",
   "execution_count": null,
   "id": "4e696da2-9907-4c15-a596-8b3af7f413db",
   "metadata": {},
   "outputs": [],
   "source": [
    "# instantiate the logistic regression model \n",
    "logreg = sm.Logit(y, X_const)\n",
    "\n",
    "# fit the model\n",
    "logreg_results = logreg.fit()\n",
    "\n",
    "# display the results \n",
    "logreg_results.summary()"
   ]
  },
  {
   "cell_type": "code",
   "execution_count": null,
   "id": "af368050-453b-4dfc-a977-65be0e802214",
   "metadata": {},
   "outputs": [],
   "source": [
    "# getting the model predictions as probabilities \n",
    "# and saving to 'y_proba'\n",
    "y_proba = logreg_results.predict(X_const)\n",
    "\n",
    "# view \n",
    "y_proba"
   ]
  },
  {
   "cell_type": "code",
   "execution_count": null,
   "id": "5753933d-77d2-4345-b985-91e481e2e114",
   "metadata": {},
   "outputs": [],
   "source": [
    "# assume probability >=50%\n",
    "# is a happy customer prediction\n",
    "# so we'll make the soft preds into hard preds\n",
    "y_pred = np.where(y_proba >= 0.5, 1, 0)\n",
    "\n",
    "# look at the model's predictions\n",
    "y_pred"
   ]
  },
  {
   "cell_type": "code",
   "execution_count": null,
   "id": "b0ae1d80-bbae-437a-8865-82c4fb99441d",
   "metadata": {},
   "outputs": [],
   "source": [
    "# calculate accuracy\n",
    "# find where predicted = true survival\n",
    "# then divide by the number of predictions/passengers\n",
    "acc = (y_pred == y).sum()/df.shape[0]\n",
    "\n",
    "# Print the accuracy score\n",
    "print(f'Model accuracy = {acc}')"
   ]
  },
  {
   "cell_type": "code",
   "execution_count": null,
   "id": "948e12f0-db30-4927-89aa-b74c027944d7",
   "metadata": {},
   "outputs": [],
   "source": [
    "# put params into a dataframe\n",
    "results_df = pd.DataFrame(logreg_results.params, columns=['Coefficient'])\n",
    "\n",
    "# view the dataframe\n",
    "results_df"
   ]
  },
  {
   "cell_type": "code",
   "execution_count": null,
   "id": "361fae91-416d-4af5-bbc8-64f8a4dd627c",
   "metadata": {},
   "outputs": [],
   "source": [
    "# calculate and add the odds ratios to results_df\n",
    "# log odds is more interpretable\n",
    "results_df['odds_ratio'] = np.exp(results_df['Coefficient'])\n",
    "\n",
    "# display the dataframe\n",
    "results_df"
   ]
  },
  {
   "cell_type": "markdown",
   "id": "6aa31bf8-9a8b-410c-806f-5202accb4572",
   "metadata": {},
   "source": [
    "Oops, that did not work!"
   ]
  },
  {
   "cell_type": "markdown",
   "id": "1b6a0516-2aff-45ec-8776-1a9e64fcb03c",
   "metadata": {},
   "source": [
    "# Other"
   ]
  },
  {
   "cell_type": "markdown",
   "id": "f6e4f85b-20f2-47b6-b5c6-8425369dd027",
   "metadata": {
    "jp-MarkdownHeadingCollapsed": true,
    "tags": []
   },
   "source": [
    "### Statistical Modeling with `Statsmodels` <a name=\"statistical_modeling\"></a>"
   ]
  },
  {
   "cell_type": "code",
   "execution_count": null,
   "id": "a36cd8ba-662c-4c3b-a8f8-7193f9432db1",
   "metadata": {},
   "outputs": [],
   "source": [
    "import statsmodels.api as sm"
   ]
  },
  {
   "cell_type": "code",
   "execution_count": null,
   "id": "23dd4a2f-d4d9-44d3-9ce3-c8e09d9ae0bb",
   "metadata": {},
   "outputs": [],
   "source": [
    "# read in and setup dataset again\n",
    "\n",
    "df=pd.read_csv('../data/1_data.csv')\n",
    "\n",
    "# renaming columns to preserve order\n",
    "# and make them more intelligible\n",
    "df.rename(columns={'Y':'y',\n",
    "                   'X1':'a_time',\n",
    "                   'X2':'b_contents',\n",
    "                   'X3':'c_complete',\n",
    "                   'X4':'d_price',\n",
    "                   'X5':'e_courier',\n",
    "                   'X6':'f_app'},inplace=True)\n",
    "\n",
    "X=df[[col for col in df.columns if col != 'y']].copy()\n",
    "y=df['y'].copy().astype('int8') # because it's a binary\n",
    "                                # let's use less memory\n",
    "\n",
    "# print(\"X shape:\",X.shape)\n",
    "# print(\"y shape:\",y.shape)\n",
    "\n",
    "# print(X.dtypes)\n",
    "\n",
    "X_cat=X.copy()\n",
    "\n",
    "for col in X_cat.columns:\n",
    "    X_cat[col] = X_cat[col].astype('category')\n",
    "    \n",
    "# X_cat.dtypes\n",
    "\n",
    "X_ohe=pd.get_dummies(data=X_cat,\n",
    "                     prefix=list(X_cat.columns),\n",
    "                     drop_first=False) # I think we need to \n",
    "                                       # see all survey responses\n",
    "                                       # that are in dataset"
   ]
  },
  {
   "cell_type": "code",
   "execution_count": null,
   "id": "ee08d496-4d4b-4573-97d3-1ad6f0c4732b",
   "metadata": {},
   "outputs": [],
   "source": [
    "# add constant to our X\n",
    "X_const=sm.add_constant(X_ohe[[col for col in X_ohe.columns if col != 'y']])"
   ]
  },
  {
   "cell_type": "code",
   "execution_count": null,
   "id": "2bee24b8-8b09-4f03-9d74-6f6d8ed2892a",
   "metadata": {},
   "outputs": [],
   "source": [
    "# check it out\n",
    "X_const.head(3)"
   ]
  },
  {
   "cell_type": "code",
   "execution_count": null,
   "id": "9d348064-081e-4743-8dde-a041d000a274",
   "metadata": {},
   "outputs": [],
   "source": [
    "X_const.dtypes"
   ]
  },
  {
   "cell_type": "code",
   "execution_count": null,
   "id": "2c9a0830-d7f3-4bfb-8cac-1c607e55eb04",
   "metadata": {},
   "outputs": [],
   "source": [
    "y.shape"
   ]
  },
  {
   "cell_type": "code",
   "execution_count": null,
   "id": "56b0d817-7f01-4961-8a97-d0dbc1bd972d",
   "metadata": {},
   "outputs": [],
   "source": [
    "# instantiate the logistic regression model \n",
    "logreg = sm.Logit(y, X_const)\n",
    "\n",
    "# fit the model\n",
    "logreg_results = logreg.fit()\n",
    "\n",
    "# display the results \n",
    "logreg_results.summary()"
   ]
  },
  {
   "cell_type": "markdown",
   "id": "2d7f3b3e-8302-49d1-868f-319f151e186f",
   "metadata": {},
   "source": [
    "PLACEHOLDER TEXT  \n",
    "All features have p-values above 0.05 except time, which is just under the limit."
   ]
  },
  {
   "cell_type": "code",
   "execution_count": null,
   "id": "193b7146-8a83-49c7-bf3a-28f0a8f63e1c",
   "metadata": {},
   "outputs": [],
   "source": [
    "# getting the model predictions as probabilities \n",
    "# and saving to 'y_proba'\n",
    "y_proba = logreg_results.predict(X_const)\n",
    "\n",
    "# view \n",
    "y_proba"
   ]
  },
  {
   "cell_type": "code",
   "execution_count": null,
   "id": "585e1fcb-24fb-4718-9bb1-7c0798efe8af",
   "metadata": {},
   "outputs": [],
   "source": [
    "# assume probability >=50%\n",
    "# is a happy customer prediction\n",
    "# so we'll make the soft preds into hard preds\n",
    "y_pred = np.where(y_proba >= 0.5, 1, 0)\n",
    "\n",
    "# look at the model's predictions\n",
    "y_pred"
   ]
  },
  {
   "cell_type": "code",
   "execution_count": null,
   "id": "6847933b-d57c-4c0e-b594-4f264784815e",
   "metadata": {},
   "outputs": [],
   "source": [
    "# calculate accuracy\n",
    "# find where predicted = true survival\n",
    "# then divide by the number of predictions/passengers\n",
    "acc = (y_pred == y).sum()/df.shape[0]\n",
    "\n",
    "# Print the accuracy score\n",
    "print(f'Model accuracy = {acc}')"
   ]
  },
  {
   "cell_type": "code",
   "execution_count": null,
   "id": "360d26fb-807e-4cba-8aa4-b7f0cf7e434a",
   "metadata": {},
   "outputs": [],
   "source": [
    "# put params into a dataframe\n",
    "results_df = pd.DataFrame(logreg_results.params, columns=['Coefficient'])\n",
    "\n",
    "# view the dataframe\n",
    "results_df"
   ]
  },
  {
   "cell_type": "code",
   "execution_count": null,
   "id": "56643c6b-07a4-4d30-b57a-d39376a2f894",
   "metadata": {},
   "outputs": [],
   "source": [
    "# calculate and add the odds ratios to results_df\n",
    "# log odds is more interpretable\n",
    "results_df['odds_ratio'] = np.exp(results_df['Coefficient'])\n",
    "\n",
    "# display the dataframe\n",
    "results_df"
   ]
  },
  {
   "cell_type": "markdown",
   "id": "a765ce65-dadd-40c9-b55c-6d1e67eef312",
   "metadata": {},
   "source": [
    "Each component of the survey shows that it has an impact on the overall happiness of the customer. Time is the largest factor, which makes sense: when you're hungry, you want food as soon as possible."
   ]
  },
  {
   "cell_type": "markdown",
   "id": "4c8548ba-6333-4e05-b8c6-43c0920d9c13",
   "metadata": {},
   "source": [
    "Given that the p-values of time was the only factor that was below the 0.05 threshold suggests that we should try this again with only time as the independent variable."
   ]
  },
  {
   "cell_type": "code",
   "execution_count": null,
   "id": "ed63aeea-6d69-4d36-99e4-03788e3ee1b4",
   "metadata": {},
   "outputs": [],
   "source": [
    "# add constant to our X\n",
    "X_const=sm.add_constant(df[[col for col in df.columns if col != 'y']])"
   ]
  },
  {
   "cell_type": "code",
   "execution_count": null,
   "id": "97ffdbc9-351b-4c5c-ac0f-bbba216c539b",
   "metadata": {},
   "outputs": [],
   "source": [
    "# check it out\n",
    "X_const=X_const.drop([col for col in X_const.columns if (col !='a_time') or (col !='const')],axis=1)\n",
    "X_const"
   ]
  },
  {
   "cell_type": "code",
   "execution_count": null,
   "id": "f44d6dc7-f12a-4640-9ce2-0c15a9f30c2c",
   "metadata": {},
   "outputs": [],
   "source": [
    "# instantiate the logistic regression model \n",
    "logreg = sm.Logit(y, X_const)\n",
    "\n",
    "# fit the model\n",
    "logreg_results = logreg.fit()\n",
    "\n",
    "# display the results \n",
    "logreg_results.summary()"
   ]
  },
  {
   "cell_type": "code",
   "execution_count": null,
   "id": "b27dcbc8-9b21-4a31-a622-1f764ec5f4dd",
   "metadata": {},
   "outputs": [],
   "source": [
    "# getting the model predictions as probabilities \n",
    "# and saving to 'y_proba'\n",
    "y_proba = logreg_results.predict(X_const)\n",
    "\n",
    "# view \n",
    "y_proba"
   ]
  },
  {
   "cell_type": "code",
   "execution_count": null,
   "id": "1ca9a423-3325-4f0e-929c-71937d8cb012",
   "metadata": {},
   "outputs": [],
   "source": [
    "# assume probability >=50%\n",
    "# is a happy customer prediction\n",
    "# so we'll make the soft preds into hard preds\n",
    "y_pred = np.where(y_proba >= 0.5, 1, 0)\n",
    "\n",
    "# look at the model's predictions\n",
    "y_pred"
   ]
  },
  {
   "cell_type": "code",
   "execution_count": null,
   "id": "5e9e7ec4-fb6b-4d16-b92e-61d7f192d66c",
   "metadata": {},
   "outputs": [],
   "source": [
    "# calculate accuracy\n",
    "# find where predicted = true survival\n",
    "# then divide by the number of predictions/passengers\n",
    "acc = (y_pred == y).sum()/df.shape[0]\n",
    "\n",
    "# Print the accuracy score\n",
    "print(f'Model accuracy = {acc}')"
   ]
  },
  {
   "cell_type": "code",
   "execution_count": null,
   "id": "eae4a233-228f-4cb4-b82d-268b56cf3d15",
   "metadata": {},
   "outputs": [],
   "source": [
    "# put params into a dataframe\n",
    "results_df = pd.DataFrame(logreg_results.params, columns=['Coefficient'])\n",
    "\n",
    "# view the dataframe\n",
    "results_df"
   ]
  },
  {
   "cell_type": "code",
   "execution_count": null,
   "id": "e3b60b60-6f03-4bb3-9c39-519797bf1792",
   "metadata": {},
   "outputs": [],
   "source": [
    "# calculate and add the odds ratios to results_df\n",
    "# log odds is more interpretable\n",
    "results_df['odds_ratio'] = np.exp(results_df['Coefficient'])\n",
    "\n",
    "# display the dataframe\n",
    "results_df"
   ]
  },
  {
   "cell_type": "markdown",
   "id": "cff315b7-2f63-474e-b7d0-fc94fe9e699d",
   "metadata": {},
   "source": [
    "Oops, that did not work!"
   ]
  },
  {
   "cell_type": "markdown",
   "id": "3f5b3fb8-8e8b-49ec-8fe3-a373df1b6b76",
   "metadata": {
    "tags": []
   },
   "source": [
    "## Other"
   ]
  },
  {
   "cell_type": "markdown",
   "id": "7b55878a-ac72-4614-bac8-b7d1d0d6bbfb",
   "metadata": {},
   "source": [
    "### Grid Search Exploration with `XGBoost`<a name='xgboost'></a>"
   ]
  },
  {
   "cell_type": "code",
   "execution_count": null,
   "id": "d8e1c677-dc64-4401-a499-a9d463aeb8be",
   "metadata": {},
   "outputs": [],
   "source": [
    "from sklearn.model_selection import GridSearchCV,StratifiedKFold,cross_val_score\n",
    "import joblib"
   ]
  },
  {
   "cell_type": "code",
   "execution_count": null,
   "id": "aebe6b01-b5d4-4185-92f6-368b895f1e4a",
   "metadata": {
    "tags": []
   },
   "outputs": [],
   "source": [
    "xgbc = XGBClassifier(random_state=seed)\n",
    "\n",
    "# commenting this out because it was giving us errors\n",
    "# as the data is not a categorical dtype\n",
    "\n",
    "# specifying the k-fold so that we can control the randomness\n",
    "# statified_k_fold=StratifiedKFold(n_splits=5,\n",
    "#                                  random_state=random_state,\n",
    "#                                  shuffle=True)\n",
    "\n",
    "parameters = {\n",
    "    'alpha': [0], #(list(np.linspace(0,1,3))),\n",
    "    'gamma': [0], #(list(np.linspace(0,1,3))),\n",
    "    'lambda': (list(np.linspace(0.275,0.325,6))),\n",
    "    'learning_rate': (np.logspace(0.211,0.213,9)),\n",
    "    'max_depth': [2], #(list(np.arange(1,4))),\n",
    "    'min_child_weight': (list(np.linspace(3.5,4.5,9))),\n",
    "    'n_estimators': (np.arange(53,58))\n",
    "}\n",
    "\n",
    "# same here - I wanted to control the kfolds\n",
    "# but it was giving me trouble\n",
    "\n",
    "# Convert categorical features to one-hot encoded features\n",
    "# X_train_encoded = pd.get_dummies(X_train)\n",
    "\n",
    "grid_search = GridSearchCV(xgbc, \n",
    "                           parameters, \n",
    "                           cv = 5,#statified_k_fold, \n",
    "                           n_jobs = -1, \n",
    "                           verbose = 0)\n",
    "\n",
    "# grid_search.fit(X_train_encoded, y_train)\n",
    "grid_search.fit(X_train, y_train)\n",
    "\n",
    "# save trained model to pickle file\n",
    "joblib_file='../joblib/1_gridsearch_xgbc_20240530.pkl'\n",
    "joblib.dump(grid_search,joblib_file)"
   ]
  },
  {
   "cell_type": "code",
   "execution_count": null,
   "id": "5e58ca6a-5d3c-4f46-9d3e-d868e9f1236b",
   "metadata": {},
   "outputs": [],
   "source": [
    "# load grid search file\n",
    "joblib_file='../joblib/1_gridsearch_xgbc_20240530.pkl'\n",
    "loaded_grid_search=joblib.load(joblib_file)"
   ]
  },
  {
   "cell_type": "code",
   "execution_count": null,
   "id": "de8e78c7-b907-49dc-9905-cbcd38dffb8f",
   "metadata": {
    "tags": []
   },
   "outputs": [],
   "source": [
    "# best score\n",
    "print(f\"best score: {loaded_grid_search.best_score_}\")\n",
    "\n",
    "# best parameters \n",
    "print(f\"best parameters: {loaded_grid_search.best_params_}\")"
   ]
  },
  {
   "cell_type": "markdown",
   "id": "97f38384-9226-4d5b-ab3f-7b162996e75b",
   "metadata": {},
   "source": [
    "List of other best scores from previous `random_seeds` and iterations below:"
   ]
  },
  {
   "cell_type": "markdown",
   "id": "7ecec063-8ce2-49cc-8f23-cf88e79a4e13",
   "metadata": {},
   "source": [
    "```python\n",
    "best score: 0.64\n",
    "best parameters: {'alpha': 0, 'gamma': 0, 'lambda': 0.275, 'learning_rate': 1.625548755750484, 'max_depth': 2, 'min_child_weight': 4.375, 'n_estimators': 53}\n",
    "```"
   ]
  },
  {
   "cell_type": "markdown",
   "id": "addcdeb3-3f4b-4775-8ca4-4038e9d01909",
   "metadata": {},
   "source": [
    "```python\n",
    "best score: 0.6900000000000001\n",
    "best parameters: {'alpha': 0, 'gamma': 0, 'lambda': 0.3, 'learning_rate': 1.6292960326397223, 'max_depth': 2, 'min_child_weight': 4.0, 'n_estimators': 55}\n",
    "```"
   ]
  },
  {
   "cell_type": "markdown",
   "id": "a30d2a2c-b60b-49b7-beb3-78c573f47579",
   "metadata": {},
   "source": [
    "```python\n",
    "best score: 0.68\n",
    "best parameters: {'alpha': 0, 'gamma': 0, 'lambda': 0.275, 'learning_rate': 1.6330519478943344, 'max_depth': 2, 'min_child_weight': 3.875, 'n_estimators': 56}\n",
    "```"
   ]
  },
  {
   "cell_type": "markdown",
   "id": "ad1c8c22-8279-44bc-ab76-822e1cc8becd",
   "metadata": {},
   "source": [
    "Let's now confirm results with running the best parameters again. I will use a pipeline as I want to ensure that I can include a `random_state` and make sure that the model understands that we're dealing with categorical data."
   ]
  },
  {
   "cell_type": "code",
   "execution_count": null,
   "id": "90805111-2933-4357-b718-03c2f78c6164",
   "metadata": {},
   "outputs": [],
   "source": [
    "from sklearn.pipeline import Pipeline\n",
    "\n",
    "# X columns are categorical so they need to be OHE'd\n",
    "from sklearn.preprocessing import OneHotEncoder\n",
    "from sklearn.compose import ColumnTransformer\n",
    "from sklearn.model_selection import StratifiedKFold"
   ]
  },
  {
   "cell_type": "code",
   "execution_count": null,
   "id": "ef08e932-2c45-4074-b767-71af773d59f2",
   "metadata": {},
   "outputs": [],
   "source": [
    "# setup classifier\n",
    "model=XGBClassifier(alpha=0,\n",
    "                    gamma=0,\n",
    "                    reg_lambda=0.3,\n",
    "                    learning_rate=1.6292960326397223,\n",
    "                    max_depth=2,\n",
    "                    min_child_weight=4,\n",
    "                    n_estimators=55,\n",
    "                    random_state=seed)\n",
    "\n",
    "# preprocessor to handle categorical features, make them OHE'd\n",
    "# it will ignore any categories that are not found in X_test\n",
    "preprocessor = ColumnTransformer(\n",
    "    transformers=[\n",
    "        ('cat', OneHotEncoder(handle_unknown='ignore'), [0, 1])\n",
    "    ])\n",
    "\n",
    "# create pipeline\n",
    "pipeline=Pipeline([\n",
    "    ('preprocessor',preprocessor),\n",
    "    ('xgb',model)\n",
    "])\n",
    "\n",
    "# allow for five cross-validation folds\n",
    "stratified_k_fold=StratifiedKFold(n_splits=5,\n",
    "                                 random_state=seed,\n",
    "                                 shuffle=True)\n",
    "\n",
    "# perform cross-validation and print accuracy\n",
    "scores=cross_val_score(pipeline, \n",
    "                       X, \n",
    "                       y, \n",
    "                       cv=stratified_k_fold, \n",
    "                       scoring='accuracy')\n",
    "\n",
    "print('Cross-validated accuracy: '\\\n",
    "f'{scores.mean()*100:.2f}% ± {scores.std()*100:.2f}%')"
   ]
  },
  {
   "cell_type": "markdown",
   "id": "81f7d5f1-e3ac-48ed-bd5c-dca3d79c5847",
   "metadata": {},
   "source": [
    "I'm satisfied with that. It's close enough. It's great to see that we were able to increase the accuracy from <50% to >50%. It's still not a great accuracy level, but much better."
   ]
  },
  {
   "cell_type": "code",
   "execution_count": null,
   "id": "6d3439e2-f258-4334-ab7f-e49875080659",
   "metadata": {},
   "outputs": [],
   "source": []
  },
  {
   "cell_type": "markdown",
   "id": "16a33f35-0e42-447b-a19a-d4e1e612f127",
   "metadata": {
    "jp-MarkdownHeadingCollapsed": true,
    "tags": []
   },
   "source": [
    "## Other"
   ]
  },
  {
   "cell_type": "code",
   "execution_count": 17,
   "id": "376e4ffc-d9f1-435f-9521-497c5f251410",
   "metadata": {},
   "outputs": [],
   "source": [
    "from sklearn.feature_selection import RFE\n",
    "from sklearn.linear_model import LogisticRegression\n",
    "from sklearn.linear_model import SGDClassifier\n",
    "from sklearn.pipeline import make_pipeline\n",
    "from sklearn.ensemble import RandomForestClassifier"
   ]
  },
  {
   "cell_type": "code",
   "execution_count": null,
   "id": "7954350e-f5cd-45f1-b7ae-986168e3fc1c",
   "metadata": {},
   "outputs": [],
   "source": [
    "# specifying the k-fold so that we can control the randomness\n",
    "\n",
    "stratified_k_fold=StratifiedKFold(n_splits=5,\n",
    "                                 random_state=seed,\n",
    "                                 shuffle=True)\n",
    "\n",
    "estimators=[\n",
    "    ('rfe',RFE(estimator=LogisticRegression(random_state=seed))),\n",
    "    ('sgd',SGDClassifier(random_state=seed))]\n",
    "\n",
    "pipeline = Pipeline(estimators)\n",
    "\n",
    "param_grid = [\n",
    "    {\n",
    "        'rfe__n_features_to_select': list(np.arange(1, 7)),\n",
    "        'rfe__importance_getter': ['feature_importances_','auto'],\n",
    "        'sgd__max_iter': list(np.logspace(2, 5, 4).astype('int')),\n",
    "        'sgd__alpha': list(np.logspace(-5, -1, 5)),\n",
    "        'sgd__loss': ['hinge', 'log_loss', 'modified_huber'],\n",
    "        'sgd__penalty': ['l2', 'l1', 'elasticnet'],\n",
    "        'sgd__learning_rate': ['optimal'],\n",
    "        'rfe__estimator': [LogisticRegression(random_state=seed)],\n",
    "        'rfe__importance_getter': ['auto']\n",
    "    },\n",
    "    {\n",
    "        'rfe__n_features_to_select': list(np.arange(1, 7)),\n",
    "        'sgd__max_iter': list(np.logspace(2, 5, 4).astype('int')),\n",
    "        'sgd__alpha': list(np.logspace(-5, -1, 5)),\n",
    "        'sgd__loss': ['hinge', 'log_loss', 'modified_huber'],\n",
    "        'sgd__penalty': ['l2', 'l1', 'elasticnet'],\n",
    "        'sgd__learning_rate': ['optimal'],\n",
    "        'rfe__estimator': [RandomForestClassifier(random_state=seed)],\n",
    "        'rfe__importance_getter': ['auto']\n",
    "    }\n",
    "]\n",
    "\n",
    "# perform grid search with cross-validation\n",
    "grid_search = GridSearchCV(pipeline,\n",
    "                           param_grid,\n",
    "                           cv=stratified_k_fold,\n",
    "                           verbose=1,\n",
    "                           n_jobs=-1)\n",
    "\n",
    "grid_search.fit(X_train_ohe, y_train_ohe)\n",
    "\n",
    "# save trained model to pickle file\n",
    "joblib_file='../joblib/1_gridsearch_rfe_sgd_20240530.pkl'\n",
    "joblib.dump(grid_search,joblib_file)"
   ]
  },
  {
   "cell_type": "code",
   "execution_count": null,
   "id": "fb890001-5dc0-4c13-9aa8-cf5571aea9bd",
   "metadata": {},
   "outputs": [],
   "source": [
    "# load grid search file\n",
    "joblib_file='../joblib/1_gridsearch_rfe_sgd_20240530.pkl'\n",
    "loaded_grid_search=joblib.load(joblib_file)"
   ]
  },
  {
   "cell_type": "code",
   "execution_count": null,
   "id": "c427c65b-10da-4e1b-a0da-f0e7bdfb9f3b",
   "metadata": {},
   "outputs": [],
   "source": [
    "# best score\n",
    "print(f\"best score: {loaded_grid_search.best_score_}\")\n",
    "\n",
    "# best parameters \n",
    "print(f\"best parameters: {loaded_grid_search.best_params_}\")"
   ]
  },
  {
   "cell_type": "code",
   "execution_count": null,
   "id": "b8397b63-0dbe-419c-84e1-0d51afe75045",
   "metadata": {},
   "outputs": [],
   "source": [
    "from sklearn.metrics import accuracy_score,precision_score,recall_score,f1_score"
   ]
  },
  {
   "cell_type": "code",
   "execution_count": null,
   "id": "a0d09a4d-58fe-4bb1-a012-d9ef160974fa",
   "metadata": {},
   "outputs": [],
   "source": [
    "# Make predictions on the test set using the best model\n",
    "y_pred_ohe = loaded_grid_search.best_estimator_.predict(X_test_ohe)\n",
    "\n",
    "# Calculate and print the evaluation metrics\n",
    "metrics = {\n",
    "    'accuracy': accuracy_score(y_test_ohe, y_pred_ohe),\n",
    "    'precision': precision_score(y_test_ohe, y_pred_ohe),\n",
    "    'recall': recall_score(y_test_ohe, y_pred_ohe),\n",
    "    'f1': f1_score(y_test_ohe, y_pred_ohe)\n",
    "}\n",
    "\n",
    "print(\"Test Accuracy:\", metrics['accuracy'])\n",
    "print(\"Precision:    \", metrics['precision'])\n",
    "print(\"Recall:       \", metrics['recall'])\n",
    "print(\"F1 Score:     \", metrics['f1'])"
   ]
  },
  {
   "cell_type": "markdown",
   "id": "6ae55899-5e6e-4efb-8335-8799e5ecac6d",
   "metadata": {},
   "source": [
    "This result is quite terrible."
   ]
  },
  {
   "cell_type": "markdown",
   "id": "caeb32a7-40d9-49f8-a92c-b0ffb0ca4e95",
   "metadata": {},
   "source": [
    "Confirm that the accuracy percentage is based on `X_test` and not `X_train` - so if we run the cell below, we should get the same accuracy from the grid search:"
   ]
  },
  {
   "cell_type": "code",
   "execution_count": null,
   "id": "01ba1468-ad14-4727-9aad-deb5f7a081b3",
   "metadata": {},
   "outputs": [],
   "source": [
    "y_pred_ohe = loaded_grid_search.best_estimator_.predict(X_train_ohe)\n",
    "\n",
    "# Calculate and print the evaluation metrics\n",
    "metrics = {\n",
    "    'accuracy': accuracy_score(y_train_ohe, y_pred_ohe),\n",
    "    'precision': precision_score(y_train_ohe, y_pred_ohe),\n",
    "    'recall': recall_score(y_train_ohe, y_pred_ohe),\n",
    "    'f1': f1_score(y_train_ohe, y_pred_ohe)\n",
    "}\n",
    "\n",
    "print(\"Test Accuracy:\", metrics['accuracy'])\n",
    "print(\"Precision:    \", metrics['precision'])\n",
    "print(\"Recall:       \", metrics['recall'])\n",
    "print(\"F1 Score:     \", metrics['f1'])"
   ]
  },
  {
   "cell_type": "markdown",
   "id": "5a0d24b6-c48a-4ae0-bae8-440f50b5b5bb",
   "metadata": {},
   "source": [
    "##### Extracting the most important features from the dataset: <a name='rfe_ohe'></a>"
   ]
  },
  {
   "cell_type": "code",
   "execution_count": null,
   "id": "37119be1-669f-461a-8518-6d3a1419ece5",
   "metadata": {},
   "outputs": [],
   "source": [
    "# get best estimator from grid search\n",
    "best_estimator=loaded_grid_search.best_estimator_\n",
    "\n",
    "# access RFE transformer within pipeline\n",
    "rfe=best_estimator.named_steps['rfe']\n",
    "\n",
    "# get selected features\n",
    "selected_features_indices=rfe.support_\n",
    "\n",
    "# extract names of selected features\n",
    "selected_features=X_train_ohe.columns[selected_features_indices]\n",
    "\n",
    "print(f\"The top features that are most important:\\n{selected_features}\")\n",
    "\n",
    "# obtain ranking of features\n",
    "feature_ranking=rfe.ranking_\n",
    "\n",
    "# feature names\n",
    "feature_names=X_train_ohe.columns\n",
    "\n",
    "# create dataframe to store feature names and rankings\n",
    "feature_ranking_df=pd.DataFrame({'Feature': feature_names,\n",
    "                                 'Ranking': feature_ranking})\n",
    "\n",
    "feature_ranking_df=feature_ranking_df.sort_values(by='Ranking')\n",
    "\n",
    "# arbitrary subset of the entire df\n",
    "# (the entire df includes all columns and their importance rank)\n",
    "# feature_ranking_df\n",
    "feature_ranking_df.head(5)"
   ]
  },
  {
   "cell_type": "markdown",
   "id": "d69d1191-2835-4efa-a262-6574d1a49149",
   "metadata": {},
   "source": [
    "This is really great to see, that the `RFE` was able to pull out what it thinks are the most important features. It is not as informative for a human, as these features are a binary representation of categorical data. Let's try running the non-binary version of the dataset through the trained model. Maybe we'll get more informative results?"
   ]
  },
  {
   "cell_type": "code",
   "execution_count": null,
   "id": "8b6e41a6-2c38-40c9-802e-9aaad46467a6",
   "metadata": {},
   "outputs": [],
   "source": [
    "feature_ranking_df"
   ]
  },
  {
   "cell_type": "code",
   "execution_count": null,
   "id": "385d02d4-5e8f-4957-ae54-de85a757c1c8",
   "metadata": {},
   "outputs": [],
   "source": [
    "# save feature rankings\n",
    "feature_ranking_df.to_csv('../data/1_feature_ranking_df_20240530.csv')"
   ]
  },
  {
   "cell_type": "markdown",
   "id": "4c9ee4eb-ec9e-4fb9-8e98-ff04c34c2c73",
   "metadata": {},
   "source": [
    "#### New pipeline with `SGDClassifier` and categorical (not OHE'd) X data <a name='pipe_notohe'></a>"
   ]
  },
  {
   "cell_type": "markdown",
   "id": "a93ecc53-04d6-4a68-934a-53d359cc8963",
   "metadata": {},
   "source": [
    "##### Redefine X data without OneHotEncodings:"
   ]
  },
  {
   "cell_type": "code",
   "execution_count": null,
   "id": "978d5d62-9443-43d3-a5ba-755c38c0ead0",
   "metadata": {},
   "outputs": [],
   "source": [
    "# read in and setup dataset again\n",
    "\n",
    "df=pd.read_csv('../data/1_data.csv')\n",
    "\n",
    "# renaming columns to preserve order\n",
    "# and make them more intelligible\n",
    "df.rename(columns={'Y':'y',\n",
    "                   'X1':'a_time',\n",
    "                   'X2':'b_contents',\n",
    "                   'X3':'c_complete',\n",
    "                   'X4':'d_price',\n",
    "                   'X5':'e_courier',\n",
    "                   'X6':'f_app'},inplace=True)\n",
    "\n",
    "X=df[[col for col in df.columns if col != 'y']].copy()\n",
    "y=df['y'].copy().astype('int8') # because it's a binary\n",
    "                                # let's use less memory\n",
    "\n",
    "print(\"X shape:\",X.shape)\n",
    "print(\"y shape:\",y.shape)"
   ]
  },
  {
   "cell_type": "code",
   "execution_count": null,
   "id": "33a68caf-9984-4ccf-ad4e-db7ca64a8a82",
   "metadata": {},
   "outputs": [],
   "source": [
    "X.dtypes"
   ]
  },
  {
   "cell_type": "code",
   "execution_count": null,
   "id": "0d70c544-02e0-43e0-8edc-63c7af39797a",
   "metadata": {},
   "outputs": [],
   "source": [
    "X_cat=X.copy()\n",
    "\n",
    "for col in X_cat.columns:\n",
    "    X_cat[col] = X_cat[col].astype('category')\n",
    "    \n",
    "X_cat.dtypes"
   ]
  },
  {
   "cell_type": "code",
   "execution_count": null,
   "id": "64832083-7bfb-461b-a4ad-10f153e8b7ff",
   "metadata": {},
   "outputs": [],
   "source": [
    "# train/test split\n",
    "X_train_cat, \\\n",
    "X_test_cat, \\\n",
    "y_train_cat, \\\n",
    "y_test_cat = train_test_split(X_cat, \n",
    "                          y, \n",
    "                          test_size=test_size, \n",
    "                          stratify=y,\n",
    "                          random_state=seed)"
   ]
  },
  {
   "cell_type": "code",
   "execution_count": null,
   "id": "91dd0f44-d57c-43c9-b22d-691893b1784e",
   "metadata": {},
   "outputs": [],
   "source": [
    "X_train_cat.shape"
   ]
  },
  {
   "cell_type": "code",
   "execution_count": null,
   "id": "991c828f-fbee-412c-9253-9a66c4b8c9cf",
   "metadata": {},
   "outputs": [],
   "source": [
    "X_train_cat.head(3)"
   ]
  },
  {
   "cell_type": "code",
   "execution_count": null,
   "id": "3bc6ed25-f547-4015-a1c6-7ad8d6b2f5e0",
   "metadata": {},
   "outputs": [],
   "source": [
    "# specifying the k-fold so that we can control the randomness\n",
    "stratified_k_fold=StratifiedKFold(n_splits=5,\n",
    "                                 random_state=seed,\n",
    "                                 shuffle=True)\n",
    "\n",
    "estimators=[\n",
    "    ('rfe',RFE(estimator=LogisticRegression(random_state=seed))),\n",
    "    ('sgd',SGDClassifier(random_state=seed))]\n",
    "\n",
    "pipeline = Pipeline(estimators)\n",
    "\n",
    "param_grid = [\n",
    "    {\n",
    "        'rfe__n_features_to_select': list(np.arange(1, 7)),\n",
    "        'rfe__importance_getter': ['feature_importances_','auto'],\n",
    "        'sgd__max_iter': list(np.logspace(2, 5, 4).astype('int')),\n",
    "        'sgd__alpha': list(np.logspace(-5, -1, 5)),\n",
    "        'sgd__loss': ['hinge', 'log_loss', 'modified_huber'],\n",
    "        'sgd__penalty': ['l2', 'l1', 'elasticnet'],\n",
    "        'sgd__learning_rate': ['optimal'],\n",
    "        'rfe__estimator': [LogisticRegression(random_state=seed)],\n",
    "        'rfe__importance_getter': ['auto']\n",
    "    },\n",
    "    {\n",
    "        'rfe__n_features_to_select': list(np.arange(1, 7)),\n",
    "        'sgd__max_iter': list(np.logspace(2, 5, 4).astype('int')),\n",
    "        'sgd__alpha': list(np.logspace(-5, -1, 5)),\n",
    "        'sgd__loss': ['hinge', 'log_loss', 'modified_huber'],\n",
    "        'sgd__penalty': ['l2', 'l1', 'elasticnet'],\n",
    "        'sgd__learning_rate': ['optimal'],\n",
    "        'rfe__estimator': [RandomForestClassifier(random_state=seed)],\n",
    "        'rfe__importance_getter': ['auto']\n",
    "    }\n",
    "]\n",
    "\n",
    "# perform grid search with cross-validation\n",
    "grid_search = GridSearchCV(pipeline,\n",
    "                           param_grid,\n",
    "                           cv=stratified_k_fold,\n",
    "                           verbose=1,\n",
    "                           n_jobs=-1)\n",
    "\n",
    "# note that this is now on the categorical\n",
    "# X_train and y_train, not OHE'd data\n",
    "grid_search.fit(X_train_cat, y_train_cat)"
   ]
  },
  {
   "cell_type": "code",
   "execution_count": null,
   "id": "94478311-879e-4a28-9e1f-883b454c5b24",
   "metadata": {},
   "outputs": [],
   "source": [
    "# save trained model to pickle file\n",
    "# but first, get unique datetime tag \n",
    "# to differentiate pickle files\n",
    "from datetime import datetime\n",
    "\n",
    "# get current date and time\n",
    "current_datetime=datetime.now()\n",
    "\n",
    "# print current date and time to check\n",
    "print(current_datetime)\n",
    "\n",
    "# format the datetime for a filename\n",
    "datetime_suffix=current_datetime.strftime(\"%Y-%m-%d_%H-%M-%S\")\n",
    "\n",
    "# create filename with the datetime suffix\n",
    "joblib_file=f'../joblib/1_gridsearch_rfe_sgd_{datetime_suffix}.pkl'\n",
    "\n",
    "# save model\n",
    "joblib.dump(grid_search,joblib_file)"
   ]
  },
  {
   "cell_type": "code",
   "execution_count": null,
   "id": "6234cbf9-5b14-4957-8ec7-ee8697bef05e",
   "metadata": {},
   "outputs": [],
   "source": [
    "# load model\n",
    "joblib_file=f'../joblib/1_gridsearch_rfe_sgd_{datetime_suffix}.pkl'\n",
    "loaded_grid_search=joblib.load(joblib_file)"
   ]
  },
  {
   "cell_type": "code",
   "execution_count": null,
   "id": "c6a43a87-e090-4ab0-b0bd-4aca479cb462",
   "metadata": {},
   "outputs": [],
   "source": [
    "# best score\n",
    "print(f\"best score: {loaded_grid_search.best_score_}\")\n",
    "\n",
    "# best parameters \n",
    "print(f\"best parameters: {loaded_grid_search.best_params_}\")"
   ]
  },
  {
   "cell_type": "code",
   "execution_count": null,
   "id": "1cfc460b-f8d4-42f3-96d4-7074206b2dbb",
   "metadata": {},
   "outputs": [],
   "source": [
    "# Make predictions on the test set using the best model\n",
    "y_pred_cat = loaded_grid_search.best_estimator_.predict(X_test_cat)\n",
    "\n",
    "# Calculate and print the evaluation metrics\n",
    "metrics = {\n",
    "    'accuracy': accuracy_score(y_test_cat, y_pred_cat),\n",
    "    'precision': precision_score(y_test_cat, y_pred_cat),\n",
    "    'recall': recall_score(y_test_cat, y_pred_cat),\n",
    "    'f1': f1_score(y_test_cat, y_pred_cat)\n",
    "}\n",
    "\n",
    "print(\"Test Accuracy:\", metrics['accuracy'])\n",
    "print(\"Precision:    \", metrics['precision'])\n",
    "print(\"Recall:       \", metrics['recall'])\n",
    "print(\"F1 Score:     \", metrics['f1'])"
   ]
  },
  {
   "cell_type": "markdown",
   "id": "a6233ace-a818-4185-90c0-ca03cb77275f",
   "metadata": {},
   "source": [
    "Not a great accuracy result."
   ]
  },
  {
   "cell_type": "markdown",
   "id": "24f3a6ca-3ca1-421f-99bf-ac81fb65bde0",
   "metadata": {},
   "source": [
    "##### Extracting the most important features from the dataset: <a name='rfe_notohe'></a>"
   ]
  },
  {
   "cell_type": "code",
   "execution_count": null,
   "id": "6a946f04-f725-495f-9c6e-fafb79d0e1f6",
   "metadata": {},
   "outputs": [],
   "source": [
    "# get best estimator from grid search\n",
    "best_estimator=loaded_grid_search.best_estimator_\n",
    "\n",
    "# access RFE transformer within pipeline\n",
    "rfe=best_estimator.named_steps['rfe']\n",
    "\n",
    "# get selected features\n",
    "selected_features_indices=rfe.support_\n",
    "\n",
    "# extract names of selected features\n",
    "selected_features=X_train_cat.columns[selected_features_indices]\n",
    "\n",
    "print(f\"The top features that are most important:\\n{selected_features}\")\n",
    "\n",
    "# obtain ranking of features\n",
    "feature_ranking=rfe.ranking_\n",
    "\n",
    "# feature names\n",
    "feature_names=X_train_cat.columns\n",
    "\n",
    "# create dataframe datetime_suffixture names and rankings\n",
    "feature_ranking_df_cat=pd.DataFrame({'Feature': feature_names,\n",
    "                                 'Ranking': feature_ranking})\n",
    "\n",
    "feature_ranking_df_cat=feature_ranking_df_cat.sort_values(by='Ranking')\n",
    "\n",
    "feature_ranking_df_cat"
   ]
  },
  {
   "cell_type": "code",
   "execution_count": null,
   "id": "179eb951-2634-46fe-a67b-e7e485f79a13",
   "metadata": {},
   "outputs": [],
   "source": [
    "# save feature rankings\n",
    "feature_ranking_df_cat.to_csv('../data/1_feature_ranking_df_cat_20240531.csv')"
   ]
  },
  {
   "cell_type": "markdown",
   "id": "ce4cc3b1-bce3-493f-8202-0687246f69a3",
   "metadata": {},
   "source": [
    "This feature ranking is a lot easier to understand. Here, we can see that time, contents, and the performance of the courier are most important for this iteration of the model. Interestingly, price is not an important predictor."
   ]
  },
  {
   "cell_type": "markdown",
   "id": "12fb90f9-6888-4bc8-b658-c0333ac42c71",
   "metadata": {},
   "source": [
    "#### Final pipeline/grid search with thresholded data <a name='thresholded_grid'></a>"
   ]
  },
  {
   "cell_type": "code",
   "execution_count": null,
   "id": "1bc55562-801e-4e19-9446-898158944e57",
   "metadata": {},
   "outputs": [],
   "source": [
    "# define thresholding function\n",
    "# if the person scored a category as a 4 or 5,\n",
    "# we give a value of 1. Otherwise, we give it a 0\n",
    "threshold_func = lambda x: 1 if x >= 4 else 0\n",
    "\n",
    "# apply the function to the dataframe\n",
    "X_threshold = X.map(threshold_func)\n",
    "X_threshold.head(3)"
   ]
  },
  {
   "cell_type": "code",
   "execution_count": null,
   "id": "64e26fea-946f-4aa7-8bed-c78cef47534b",
   "metadata": {},
   "outputs": [],
   "source": [
    "# train/test split\n",
    "X_train_threshold, \\\n",
    "X_test_threshold, \\\n",
    "y_train_threshold, \\\n",
    "y_test_threshold = train_test_split(X_threshold, \n",
    "                          y, \n",
    "                          test_size=test_size, \n",
    "                          stratify=y,\n",
    "                          random_state=seed)"
   ]
  },
  {
   "cell_type": "code",
   "execution_count": null,
   "id": "2eb40320-fc03-4cb4-b654-8fb2f14cd203",
   "metadata": {},
   "outputs": [],
   "source": [
    "X_train_threshold.shape"
   ]
  },
  {
   "cell_type": "code",
   "execution_count": null,
   "id": "0360c168-59cb-41d1-a721-19fca07d17ef",
   "metadata": {},
   "outputs": [],
   "source": [
    "X_train_threshold.head(3)"
   ]
  },
  {
   "cell_type": "code",
   "execution_count": null,
   "id": "ee9ba15c-fea9-4e24-aab3-2e0f2c146eb6",
   "metadata": {},
   "outputs": [],
   "source": [
    "# specifying the k-fold so that we can control the randomness\n",
    "stratified_k_fold=StratifiedKFold(n_splits=5,\n",
    "                                 random_state=seed,\n",
    "                                 shuffle=True)\n",
    "\n",
    "estimators=[\n",
    "    ('rfe',RFE(estimator=LogisticRegression(random_state=seed))),\n",
    "    ('sgd',SGDClassifier(random_state=seed))]\n",
    "\n",
    "pipeline = Pipeline(estimators)\n",
    "\n",
    "param_grid = [\n",
    "    {\n",
    "        'rfe__n_features_to_select': list(np.arange(1, 7)),\n",
    "        'rfe__importance_getter': ['feature_importances_','auto'],\n",
    "        'sgd__max_iter': list(np.logspace(2, 5, 4).astype('int')),\n",
    "        'sgd__alpha': list(np.logspace(-5, -1, 5)),\n",
    "        'sgd__loss': ['hinge', 'log_loss', 'modified_huber'],\n",
    "        'sgd__penalty': ['l2', 'l1', 'elasticnet'],\n",
    "        'sgd__learning_rate': ['optimal'],\n",
    "        'rfe__estimator': [LogisticRegression(random_state=seed)],\n",
    "        'rfe__importance_getter': ['auto']\n",
    "    },\n",
    "    {\n",
    "        'rfe__n_features_to_select': list(np.arange(1, 7)),\n",
    "        'sgd__max_iter': list(np.logspace(2, 5, 4).astype('int')),\n",
    "        'sgd__alpha': list(np.logspace(-5, -1, 5)),\n",
    "        'sgd__loss': ['hinge', 'log_loss', 'modified_huber'],\n",
    "        'sgd__penalty': ['l2', 'l1', 'elasticnet'],\n",
    "        'sgd__learning_rate': ['optimal'],\n",
    "        'rfe__estimator': [RandomForestClassifier(random_state=seed)],\n",
    "        'rfe__importance_getter': ['auto']\n",
    "    }\n",
    "]\n",
    "\n",
    "# perform grid search with cross-validation\n",
    "grid_search = GridSearchCV(pipeline,\n",
    "                           param_grid,\n",
    "                           cv=stratified_k_fold,\n",
    "                           verbose=1,\n",
    "                           n_jobs=-1)\n",
    "\n",
    "\n",
    "# X_train and y_train on thresholded data\n",
    "grid_search.fit(X_train_threshold, y_train_threshold)"
   ]
  },
  {
   "cell_type": "code",
   "execution_count": null,
   "id": "2b654146-212f-419b-be78-b082fd72c716",
   "metadata": {},
   "outputs": [],
   "source": [
    "# save trained model to pickle file\n",
    "# but first, get unique datetime tag \n",
    "# to differentiate pickle files\n",
    "from datetime import datetime\n",
    "\n",
    "# get current date and time\n",
    "current_datetime=datetime.now()\n",
    "\n",
    "# print current date and time to check\n",
    "print(current_datetime)\n",
    "\n",
    "# format the datetime for a filename\n",
    "datetime_suffix=current_datetime.strftime(\"%Y-%m-%d_%H-%M-%S\")\n",
    "\n",
    "# create filename with the datetime suffix\n",
    "joblib_file=f'../joblib/1_gridsearch_rfe_sgd_threshold_{datetime_suffix}.pkl'\n",
    "print(joblib_file)\n",
    "\n",
    "# save model\n",
    "joblib.dump(grid_search,joblib_file)"
   ]
  },
  {
   "cell_type": "code",
   "execution_count": null,
   "id": "690a56f2-2273-4e0f-85e1-971314fc411d",
   "metadata": {},
   "outputs": [],
   "source": [
    "# load model\n",
    "joblib_file=f'../joblib/1_gridsearch_rfe_sgd_threshold_{datetime_suffix}.pkl'\n",
    "loaded_grid_search=joblib.load(joblib_file)"
   ]
  },
  {
   "cell_type": "code",
   "execution_count": null,
   "id": "d74eac1b-5777-4a01-b28c-bcc750ef793e",
   "metadata": {},
   "outputs": [],
   "source": [
    "# best score\n",
    "print(f\"best score: {loaded_grid_search.best_score_}\")\n",
    "\n",
    "# best parameters \n",
    "print(f\"best parameters: {loaded_grid_search.best_params_}\")"
   ]
  },
  {
   "cell_type": "code",
   "execution_count": null,
   "id": "ef53050c-471c-4a29-a454-a478ce744a24",
   "metadata": {},
   "outputs": [],
   "source": [
    "# Make predictions on the test set using the best model\n",
    "y_pred_threshold = loaded_grid_search.best_estimator_.predict(X_test_threshold)\n",
    "\n",
    "# Calculate and print the evaluation metrics\n",
    "metrics = {\n",
    "    'accuracy': accuracy_score(y_test_threshold, y_pred_threshold),\n",
    "    'precision': precision_score(y_test_threshold, y_pred_threshold),\n",
    "    'recall': recall_score(y_test_threshold, y_pred_threshold),\n",
    "    'f1': f1_score(y_test_threshold, y_pred_threshold)\n",
    "}\n",
    "\n",
    "print(\"Test Accuracy:\", metrics['accuracy'])\n",
    "print(\"Precision:    \", metrics['precision'])\n",
    "print(\"Recall:       \", metrics['recall'])\n",
    "print(\"F1 Score:     \", metrics['f1'])"
   ]
  },
  {
   "cell_type": "markdown",
   "id": "a5adaff4-4fb0-480c-8ae4-d725756e508f",
   "metadata": {},
   "source": [
    "Still a pretty dismal accuracy result."
   ]
  },
  {
   "cell_type": "markdown",
   "id": "294a3c2c-6860-4ec7-90de-5d02a81236a9",
   "metadata": {},
   "source": [
    "##### Extracting the most important features from the dataset: <a name='rfe_threshold'></a>"
   ]
  },
  {
   "cell_type": "code",
   "execution_count": null,
   "id": "6919d24b-9f4f-412a-a826-3f9fdbb6c585",
   "metadata": {},
   "outputs": [],
   "source": [
    "# get best estimator from grid search\n",
    "best_estimator=loaded_grid_search.best_estimator_\n",
    "\n",
    "# access RFE transformer within pipeline\n",
    "rfe=best_estimator.named_steps['rfe']\n",
    "\n",
    "# get selected features\n",
    "selected_features_indices=rfe.support_\n",
    "\n",
    "# extract names of selected features\n",
    "selected_features=X_train_cat.columns[selected_features_indices]\n",
    "\n",
    "print(f\"The top features that are most important:\\n{selected_features}\")\n",
    "\n",
    "# obtain ranking of features\n",
    "feature_ranking=rfe.ranking_\n",
    "\n",
    "# feature names\n",
    "feature_names=X_train_cat.columns\n",
    "\n",
    "# create dataframe datetime_suffixture names and rankings\n",
    "feature_ranking_df_threshold=pd.DataFrame({'Feature': feature_names,\n",
    "                                 'Ranking': feature_ranking})\n",
    "\n",
    "feature_ranking_df_threshold=feature_ranking_df_cat.sort_values(by='Ranking')\n",
    "\n",
    "feature_ranking_df_threshold"
   ]
  },
  {
   "cell_type": "code",
   "execution_count": null,
   "id": "4fd5642e-88b1-4e44-88fd-995c76c1e538",
   "metadata": {},
   "outputs": [],
   "source": [
    "# save feature rankings\n",
    "feature_ranking_df_threshold.to_csv('../data/1_feature_ranking_df_threshold_20240531.csv')"
   ]
  },
  {
   "cell_type": "code",
   "execution_count": null,
   "id": "e976cda1-8ea0-4898-94a4-b431cc3b24c9",
   "metadata": {},
   "outputs": [],
   "source": [
    "feature_ranking_df_threshold=pd.read_csv('../data/1_feature_ranking_df_threshold_20240531.csv').drop(columns=['Unnamed: 0'])\n",
    "feature_ranking_df_threshold"
   ]
  },
  {
   "cell_type": "markdown",
   "id": "0ff937c8-1152-4e5d-959f-985ef9a455b8",
   "metadata": {},
   "source": [
    "This is a promising result, in that the same features are being shown as important here as well as in previous iterations of the pipeline above. `time`, `contents`, and `courier` are equally important, while `app`, `complete`, and `price` are less important."
   ]
  },
  {
   "cell_type": "markdown",
   "id": "20774623-3468-4c23-85c7-a5acf6ffe62f",
   "metadata": {},
   "source": [
    "Our accuracies are not consistent, so we will shift to using the `hyperopt` package to help us arrive at more optimal hyperparameters."
   ]
  },
  {
   "cell_type": "code",
   "execution_count": null,
   "id": "5a9382d2-dab5-4ee8-8960-ad70d1137884",
   "metadata": {},
   "outputs": [],
   "source": []
  },
  {
   "cell_type": "markdown",
   "id": "aa203fac-e5bf-4257-8c4a-00a3a94334f6",
   "metadata": {},
   "source": [
    "## Other"
   ]
  },
  {
   "cell_type": "markdown",
   "id": "aa1d183a-2b67-4d5a-b99a-0c68720ae041",
   "metadata": {},
   "source": [
    "### eda"
   ]
  },
  {
   "cell_type": "code",
   "execution_count": null,
   "id": "24f44c2e-9c9a-4c84-a013-f1d95850c86b",
   "metadata": {},
   "outputs": [],
   "source": [
    "# data labels\n",
    "x=[0,1]\n",
    "y=[df['y'].value_counts()[0],df['y'].value_counts()[1]]\n",
    "\n",
    "plt.figure(figsize=(6, 4))\n",
    "ax=sns.countplot(data=df, x='y',zorder=3,)\n",
    "plt.title('Distribution of Customer Happiness in Target (y)')\n",
    "plt.xlabel('Target Values\\n0: Unhappy, 1: Happy')\n",
    "plt.ylabel('Count')\n",
    "ax.yaxis.grid(True,zorder=0)\n",
    "for i in range(len(x)):\n",
    "    plt.text(i, y[i], y[i], ha = 'center')\n",
    "plt.savefig('../figs/1_ydistribution.pdf')\n",
    "plt.savefig('../figs/1_ydistribution.png')\n",
    "plt.show()"
   ]
  },
  {
   "cell_type": "markdown",
   "id": "55fc6a51-3b90-4d03-9201-c4c9e6640999",
   "metadata": {},
   "source": [
    "### lazypredict"
   ]
  },
  {
   "cell_type": "code",
   "execution_count": 2,
   "id": "fdd3d5ba-0633-4efb-9900-d48769dcbce3",
   "metadata": {},
   "outputs": [
    {
     "ename": "NameError",
     "evalue": "name 'seed' is not defined",
     "output_type": "error",
     "traceback": [
      "\u001b[0;31m---------------------------------------------------------------------------\u001b[0m",
      "\u001b[0;31mNameError\u001b[0m                                 Traceback (most recent call last)",
      "Cell \u001b[0;32mIn[2], line 3\u001b[0m\n\u001b[1;32m      1\u001b[0m \u001b[38;5;66;03m# save random seed to file to access it later in the notebook\u001b[39;00m\n\u001b[1;32m      2\u001b[0m \u001b[38;5;28;01mwith\u001b[39;00m \u001b[38;5;28mopen\u001b[39m(\u001b[38;5;124m'\u001b[39m\u001b[38;5;124mrandom_seed.txt\u001b[39m\u001b[38;5;124m'\u001b[39m,\u001b[38;5;124m'\u001b[39m\u001b[38;5;124mw\u001b[39m\u001b[38;5;124m'\u001b[39m) \u001b[38;5;28;01mas\u001b[39;00m file:\n\u001b[0;32m----> 3\u001b[0m     file\u001b[38;5;241m.\u001b[39mwrite(\u001b[38;5;28mstr\u001b[39m(seed))\n",
      "\u001b[0;31mNameError\u001b[0m: name 'seed' is not defined"
     ]
    }
   ],
   "source": [
    "# save random seed to file to access it later in the notebook\n",
    "with open('random_seed.txt','w') as file:\n",
    "    file.write(str(seed))"
   ]
  },
  {
   "cell_type": "code",
   "execution_count": null,
   "id": "fe8a958f-577b-4aca-b1dc-c19e11964e70",
   "metadata": {},
   "outputs": [],
   "source": [
    "# verify that the number got saved\n",
    "with open('random_seed.txt','r') as file:\n",
    "    saved_seed=int(file.read())\n",
    "    print(saved_seed)\n",
    "    seed=saved_seed"
   ]
  },
  {
   "cell_type": "code",
   "execution_count": null,
   "id": "896a5a11-aceb-4089-adab-ddef187fa297",
   "metadata": {},
   "outputs": [],
   "source": [
    "# save random seed to file to access it later in the notebook\n",
    "with open('test_size.txt','w') as file:\n",
    "    file.write(str(test_size))\n",
    "    \n",
    "# verify that the number got saved\n",
    "with open('test_size.txt','r') as file:\n",
    "    opened_test_size=float(file.read())\n",
    "    print(opened_test_size)\n",
    "    test_size=opened_test_size"
   ]
  },
  {
   "cell_type": "markdown",
   "id": "672a55a8-0142-473b-9ee5-b4f894cb2811",
   "metadata": {},
   "source": [
    "### `get_dummies`"
   ]
  },
  {
   "cell_type": "code",
   "execution_count": 3,
   "id": "b3240026-37f1-4b53-b9ff-05bfbaac63e8",
   "metadata": {},
   "outputs": [
    {
     "ename": "NameError",
     "evalue": "name 'X' is not defined",
     "output_type": "error",
     "traceback": [
      "\u001b[0;31m---------------------------------------------------------------------------\u001b[0m",
      "\u001b[0;31mNameError\u001b[0m                                 Traceback (most recent call last)",
      "Cell \u001b[0;32mIn[3], line 1\u001b[0m\n\u001b[0;32m----> 1\u001b[0m X\u001b[38;5;241m.\u001b[39mdtypes\n",
      "\u001b[0;31mNameError\u001b[0m: name 'X' is not defined"
     ]
    }
   ],
   "source": [
    "X.dtypes\n",
    "\n",
    "# `pd.get_dummies` requires the data be categorical:\n",
    "    \n",
    "X_cat=X.copy()\n",
    "\n",
    "for col in X_cat.columns:\n",
    "    X_cat[col] = X_cat[col].astype('category')\n",
    "    \n",
    "X_cat.dtypes\n",
    "\n",
    "##### OHE\n",
    "\n",
    "X_ohe=pd.get_dummies(data=X_cat,\n",
    "                     prefix=list(X_cat.columns),\n",
    "                     drop_first=False) # I want to \n",
    "                                       # see all survey responses\n",
    "                                       # that are in dataset\n",
    "\n",
    "# train/test split\n",
    "X_train_ohe, \\\n",
    "X_test_ohe, \\\n",
    "y_train_ohe, \\\n",
    "y_test_ohe = train_test_split(X_ohe, \n",
    "                          y, \n",
    "                          test_size=test_size, \n",
    "                          stratify=y,\n",
    "                          random_state=seed)\n",
    "\n",
    "print(f'''\n",
    "Shapes of splits:\n",
    "X_train: {X_train_ohe.shape}\n",
    "X_test:  {X_test_ohe.shape}\n",
    "y_train: {y_train_ohe.shape}\n",
    "y_test:  {y_test_ohe.shape}\n",
    "''')"
   ]
  },
  {
   "cell_type": "code",
   "execution_count": null,
   "id": "0082a44a-70a3-4aec-808c-f48ade83d9f2",
   "metadata": {},
   "outputs": [],
   "source": [
    "##### Regular train/test splits\n",
    "\n",
    "X_train, \\\n",
    "X_test, \\\n",
    "y_train, \\\n",
    "y_test = train_test_split(X, \n",
    "                          y, \n",
    "                          test_size=test_size, \n",
    "                          stratify=y,\n",
    "                          random_state=seed)"
   ]
  },
  {
   "cell_type": "code",
   "execution_count": null,
   "id": "53f105ef-d812-4712-869f-20a38bdf0040",
   "metadata": {},
   "outputs": [],
   "source": [
    "#### OHE\n",
    "\n",
    "models_ohe, predictions_ohe = clf.fit(X_train=X_train_ohe,\n",
    "                              X_test=X_test_ohe,\n",
    "                              y_train=y_train_ohe,\n",
    "                              y_test=y_test_ohe)\n",
    "\n",
    "# Save `models_ohe` object:\n",
    "    \n",
    "fileDaterSaver(location='../joblib/',\n",
    "               filetype='csv',\n",
    "               object_=models_ohe,\n",
    "               extra='1_lazypredict_modelsohe')\n",
    "\n",
    "models_ohe\n",
    "\n",
    "# models_ohe_file_name='../joblib/1_lazypredict_modelsohe_2024-06-13_16-29-50.csv'\n",
    "\n",
    "# # extract models\n",
    "# models_ohe=pd.read_csv(models_ohe_file_name)\n",
    "# models_ohe\n",
    "\n",
    "# Interesting that the OHE data does not yield many results when run in `LazyClassifier`."
   ]
  },
  {
   "cell_type": "code",
   "execution_count": null,
   "id": "cafea429-804c-4cb0-8dbf-23d15f65dcc8",
   "metadata": {},
   "outputs": [],
   "source": []
  },
  {
   "cell_type": "code",
   "execution_count": null,
   "id": "86effcf7-d097-4db8-a596-7345ae8d0f6c",
   "metadata": {},
   "outputs": [],
   "source": [
    "# models_threshold_file_name='../joblib/1_lazypredict_modelsthreshold_2024-06-13_16-33-28.csv'\n",
    "# # extract models\n",
    "# models_threshold=pd.read_csv(models_threshold_file_name)\n",
    "# models_threshold"
   ]
  },
  {
   "cell_type": "code",
   "execution_count": null,
   "id": "f4c402f0-ac8f-4aa9-b61e-21b11c56f774",
   "metadata": {},
   "outputs": [],
   "source": [
    "#### Regular"
   ]
  },
  {
   "cell_type": "code",
   "execution_count": null,
   "id": "d3231c12-2b1b-4097-855c-43644309f760",
   "metadata": {},
   "outputs": [],
   "source": [
    "models, predictions = clf.fit(X_train=X_train,\n",
    "                              X_test=X_test,\n",
    "                              y_train=y_train,\n",
    "                              y_test=y_test)"
   ]
  },
  {
   "cell_type": "code",
   "execution_count": null,
   "id": "922257c3-5442-48da-8747-e4d53c5e3f61",
   "metadata": {},
   "outputs": [],
   "source": [
    "# models_file_name='../joblib/1_lazypredict_models_2024-06-13_16-36-25.csv'\n",
    "# # extract models\n",
    "# models=pd.read_csv(models_file_name)\n",
    "# models"
   ]
  },
  {
   "cell_type": "markdown",
   "id": "b2f24b76-0b84-47d2-81fd-732fc05aac3a",
   "metadata": {},
   "source": []
  },
  {
   "cell_type": "markdown",
   "id": "f40335f2-b091-4899-acd4-7b592ced5635",
   "metadata": {},
   "source": [
    "With the dataset transformed to be OneHotEncoded, rather than staying categorical, would different correlations jump out at us? Let's see."
   ]
  },
  {
   "cell_type": "code",
   "execution_count": null,
   "id": "4da81159-f665-4f08-a1d7-1e0002d32adf",
   "metadata": {},
   "outputs": [],
   "source": [
    "# read in and setup dataset\n",
    "\n",
    "df=pd.read_csv('../data/1_data.csv')\n",
    "\n",
    "# renaming columns to preserve order\n",
    "# and make them more intelligible\n",
    "df.rename(columns={'Y':'y',\n",
    "                   'X1':'a_time',\n",
    "                   'X2':'b_contents',\n",
    "                   'X3':'c_complete',\n",
    "                   'X4':'d_price',\n",
    "                   'X5':'e_courier',\n",
    "                   'X6':'f_app'},inplace=True)\n",
    "\n",
    "# df.dtypes\n",
    "\n",
    "X=df[[col for col in df.columns if col != 'y']].copy()\n",
    "y=df['y'].copy().astype('int8') # because it's a binary\n",
    "\n",
    "X_cat=X.copy()\n",
    "\n",
    "for col in X_cat.columns:\n",
    "    X_cat[col] = X_cat[col].astype('category')\n",
    "    \n",
    "X_cat.dtypes\n",
    "\n",
    "X_ohe=pd.get_dummies(data=X_cat,\n",
    "                     prefix=list(X_cat.columns),\n",
    "                     drop_first=False) # I want to \n",
    "                                       # see all survey responses\n",
    "                                       # that are in dataset\n",
    "        \n",
    "# train/test split\n",
    "X_train_ohe, \\\n",
    "X_test_ohe, \\\n",
    "y_train_ohe, \\\n",
    "y_test_ohe = train_test_split(X_ohe, \n",
    "                          y, \n",
    "                          test_size=test_size, \n",
    "                          stratify=y,\n",
    "                          random_state=seed)\n",
    "\n",
    "# define thresholding function\n",
    "# if the person scored a category as a 4 or 5,\n",
    "# we give a value of 1. Otherwise, we give it a 0\n",
    "threshold_func = lambda x: 1 if x >= 4 else 0\n",
    "\n",
    "# apply the function to the dataframe\n",
    "X_threshold = X.map(threshold_func)\n",
    "\n",
    "# train/test split\n",
    "X_train_threshold, \\\n",
    "X_test_threshold, \\\n",
    "y_train_threshold, \\\n",
    "y_test_threshold = train_test_split(X_threshold, \n",
    "                          y, \n",
    "                          test_size=test_size, \n",
    "                          stratify=y,\n",
    "                          random_state=seed)\n",
    "\n",
    "X_train, \\\n",
    "X_test, \\\n",
    "y_train, \\\n",
    "y_test = train_test_split(X, \n",
    "                          y, \n",
    "                          test_size=test_size, \n",
    "                          stratify=y,\n",
    "                          random_state=seed)"
   ]
  },
  {
   "cell_type": "markdown",
   "id": "69d06ad9-4a7a-4e5c-b462-62f03f06b53e",
   "metadata": {},
   "source": []
  },
  {
   "cell_type": "code",
   "execution_count": null,
   "id": "d8968e5a-7408-424b-a844-d752fb0bb01c",
   "metadata": {},
   "outputs": [],
   "source": []
  },
  {
   "cell_type": "code",
   "execution_count": null,
   "id": "cf3865a3-d394-4182-bbaa-3fb8ec45e18f",
   "metadata": {},
   "outputs": [],
   "source": []
  },
  {
   "cell_type": "code",
   "execution_count": null,
   "id": "7b5ad61b-eb05-4308-b478-9aff7eb907a1",
   "metadata": {},
   "outputs": [],
   "source": []
  },
  {
   "cell_type": "code",
   "execution_count": null,
   "id": "0445afa8-fc0e-496c-a974-5fe0f8e4fd49",
   "metadata": {},
   "outputs": [],
   "source": []
  },
  {
   "cell_type": "code",
   "execution_count": null,
   "id": "c0d0f881-fef0-4716-8e67-642e191fd152",
   "metadata": {},
   "outputs": [],
   "source": []
  },
  {
   "cell_type": "code",
   "execution_count": null,
   "id": "8f0368a2-a793-47b0-8f82-4f6392d8c89a",
   "metadata": {},
   "outputs": [],
   "source": []
  },
  {
   "cell_type": "markdown",
   "id": "79d37867-868d-434b-9f73-8a49c5ef92d0",
   "metadata": {},
   "source": [
    "### Feature Importances"
   ]
  },
  {
   "cell_type": "code",
   "execution_count": 1,
   "id": "fc92d4da-3755-457e-9c71-f599af8ed9c0",
   "metadata": {},
   "outputs": [
    {
     "ename": "NameError",
     "evalue": "name 'final_clf' is not defined",
     "output_type": "error",
     "traceback": [
      "\u001b[0;31m---------------------------------------------------------------------------\u001b[0m",
      "\u001b[0;31mNameError\u001b[0m                                 Traceback (most recent call last)",
      "Cell \u001b[0;32mIn[1], line 2\u001b[0m\n\u001b[1;32m      1\u001b[0m \u001b[38;5;66;03m# fit\u001b[39;00m\n\u001b[0;32m----> 2\u001b[0m final_clf\u001b[38;5;241m.\u001b[39mfit(X_test_threshold,y_test_threshold)\n\u001b[1;32m      4\u001b[0m \u001b[38;5;66;03m# Plot feature importance\u001b[39;00m\n\u001b[1;32m      5\u001b[0m plot_importance(final_clf, importance_type\u001b[38;5;241m=\u001b[39m\u001b[38;5;124m'\u001b[39m\u001b[38;5;124mgain\u001b[39m\u001b[38;5;124m'\u001b[39m)\n",
      "\u001b[0;31mNameError\u001b[0m: name 'final_clf' is not defined"
     ]
    }
   ],
   "source": [
    "# fit\n",
    "final_clf.fit(X_test_threshold,y_test_threshold)\n",
    "\n",
    "# Plot feature importance\n",
    "plot_importance(final_clf, importance_type='gain')\n",
    "plt.show()"
   ]
  },
  {
   "cell_type": "code",
   "execution_count": null,
   "id": "c9310be8-4498-4fac-a969-b45aa57963ae",
   "metadata": {},
   "outputs": [],
   "source": [
    "# source\n",
    "# https://towardsdatascience.com/\n",
    "# using-shap-values-to-explain-how-your-machine-learning-model-works-732b3f40e137\n",
    "\n",
    "import shap\n",
    "\n",
    "# SHAP values for explainability\n",
    "explainer = shap.Explainer(final_clf)\n",
    "shap_values = explainer(X_test_threshold)\n",
    "shap.summary_plot(shap_values, X_test_threshold)"
   ]
  },
  {
   "cell_type": "code",
   "execution_count": null,
   "id": "baf2fb36-cd73-4579-9627-b55c5aa9ed64",
   "metadata": {},
   "outputs": [],
   "source": [
    "feature_ranking_df_threshold=pd.read_csv('../data/1_feature_ranking_df_threshold_20240531.csv').drop(columns=['Unnamed: 0'])\n",
    "feature_ranking_df_threshold"
   ]
  },
  {
   "cell_type": "code",
   "execution_count": null,
   "id": "7943388f-fb48-427f-a444-b9ae12e9fcba",
   "metadata": {},
   "outputs": [],
   "source": [
    "Next attempt is adapted from tutorial from [MachineLearningMastery.com](#https://machinelearningmastery.com/hyperopt-for-automated-machine-learning-with-scikit-learn/):"
   ]
  },
  {
   "cell_type": "code",
   "execution_count": null,
   "id": "91b87473-f82f-4e9d-81c3-10523bbb409a",
   "metadata": {},
   "outputs": [],
   "source": [
    "from sklearn.model_selection import train_test_split\n",
    "from sklearn.metrics import mean_absolute_error\n",
    "from hpsklearn import HyperoptEstimator\n",
    "from hpsklearn import any_regressor\n",
    "from hpsklearn import any_preprocessing\n",
    "from hyperopt import tpe"
   ]
  },
  {
   "cell_type": "code",
   "execution_count": null,
   "id": "ca8d0e6a-fbfc-42b5-a420-e9e3c6fffa17",
   "metadata": {},
   "outputs": [],
   "source": [
    "# define search\n",
    "model = HyperoptEstimator(regressor=any_regressor('reg'), \n",
    "                          preprocessing=any_preprocessing('pre'), \n",
    "                          loss_fn=mean_absolute_error, \n",
    "                          algo=tpe.suggest, \n",
    "                          max_evals=50, \n",
    "                          trial_timeout=30)#,\n",
    "                          # seed=np.random.default_rng(seed))\n",
    "# perform the search\n",
    "model.fit(X_train_threshold, y_train_threshold)#,random_state=np.random.default_rng(seed))\n",
    "# summarize performance\n",
    "mae = model.score(X_test_threshold, y_test_threshold)\n",
    "print(\"MAE: %.3f\" % mae)\n",
    "# summarize the best model\n",
    "print(model.best_model())"
   ]
  },
  {
   "cell_type": "code",
   "execution_count": null,
   "id": "c321448d-3f0c-47f6-a0bf-df8fcd6080e3",
   "metadata": {},
   "outputs": [],
   "source": [
    "##### More notes on the Pipeline choices:"
   ]
  },
  {
   "cell_type": "markdown",
   "id": "946417f9-ff68-472e-899b-31aca5b377a1",
   "metadata": {},
   "source": [
    "* `RFE` is great for feature selection, as it can help you understand which features are most important. RFE requires a base estimator to assign weights to features. We can use a logistic regression model.\n",
    "* We're using the `SGDClassifier` as the final step in our pipeline as it scored the top accuracy in our `lazypredict` run.\n",
    "* We'll set up a grid search so that we can explore the hyperparameter space to find the best hyperparameters for our dataset."
   ]
  }
 ],
 "metadata": {
  "kernelspec": {
   "display_name": "lightgbm",
   "language": "python",
   "name": "lightgbm"
  },
  "language_info": {
   "codemirror_mode": {
    "name": "ipython",
    "version": 3
   },
   "file_extension": ".py",
   "mimetype": "text/x-python",
   "name": "python",
   "nbconvert_exporter": "python",
   "pygments_lexer": "ipython3",
   "version": "3.12.3"
  }
 },
 "nbformat": 4,
 "nbformat_minor": 5
}
